{
  "nbformat": 4,
  "nbformat_minor": 0,
  "metadata": {
    "colab": {
      "name": "18/2.Обработка аудио",
      "provenance": [],
      "collapsed_sections": [],
      "include_colab_link": true
    },
    "kernelspec": {
      "display_name": "Python 3",
      "name": "python3"
    }
  },
  "cells": [
    {
      "cell_type": "markdown",
      "metadata": {
        "id": "view-in-github",
        "colab_type": "text"
      },
      "source": [
        "<a href=\"https://colab.research.google.com/github/DurdenTyler2008/University-of-AI/blob/main/18_2_%D0%9E%D0%B1%D1%80%D0%B0%D0%B1%D0%BE%D1%82%D0%BA%D0%B0_%D0%B0%D1%83%D0%B4%D0%B8%D0%BE.ipynb\" target=\"_parent\"><img src=\"https://colab.research.google.com/assets/colab-badge.svg\" alt=\"Open In Colab\"/></a>"
      ]
    },
    {
      "cell_type": "markdown",
      "metadata": {
        "id": "5fCEDCU_qrC0"
      },
      "source": [
        "<p><img alt=\"Colaboratory logo\" height=\"45px\" src=\"/img/colab_favicon.ico\" align=\"left\" hspace=\"10px\" vspace=\"0px\"></p>\n",
        "\n",
        "<h1>Обработка аудио </h1>\n",
        "\n",
        "Добейтесь точности распознавания жанров музыки не менее 79% стабильно на последних эпохах обучения.\n",
        "\n",
        "Используйте разбивку 900 записей на обучающую выборку и 100 на проверочную"
      ]
    },
    {
      "cell_type": "code",
      "metadata": {
        "colab": {
          "base_uri": "https://localhost:8080/"
        },
        "id": "XOj_T-WYx-F4",
        "outputId": "092c36e2-fa04-48cc-b260-e964f2b548f8"
      },
      "source": [
        "from google.colab import drive\n",
        "drive.mount('/content/drive')"
      ],
      "execution_count": 1,
      "outputs": [
        {
          "output_type": "stream",
          "text": [
            "Mounted at /content/drive\n"
          ],
          "name": "stdout"
        }
      ]
    },
    {
      "cell_type": "code",
      "metadata": {
        "id": "RlGM1B1ux4S3"
      },
      "source": [
        "from google.colab import files \n",
        "from tensorflow.keras.utils import to_categorical \n",
        "import os \n",
        "import sklearn\n",
        "import librosa\n",
        "import librosa.display\n",
        "from tensorflow.keras.callbacks import ReduceLROnPlateau   # callback для уменьшения шага обучения\n",
        "import numpy as np\n",
        "import pandas as pd\n",
        "import matplotlib.pyplot as plt \n",
        "from tensorflow.keras.optimizers import Adam, RMSprop \n",
        "from tensorflow.keras.models import Sequential, Model \n",
        "from tensorflow.keras.layers import concatenate, Input, Dense, Dropout, BatchNormalization, Flatten, Conv1D, Conv2D, MaxPooling1D, MaxPooling2D, GlobalMaxPooling2D\n",
        "from tensorflow.keras import utils\n",
        "from sklearn.model_selection import train_test_split \n",
        "from sklearn.preprocessing import LabelEncoder, StandardScaler, MinMaxScaler\n",
        "from keras.objectives import binary_crossentropy\n",
        "from keras.layers.advanced_activations import LeakyReLU\n",
        "from keras import backend as K\n",
        "\n",
        "import time\n",
        "import IPython.display as ipd\n",
        "from IPython.display import Audio \n",
        "from tensorflow.keras.models import load_model\n",
        "import keras.losses"
      ],
      "execution_count": 2,
      "outputs": []
    },
    {
      "cell_type": "markdown",
      "metadata": {
        "id": "HOzg9pQgyU5n"
      },
      "source": [
        "**Подготовка данныx**"
      ]
    },
    {
      "cell_type": "code",
      "metadata": {
        "colab": {
          "base_uri": "https://localhost:8080/"
        },
        "id": "qj9CHN-gx4Vr",
        "outputId": "69f54c38-26a4-4a5f-fe17-58ecfced685d"
      },
      "source": [
        "!ls \"/content/drive/MyDrive/Audio/genres_all\""
      ],
      "execution_count": 3,
      "outputs": [
        {
          "output_type": "stream",
          "text": [
            "blues  classical  country  disco  hiphop  jazz\tmetal  pop  reggae  rock\n"
          ],
          "name": "stdout"
        }
      ]
    },
    {
      "cell_type": "code",
      "metadata": {
        "colab": {
          "base_uri": "https://localhost:8080/"
        },
        "id": "sjbR_J9Qx4Yy",
        "outputId": "677d13b4-5e15-4d19-a38e-595bc81337ad"
      },
      "source": [
        "genres = os.listdir(\"/content/drive/MyDrive/Audio/genres_all\")\n",
        "genres"
      ],
      "execution_count": 4,
      "outputs": [
        {
          "output_type": "execute_result",
          "data": {
            "text/plain": [
              "['classical',\n",
              " 'country',\n",
              " 'disco',\n",
              " 'jazz',\n",
              " 'pop',\n",
              " 'rock',\n",
              " 'blues',\n",
              " 'metal',\n",
              " 'reggae',\n",
              " 'hiphop']"
            ]
          },
          "metadata": {
            "tags": []
          },
          "execution_count": 4
        }
      ]
    },
    {
      "cell_type": "code",
      "metadata": {
        "colab": {
          "base_uri": "https://localhost:8080/"
        },
        "id": "DoMipWSHx4bE",
        "outputId": "ff9effb8-d1c9-49f3-f4f5-53901e96409b"
      },
      "source": [
        "path = \"/content/drive/MyDrive/Audio/genres_all/jazz/jazz.00099.au\"\n",
        "\n",
        "x, sr = librosa.load(path)               # x - массив данных временного ряда аудио\n",
        "                                         # sr - частота дискретизации временного ряда\n",
        "print(type(x), type(sr))\n",
        "print(x.shape, sr)\n",
        "print(x.shape[0]/sr)"
      ],
      "execution_count": 5,
      "outputs": [
        {
          "output_type": "stream",
          "text": [
            "<class 'numpy.ndarray'> <class 'int'>\n",
            "(661794,) 22050\n",
            "30.013333333333332\n"
          ],
          "name": "stdout"
        }
      ]
    },
    {
      "cell_type": "code",
      "metadata": {
        "colab": {
          "base_uri": "https://localhost:8080/",
          "height": 350
        },
        "id": "5uQ2a78Nx4dE",
        "outputId": "cd5c9bbe-757a-40a4-bead-d66ca6f2231c"
      },
      "source": [
        "plt.figure(figsize=(14, 5))\n",
        "librosa.display.waveplot(x, sr=sr)  # амплитуда сигнала\n",
        "plt.title(\"амплитуда записи jazz.00099.au\")\n",
        "plt.show()"
      ],
      "execution_count": 6,
      "outputs": [
        {
          "output_type": "display_data",
          "data": {
            "image/png": "[encoded data removed]",
            "text/plain": [
              "<Figure size 1008x360 with 1 Axes>"
            ]
          },
          "metadata": {
            "tags": [],
            "needs_background": "light"
          }
        }
      ]
    },
    {
      "cell_type": "code",
      "metadata": {
        "id": "WqimW0wmx4fV"
      },
      "source": [
        "def get_features_2d(y, sr):\n",
        "\n",
        "    chroma_stft = librosa.feature.chroma_stft(y=y, sr=sr)       # частота цветности\n",
        "    rmse = librosa.feature.rms(y=y)                             # среднеквадратичная амплитуда\n",
        "    spec_cent = librosa.feature.spectral_centroid(y=y, sr=sr)   # спектральный центроид\n",
        "    mfcc = librosa.feature.mfcc(y=y, sr=sr)                     # мел спектральные коэффициенты\n",
        "\n",
        "    return mfcc, chroma_stft, rmse, spec_cent"
      ],
      "execution_count": 7,
      "outputs": []
    },
    {
      "cell_type": "code",
      "metadata": {
        "id": "GCcTy3taxhaD",
        "colab": {
          "base_uri": "https://localhost:8080/"
        },
        "outputId": "bdc3d2c6-d7e5-4465-9aa6-d306bcdc1702"
      },
      "source": [
        "X_train_mfcc = []\n",
        "X_train_chroma_stft = []\n",
        "X_train_rmse = []\n",
        "X_train_spec_cent = []\n",
        "Y_train = []\n",
        "\n",
        "curr_time = time.time()\n",
        "seconds = 20\n",
        "\n",
        "for i in range(len(genres)):\n",
        "\n",
        "    g = genres[i]                                                         # Берём текущий жанр\n",
        " \n",
        "    for filename in os.listdir(f\"./drive/MyDrive/Audio/genres_all/{g}\"):  # Проходим по файлам папки, соответствующей текущему жанру                     \n",
        "        songname = f\"./drive/MyDrive/Audio/genres_all/{g}/{filename}\"     # Получаем имя песни\n",
        "        y, sr = librosa.load(songname, mono=True, duration=seconds)\n",
        "\n",
        "        for sec in range(seconds):\n",
        "\n",
        "            mfcc, chroma_stft, rmse, spec_cent = get_features_2d(y[sec*sr:(sec+1)*sr], sr)\n",
        "            X_train_mfcc.append(mfcc)\n",
        "            X_train_chroma_stft.append(chroma_stft)\n",
        "            X_train_rmse.append(rmse)\n",
        "            X_train_spec_cent.append(spec_cent)\n",
        "            Y_train.append(utils.to_categorical(i, len(genres)))\n",
        "\n",
        "    print(\"Жанр: \", g, \" готов за:\", round(time.time() - curr_time), \"ceк\")\n",
        "    curr_time = time.time()"
      ],
      "execution_count": 8,
      "outputs": [
        {
          "output_type": "stream",
          "text": [
            "/usr/local/lib/python3.7/dist-packages/librosa/core/pitch.py:153: UserWarning: Trying to estimate tuning from empty frequency set.\n",
            "  warnings.warn(\"Trying to estimate tuning from empty frequency set.\")\n"
          ],
          "name": "stderr"
        },
        {
          "output_type": "stream",
          "text": [
            "Жанр:  classical  готов за: 77 ceк\n",
            "Жанр:  country  готов за: 78 ceк\n",
            "Жанр:  disco  готов за: 79 ceк\n",
            "Жанр:  jazz  готов за: 75 ceк\n",
            "Жанр:  pop  готов за: 77 ceк\n",
            "Жанр:  rock  готов за: 74 ceк\n",
            "Жанр:  blues  готов за: 77 ceк\n",
            "Жанр:  metal  готов за: 75 ceк\n",
            "Жанр:  reggae  готов за: 73 ceк\n",
            "Жанр:  hiphop  готов за: 77 ceк\n"
          ],
          "name": "stdout"
        }
      ]
    },
    {
      "cell_type": "code",
      "metadata": {
        "id": "W6Mkmbdxygcl"
      },
      "source": [
        "X_train_mfcc = np.array(X_train_mfcc)\n",
        "X_train_chroma_stft = np.array(X_train_chroma_stft)\n",
        "X_train_rmse = np.array(X_train_rmse)\n",
        "X_train_spec_cent = np.array(X_train_spec_cent)\n",
        "Y_train = np.array(Y_train)"
      ],
      "execution_count": 9,
      "outputs": []
    },
    {
      "cell_type": "code",
      "metadata": {
        "id": "lL5FFETFy2JO"
      },
      "source": [
        "X_train_mfcc = X_train_mfcc.reshape(X_train_mfcc.shape[0], X_train_mfcc.shape[1], X_train_mfcc.shape[2], 1)\n",
        "X_train_chroma_stft = X_train_chroma_stft.reshape(X_train_chroma_stft.shape[0], X_train_chroma_stft.shape[1], X_train_chroma_stft.shape[2], 1)\n",
        "X_train_rmse = X_train_rmse.reshape(X_train_rmse.shape[0], X_train_rmse.shape[2], X_train_rmse.shape[1])\n",
        "X_train_spec_cent = X_train_spec_cent.reshape(X_train_spec_cent.shape[0], X_train_spec_cent.shape[2], X_train_spec_cent.shape[1])"
      ],
      "execution_count": 10,
      "outputs": []
    },
    {
      "cell_type": "code",
      "metadata": {
        "colab": {
          "base_uri": "https://localhost:8080/"
        },
        "id": "C_wjaEUoy2L-",
        "outputId": "184daaf9-f983-450c-9954-f5e67d7f4a0d"
      },
      "source": [
        "print(X_train_mfcc.shape)\n",
        "print(X_train_chroma_stft.shape)\n",
        "print(X_train_rmse.shape)\n",
        "print(X_train_spec_cent.shape)"
      ],
      "execution_count": 11,
      "outputs": [
        {
          "output_type": "stream",
          "text": [
            "(20000, 20, 44, 1)\n",
            "(20000, 12, 44, 1)\n",
            "(20000, 44, 1)\n",
            "(20000, 44, 1)\n"
          ],
          "name": "stdout"
        }
      ]
    },
    {
      "cell_type": "code",
      "metadata": {
        "colab": {
          "base_uri": "https://localhost:8080/"
        },
        "id": "n2J2dvDl9Rmh",
        "outputId": "996f929e-bc10-4a88-a466-a50f081c5fe1"
      },
      "source": [
        "print(Y_train.shape)"
      ],
      "execution_count": 12,
      "outputs": [
        {
          "output_type": "stream",
          "text": [
            "(20000, 10)\n"
          ],
          "name": "stdout"
        }
      ]
    },
    {
      "cell_type": "code",
      "metadata": {
        "id": "eFihOzMyy2R5"
      },
      "source": [
        "val_mask = np.random.sample(20000)\n",
        "train_mask = val_mask < 0.9\n",
        "val_mask = val_mask >= 0.9"
      ],
      "execution_count": 44,
      "outputs": []
    },
    {
      "cell_type": "code",
      "metadata": {
        "id": "rHgfLgp5zBrQ"
      },
      "source": [
        "def scale(X):\n",
        "    min_X = X.min()\n",
        "    max_X = X.max()\n",
        "    X = (X - min_X) / (max_X - min_X)\n",
        "    return X"
      ],
      "execution_count": 46,
      "outputs": []
    },
    {
      "cell_type": "code",
      "metadata": {
        "id": "OIEoo2ahzBt2"
      },
      "source": [
        "X_train_mfcc_scaled  = scale(X_train_mfcc)                # нормализую функцией def scale(X)\n",
        "X_train_chroma_stft_scaled = scale(X_train_chroma_stft)\n",
        "X_train_rmse_scaled = scale(X_train_rmse)\n",
        "X_train_spec_cent_scaled  = scale(X_train_spec_cent)"
      ],
      "execution_count": 50,
      "outputs": []
    },
    {
      "cell_type": "code",
      "metadata": {
        "colab": {
          "base_uri": "https://localhost:8080/"
        },
        "id": "u9-SqJz--CJB",
        "outputId": "57e1705c-f023-40da-cbfc-94638ee10a54"
      },
      "source": [
        "X_train_spec_cent_scaled.shape"
      ],
      "execution_count": 55,
      "outputs": [
        {
          "output_type": "execute_result",
          "data": {
            "text/plain": [
              "(20000, 44, 1)"
            ]
          },
          "metadata": {
            "tags": []
          },
          "execution_count": 55
        }
      ]
    },
    {
      "cell_type": "code",
      "metadata": {
        "id": "C4ks-weyygf2"
      },
      "source": [
        "# ДАННЫЕ ПОДГОТОВЛЕНЫ, СОЗДАЮ НЕЙРОСЕТЬ"
      ],
      "execution_count": null,
      "outputs": []
    },
    {
      "cell_type": "code",
      "metadata": {
        "id": "tb3fLmX-zKz3"
      },
      "source": [
        "input_mfcc = Input((20, 44, 1))\n",
        "input_chroma_stft = Input((12, 44, 1))\n",
        "input_rmse = Input((44, 1))\n",
        "input_spec_cent = Input((44, 1))\n",
        "\n",
        "x1 = BatchNormalization()(input_mfcc)\n",
        "x1 = Conv2D(256, (3, 3), padding=\"same\", activation=\"elu\")(x1)\n",
        "x1 = Conv2D(256, (3, 3), padding=\"same\", activation=\"elu\")(x1)\n",
        "x1 = MaxPooling2D(2)(x1)\n",
        "x1 = Conv2D(128, (3, 3), padding=\"same\", activation=\"elu\")(x1)\n",
        "x1 = Conv2D(128, (3, 3), padding=\"same\", activation=\"elu\")(x1)\n",
        "x1 = MaxPooling2D(2)(x1)\n",
        "x1 = Conv2D(64, (3, 3), padding=\"same\", activation=\"elu\")(x1)\n",
        "x1 = Conv2D(64, (3, 3), padding=\"same\", activation=\"elu\")(x1)\n",
        "x1 = Flatten()(x1)\n",
        "\n",
        "x2 = BatchNormalization()(input_chroma_stft)\n",
        "x2 = Conv2D(256, (3, 3), padding=\"same\", activation=\"elu\")(x2)\n",
        "x2 = Conv2D(256, (3, 3), padding=\"same\", activation=\"elu\")(x2)\n",
        "#x2_gmp_1 = GlobalMaxPooling2D(2)(x2)\n",
        "x2 = MaxPooling2D(2)(x2)\n",
        "x2 = Conv2D(128, (3, 3), padding=\"same\", activation=\"elu\")(x2)\n",
        "x2 = Conv2D(128, (3, 3), padding=\"same\", activation=\"elu\")(x2)\n",
        "#x2_gmp_3 = GlobalMaxPooling2D(2)(x2)\n",
        "x2 = MaxPooling2D(2)(x2)\n",
        "x2 = Conv2D(64, (3, 3), padding=\"same\", activation=\"elu\")(x2)\n",
        "x2 = Conv2D(64, (3, 3), padding=\"same\", activation=\"elu\")(x2)\n",
        "#x2_gmp_3 = GlobalMaxPooling2D(2)(x2)\n",
        "x2 = Flatten()(x2)\n",
        "\n",
        "\n",
        "x3 = BatchNormalization()(input_rmse)\n",
        "x3 = Conv1D(256, 3, padding=\"same\", activation=\"elu\")(x3)\n",
        "x3 = Conv1D(256, 3, padding=\"same\", activation=\"elu\")(x3)\n",
        "x3 = MaxPooling1D(2)(x3)\n",
        "x3 = Conv1D(128, 3, padding=\"same\", activation=\"elu\")(x3)\n",
        "x3 = Conv1D(128, 3, padding=\"same\", activation=\"elu\")(x3)\n",
        "x3 = MaxPooling1D(2)(x3)\n",
        "x3 = Conv1D(64, 3, padding=\"same\", activation=\"elu\")(x3)\n",
        "x3 = Conv1D(64, 3, padding=\"same\", activation=\"elu\")(x3)\n",
        "x3 = Flatten()(x3)\n",
        "\n",
        "x4 = BatchNormalization()(input_spec_cent)\n",
        "x4 = Conv1D(256, 3, padding=\"same\", activation=\"elu\")(x4)\n",
        "x4 = Conv1D(256, 3, padding=\"same\", activation=\"elu\")(x4)\n",
        "x4 = MaxPooling1D(2)(x4)\n",
        "x4 = Conv1D(128, 3, padding=\"same\", activation=\"elu\")(x4)\n",
        "x4 = Conv1D(128, 3, padding=\"same\", activation=\"elu\")(x4)\n",
        "x4 = MaxPooling1D(2)(x4)\n",
        "x4 = Conv1D(64, 3, padding=\"same\", activation=\"elu\")(x4)\n",
        "x4 = Conv1D(64, 3, padding=\"same\", activation=\"elu\")(x4)\n",
        "x4 = Flatten()(x4)\n",
        "\n",
        "x = concatenate([x1, x2, x3, x4])\n",
        "\n",
        "x = Dense(128, activation=\"elu\")(x)\n",
        "x = Dense(10, activation=\"softmax\")(x)"
      ],
      "execution_count": 56,
      "outputs": []
    },
    {
      "cell_type": "code",
      "metadata": {
        "id": "jPzDQ-MrzK2j"
      },
      "source": [
        "model = Model([input_mfcc, input_chroma_stft, input_rmse, input_spec_cent], x)"
      ],
      "execution_count": 57,
      "outputs": []
    },
    {
      "cell_type": "code",
      "metadata": {
        "id": "ldGMdjq2zK65"
      },
      "source": [
        "model.compile(optimizer=Adam(lr=1e-3), loss=\"categorical_crossentropy\", metrics=[\"accuracy\"])"
      ],
      "execution_count": 58,
      "outputs": []
    },
    {
      "cell_type": "code",
      "metadata": {
        "id": "_2Q8NzmPzK9b"
      },
      "source": [
        "reduce_ = ReduceLROnPlateau(monitor=\"val_loss\")"
      ],
      "execution_count": 59,
      "outputs": []
    },
    {
      "cell_type": "code",
      "metadata": {
        "colab": {
          "base_uri": "https://localhost:8080/"
        },
        "id": "J7Ue7BCz9mF9",
        "outputId": "91aed16e-2ad8-4dfe-d9e9-0b304cdbf1e3"
      },
      "source": [
        "Y_train[val_mask].shape"
      ],
      "execution_count": 60,
      "outputs": [
        {
          "output_type": "execute_result",
          "data": {
            "text/plain": [
              "(2037, 10)"
            ]
          },
          "metadata": {
            "tags": []
          },
          "execution_count": 60
        }
      ]
    },
    {
      "cell_type": "code",
      "metadata": {
        "colab": {
          "base_uri": "https://localhost:8080/"
        },
        "id": "jkfLQ-Ozygio",
        "outputId": "d79d9256-d4b5-4c83-c44b-71c43ad0f207"
      },
      "source": [
        "history = model.fit(\n",
        "          [X_train_mfcc_scaled[train_mask], \n",
        "           X_train_chroma_stft_scaled[train_mask], \n",
        "           X_train_rmse_scaled[train_mask], \n",
        "           X_train_spec_cent_scaled[train_mask]],\n",
        "                                       Y_train[train_mask], \n",
        "           epochs=10, batch_size=256,\n",
        "                                        validation_data=(\n",
        "            [X_train_mfcc_scaled[val_mask], \n",
        "             X_train_chroma_stft_scaled[val_mask], \n",
        "             X_train_rmse_scaled[val_mask], \n",
        "             X_train_spec_cent_scaled[val_mask]], \n",
        "                                        Y_train[val_mask]),\n",
        "                                        callbacks=[reduce_])"
      ],
      "execution_count": 62,
      "outputs": [
        {
          "output_type": "stream",
          "text": [
            "Epoch 1/10\n",
            "71/71 [==============================] - 1679s 24s/step - loss: 2.1150 - accuracy: 0.3285 - val_loss: 6.8107 - val_accuracy: 0.1114\n",
            "Epoch 2/10\n",
            "71/71 [==============================] - 1674s 24s/step - loss: 1.0097 - accuracy: 0.6456 - val_loss: 4.8168 - val_accuracy: 0.1060\n",
            "Epoch 3/10\n",
            "71/71 [==============================] - 1680s 24s/step - loss: 0.7637 - accuracy: 0.7329 - val_loss: 4.4141 - val_accuracy: 0.2106\n",
            "Epoch 4/10\n",
            "71/71 [==============================] - 1683s 24s/step - loss: 0.5989 - accuracy: 0.7917 - val_loss: 5.4046 - val_accuracy: 0.2062\n",
            "Epoch 5/10\n",
            "71/71 [==============================] - 1679s 24s/step - loss: 0.4894 - accuracy: 0.8238 - val_loss: 4.5958 - val_accuracy: 0.3348\n",
            "Epoch 6/10\n",
            "71/71 [==============================] - 1680s 24s/step - loss: 0.3762 - accuracy: 0.8671 - val_loss: 2.3073 - val_accuracy: 0.5007\n",
            "Epoch 7/10\n",
            "71/71 [==============================] - 1676s 24s/step - loss: 0.2465 - accuracy: 0.9149 - val_loss: 1.3043 - val_accuracy: 0.6701\n",
            "Epoch 8/10\n",
            "71/71 [==============================] - 1682s 24s/step - loss: 0.2821 - accuracy: 0.9026 - val_loss: 1.1410 - val_accuracy: 0.7045\n",
            "Epoch 9/10\n",
            "71/71 [==============================] - 1689s 24s/step - loss: 0.1568 - accuracy: 0.9428 - val_loss: 0.9820 - val_accuracy: 0.7511\n",
            "Epoch 10/10\n",
            "71/71 [==============================] - 1687s 24s/step - loss: 0.1729 - accuracy: 0.9415 - val_loss: 0.9526 - val_accuracy: 0.7781\n"
          ],
          "name": "stdout"
        }
      ]
    },
    {
      "cell_type": "code",
      "metadata": {
        "colab": {
          "base_uri": "https://localhost:8080/",
          "height": 320
        },
        "id": "_jF088Y-12yO",
        "outputId": "7a67bf2a-850b-4266-98f3-1f70f0a08c41"
      },
      "source": [
        "plt.figure(figsize=(14, 5))\n",
        "plt.plot(history.history[\"accuracy\"])\n",
        "plt.plot(history.history[\"val_accuracy\"])\n",
        "plt.show()"
      ],
      "execution_count": 63,
      "outputs": [
        {
          "output_type": "display_data",
          "data": {
            "image/png": "[encoded data removed]",
            "text/plain": [
              "<Figure size 1008x360 with 1 Axes>"
            ]
          },
          "metadata": {
            "tags": [],
            "needs_background": "light"
          }
        }
      ]
    },
    {
      "cell_type": "code",
      "metadata": {
        "id": "EE_8iKVmNZg4"
      },
      "source": [
        ""
      ],
      "execution_count": null,
      "outputs": []
    },
    {
      "cell_type": "code",
      "metadata": {
        "id": "mFQxDGcoNZkA"
      },
      "source": [
        ""
      ],
      "execution_count": null,
      "outputs": []
    },
    {
      "cell_type": "code",
      "metadata": {
        "colab": {
          "base_uri": "https://localhost:8080/",
          "height": 281
        },
        "id": "C4HZx7Gndbrh",
        "outputId": "0d3d70bd-c7c1-4578-e2bd-cb19b6ec2c07"
      },
      "source": [
        "import numpy as np\n",
        "from matplotlib import pyplot as plt\n",
        "\n",
        "ys = 200 + np.random.randn(100)\n",
        "x = [x for x in range(len(ys))]\n",
        "\n",
        "plt.plot(x, ys, '-')\n",
        "plt.fill_between(x, ys, 195, where=(ys > 195), facecolor='g', alpha=0.6)\n",
        "\n",
        "plt.title(\"Sample Visualization\")\n",
        "plt.show()"
      ],
      "execution_count": 64,
      "outputs": [
        {
          "output_type": "display_data",
          "data": {
            "image/png": "[encoded data removed]",
            "text/plain": [
              "<Figure size 432x288 with 1 Axes>"
            ]
          },
          "metadata": {
            "tags": [],
            "needs_background": "light"
          }
        }
      ]
    }
  ]
}