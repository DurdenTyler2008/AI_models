{
  "nbformat": 4,
  "nbformat_minor": 0,
  "metadata": {
    "colab": {
      "name": "16 basketball  ",
      "provenance": [],
      "collapsed_sections": [],
      "machine_shape": "hm",
      "include_colab_link": true
    },
    "kernelspec": {
      "name": "python3",
      "display_name": "Python 3"
    },
    "accelerator": "GPU"
  },
  "cells": [
    {
      "cell_type": "markdown",
      "metadata": {
        "id": "view-in-github",
        "colab_type": "text"
      },
      "source": [
        "<a href=\"https://colab.research.google.com/github/DurdenTyler2008/University-of-AI/blob/main/16_basketball.ipynb\" target=\"_parent\"><img src=\"https://colab.research.google.com/assets/colab-badge.svg\" alt=\"Open In Colab\"/></a>"
      ]
    },
    {
      "cell_type": "code",
      "metadata": {
        "id": "SkQ2zSVRR_De"
      },
      "source": [
        "import numpy as np \n",
        "import pandas as pd \n",
        "\n",
        "from tensorflow.keras.models import Sequential, Model  \n",
        "from tensorflow.keras.layers import concatenate, Input, Dense, Dropout, BatchNormalization, Flatten \n",
        "from tensorflow.keras import utils #Используем для to_categoricall\n",
        "from tensorflow.keras.optimizers import Adam,Adadelta,SGD,Adagrad,RMSprop \n",
        "from tensorflow.keras.preprocessing.text import Tokenizer, text_to_word_sequence \n",
        "from tensorflow.keras.preprocessing.sequence import pad_sequences \n",
        "from tensorflow.keras.callbacks import LambdaCallback # подключаем колбэки\n",
        "\n",
        "from sklearn.preprocessing import StandardScaler \n",
        "from sklearn.model_selection import train_test_split # Для разбивки на выборки\n",
        "from sklearn.metrics import mean_squared_error, mean_absolute_error #\n",
        "       \n",
        "import random            #Для генерации случайных чисел \n",
        "import math              # Для округления\n",
        "import os                #Для работы с файлами \n",
        "import re \n",
        "import matplotlib.pyplot as plt \n",
        "%matplotlib inline\n",
        "\n",
        "from IPython.display import clear_output\n"
      ],
      "execution_count": 1,
      "outputs": []
    },
    {
      "cell_type": "code",
      "metadata": {
        "id": "3Ywrz1ojUx1-",
        "colab": {
          "base_uri": "https://localhost:8080/"
        },
        "outputId": "30c8738d-0883-4b57-b7ab-ef33091b150d"
      },
      "source": [
        "from google.colab import drive # Подключаем диск\n",
        "drive.mount('/content/drive')"
      ],
      "execution_count": 2,
      "outputs": [
        {
          "output_type": "stream",
          "text": [
            "Mounted at /content/drive\n"
          ],
          "name": "stdout"
        }
      ]
    },
    {
      "cell_type": "code",
      "metadata": {
        "colab": {
          "base_uri": "https://localhost:8080/"
        },
        "id": "6a17VflCoYSf",
        "outputId": "b2fd31c2-2610-41a6-ace1-98ee9eb4060d"
      },
      "source": [
        "!ls \"/content/drive/MyDrive\"    # читаю директории"
      ],
      "execution_count": 3,
      "outputs": [
        {
          "output_type": "stream",
          "text": [
            " 1_2.jpg\t       cars_new.csv\t      sonar.csv\n",
            " 14text.txt\t       city_temperature.csv   train.csv\n",
            " 2_2.jpg\t      'Colab Notebooks'       train_vector_1.csv\n",
            " 3_2.jpg\t       Diseases\t\t      train_vector_1.gsheet\n",
            " 3_3.jpg\t       file_csv.csv\t      unknown\n",
            " 4_2.jpg\t       hh_fixed.csv\t      wine_base.csv\n",
            " 4.jpg\t\t       iris.csv\t\t      zakupki_hack.csv\n",
            " 7_2_kolorpaint.jpeg   lkk_meters.csv\t      Автомобили.zip\n",
            " 7_kolorpaint.jpeg    'Matplotlib&Seaborn'    Болезни.zip\n",
            " 7kolorpaint.png       moscow.csv\t     'Задача 2_6.png'\n",
            " AIFramework\t       Pandas1_ultra-pro     'Тексты писателей.zip'\n",
            " basketball.csv        Pandas2\n"
          ],
          "name": "stdout"
        }
      ]
    },
    {
      "cell_type": "markdown",
      "metadata": {
        "id": "WNrgQ7kEoD-Y"
      },
      "source": [
        "**Предсказание результата баскетбольного матча, по промежуточному результату**\n",
        "\n"
      ]
    },
    {
      "cell_type": "code",
      "metadata": {
        "id": "7Oi5fHYDoMsu",
        "colab": {
          "base_uri": "https://localhost:8080/",
          "height": 360
        },
        "outputId": "c9f1e379-95d3-41c7-de44-8bbd2734a913"
      },
      "source": [
        "df = pd.read_csv('/content/drive/My Drive/basketball.csv', encoding= 'cp1251', sep=';', header=0, index_col=0) \n",
        "print (df.shape)\n",
        "df.head(10) "
      ],
      "execution_count": 4,
      "outputs": [
        {
          "output_type": "stream",
          "text": [
            "(52450, 9)\n"
          ],
          "name": "stdout"
        },
        {
          "output_type": "execute_result",
          "data": {
            "text/html": [
              "<div>\n",
              "<style scoped>\n",
              "    .dataframe tbody tr th:only-of-type {\n",
              "        vertical-align: middle;\n",
              "    }\n",
              "\n",
              "    .dataframe tbody tr th {\n",
              "        vertical-align: top;\n",
              "    }\n",
              "\n",
              "    .dataframe thead th {\n",
              "        text-align: right;\n",
              "    }\n",
              "</style>\n",
              "<table border=\"1\" class=\"dataframe\">\n",
              "  <thead>\n",
              "    <tr style=\"text-align: right;\">\n",
              "      <th></th>\n",
              "      <th>TOTAL</th>\n",
              "      <th>info</th>\n",
              "      <th>Ком. 1</th>\n",
              "      <th>Ком. 2</th>\n",
              "      <th>Минута</th>\n",
              "      <th>Общая минута</th>\n",
              "      <th>Секунда</th>\n",
              "      <th>fcount</th>\n",
              "      <th>ftime</th>\n",
              "    </tr>\n",
              "  </thead>\n",
              "  <tbody>\n",
              "    <tr>\n",
              "      <th>0</th>\n",
              "      <td>98,5</td>\n",
              "      <td>4081445 Новая Зеландия. Женщины. WBC. Регулярн...</td>\n",
              "      <td>2</td>\n",
              "      <td>0.0</td>\n",
              "      <td>1</td>\n",
              "      <td>1.0</td>\n",
              "      <td>30</td>\n",
              "      <td>81</td>\n",
              "      <td>90.0</td>\n",
              "    </tr>\n",
              "    <tr>\n",
              "      <th>1</th>\n",
              "      <td>100,5</td>\n",
              "      <td>4081445 Новая Зеландия. Женщины. WBC. Регулярн...</td>\n",
              "      <td>2</td>\n",
              "      <td>2.0</td>\n",
              "      <td>1</td>\n",
              "      <td>1.0</td>\n",
              "      <td>45</td>\n",
              "      <td>81</td>\n",
              "      <td>105.0</td>\n",
              "    </tr>\n",
              "    <tr>\n",
              "      <th>2</th>\n",
              "      <td>99,5</td>\n",
              "      <td>4081445 Новая Зеландия. Женщины. WBC. Регулярн...</td>\n",
              "      <td>2</td>\n",
              "      <td>2.0</td>\n",
              "      <td>2</td>\n",
              "      <td>2.0</td>\n",
              "      <td>0</td>\n",
              "      <td>81</td>\n",
              "      <td>120.0</td>\n",
              "    </tr>\n",
              "    <tr>\n",
              "      <th>3</th>\n",
              "      <td>98,5</td>\n",
              "      <td>4081445 Новая Зеландия. Женщины. WBC. Регулярн...</td>\n",
              "      <td>2</td>\n",
              "      <td>2.0</td>\n",
              "      <td>2</td>\n",
              "      <td>2.0</td>\n",
              "      <td>30</td>\n",
              "      <td>81</td>\n",
              "      <td>150.0</td>\n",
              "    </tr>\n",
              "    <tr>\n",
              "      <th>4</th>\n",
              "      <td>95,5</td>\n",
              "      <td>4081445 Новая Зеландия. Женщины. WBC. Регулярн...</td>\n",
              "      <td>2</td>\n",
              "      <td>2.0</td>\n",
              "      <td>3</td>\n",
              "      <td>3.0</td>\n",
              "      <td>0</td>\n",
              "      <td>81</td>\n",
              "      <td>180.0</td>\n",
              "    </tr>\n",
              "    <tr>\n",
              "      <th>5</th>\n",
              "      <td>91,5</td>\n",
              "      <td>4081445 Новая Зеландия. Женщины. WBC. Регулярн...</td>\n",
              "      <td>2</td>\n",
              "      <td>2.0</td>\n",
              "      <td>4</td>\n",
              "      <td>4.0</td>\n",
              "      <td>0</td>\n",
              "      <td>81</td>\n",
              "      <td>240.0</td>\n",
              "    </tr>\n",
              "    <tr>\n",
              "      <th>6</th>\n",
              "      <td>93,5</td>\n",
              "      <td>4081445 Новая Зеландия. Женщины. WBC. Регулярн...</td>\n",
              "      <td>4</td>\n",
              "      <td>4.0</td>\n",
              "      <td>4</td>\n",
              "      <td>4.0</td>\n",
              "      <td>30</td>\n",
              "      <td>81</td>\n",
              "      <td>270.0</td>\n",
              "    </tr>\n",
              "    <tr>\n",
              "      <th>7</th>\n",
              "      <td>90,5</td>\n",
              "      <td>4081445 Новая Зеландия. Женщины. WBC. Регулярн...</td>\n",
              "      <td>4</td>\n",
              "      <td>4.0</td>\n",
              "      <td>6</td>\n",
              "      <td>6.0</td>\n",
              "      <td>0</td>\n",
              "      <td>81</td>\n",
              "      <td>360.0</td>\n",
              "    </tr>\n",
              "    <tr>\n",
              "      <th>8</th>\n",
              "      <td>91,5</td>\n",
              "      <td>4081445 Новая Зеландия. Женщины. WBC. Регулярн...</td>\n",
              "      <td>5</td>\n",
              "      <td>4.0</td>\n",
              "      <td>6</td>\n",
              "      <td>6.0</td>\n",
              "      <td>0</td>\n",
              "      <td>81</td>\n",
              "      <td>360.0</td>\n",
              "    </tr>\n",
              "    <tr>\n",
              "      <th>9</th>\n",
              "      <td>92,5</td>\n",
              "      <td>4081445 Новая Зеландия. Женщины. WBC. Регулярн...</td>\n",
              "      <td>5</td>\n",
              "      <td>5.0</td>\n",
              "      <td>6</td>\n",
              "      <td>6.0</td>\n",
              "      <td>0</td>\n",
              "      <td>81</td>\n",
              "      <td>360.0</td>\n",
              "    </tr>\n",
              "  </tbody>\n",
              "</table>\n",
              "</div>"
            ],
            "text/plain": [
              "   TOTAL                                               info  ...  fcount  ftime\n",
              "0   98,5  4081445 Новая Зеландия. Женщины. WBC. Регулярн...  ...      81   90.0\n",
              "1  100,5  4081445 Новая Зеландия. Женщины. WBC. Регулярн...  ...      81  105.0\n",
              "2   99,5  4081445 Новая Зеландия. Женщины. WBC. Регулярн...  ...      81  120.0\n",
              "3   98,5  4081445 Новая Зеландия. Женщины. WBC. Регулярн...  ...      81  150.0\n",
              "4   95,5  4081445 Новая Зеландия. Женщины. WBC. Регулярн...  ...      81  180.0\n",
              "5   91,5  4081445 Новая Зеландия. Женщины. WBC. Регулярн...  ...      81  240.0\n",
              "6   93,5  4081445 Новая Зеландия. Женщины. WBC. Регулярн...  ...      81  270.0\n",
              "7   90,5  4081445 Новая Зеландия. Женщины. WBC. Регулярн...  ...      81  360.0\n",
              "8   91,5  4081445 Новая Зеландия. Женщины. WBC. Регулярн...  ...      81  360.0\n",
              "9   92,5  4081445 Новая Зеландия. Женщины. WBC. Регулярн...  ...      81  360.0\n",
              "\n",
              "[10 rows x 9 columns]"
            ]
          },
          "metadata": {
            "tags": []
          },
          "execution_count": 4
        }
      ]
    },
    {
      "cell_type": "markdown",
      "metadata": {
        "id": "IDbnB2wuoWL5"
      },
      "source": [
        "Total - предсказание алгоритма владельцев базы. Info - данные о матче. Ком.1 и Ком.2 - забитые мячи. Минута и Секунда - прошедшее время тайма. Ftime - прошедшее время игры в секундах без разбивки на таймы.\n",
        "\n",
        "Fcount - финальный результат игры - надо предсказать. "
      ]
    },
    {
      "cell_type": "code",
      "metadata": {
        "id": "ZhF2Zj8doY78"
      },
      "source": [
        "Xtrain = np.array(df[['Ком. 1','Ком. 2', 'ftime']].astype('int'))    # Преобразуем данные в numpy\n",
        "Ytrain = np.array(df['fcount'].astype('int'))                        # Преобразуем данные в numpy"
      ],
      "execution_count": 5,
      "outputs": []
    },
    {
      "cell_type": "code",
      "metadata": {
        "id": "fosEiTQ9ocAu"
      },
      "source": [
        "x_train, x_test, y_train, y_test = train_test_split(Xtrain, Ytrain, test_size=0.05) # Разбиваем по выборкам"
      ],
      "execution_count": 6,
      "outputs": []
    },
    {
      "cell_type": "code",
      "metadata": {
        "id": "YOL4pPypofZy"
      },
      "source": [
        "model = Sequential() \n",
        "\n",
        "model.add(Dense(200,input_dim=3, activation='relu'))\n",
        "model.add(Dense(200, activation='relu'))\n",
        "model.add(Dense(1, activation='linear'))\n",
        "model.compile(loss=\"MAE\", optimizer=\"adam\", metrics=[\"mae\"]) \n",
        "# можно использовать MAE (средняя абсолютная ошибка) или MSE(средняя квадратичная ошибка), результат примерно одинаковый"
      ],
      "execution_count": 10,
      "outputs": []
    },
    {
      "cell_type": "code",
      "metadata": {
        "colab": {
          "base_uri": "https://localhost:8080/"
        },
        "id": "pgb90qg4pW-s",
        "outputId": "a575531a-0c3d-44a6-c250-e32fae2419bb"
      },
      "source": [
        "model.summary()"
      ],
      "execution_count": 11,
      "outputs": [
        {
          "output_type": "stream",
          "text": [
            "Model: \"sequential_1\"\n",
            "_________________________________________________________________\n",
            "Layer (type)                 Output Shape              Param #   \n",
            "=================================================================\n",
            "dense_3 (Dense)              (None, 200)               800       \n",
            "_________________________________________________________________\n",
            "dense_4 (Dense)              (None, 200)               40200     \n",
            "_________________________________________________________________\n",
            "dense_5 (Dense)              (None, 1)                 201       \n",
            "=================================================================\n",
            "Total params: 41,201\n",
            "Trainable params: 41,201\n",
            "Non-trainable params: 0\n",
            "_________________________________________________________________\n"
          ],
          "name": "stdout"
        }
      ]
    },
    {
      "cell_type": "code",
      "metadata": {
        "id": "zYRrOG5uoiuP",
        "colab": {
          "base_uri": "https://localhost:8080/"
        },
        "outputId": "8f11421c-b38c-494f-de22-27a4201e05a1"
      },
      "source": [
        "history = model.fit(x_train, y_train, batch_size=500, epochs=40,validation_data=(x_test, y_test),verbose=1, shuffle=True)"
      ],
      "execution_count": 12,
      "outputs": [
        {
          "output_type": "stream",
          "text": [
            "Epoch 1/40\n",
            "100/100 [==============================] - 1s 4ms/step - loss: 79.1516 - mae: 79.1516 - val_loss: 60.3097 - val_mae: 60.3097\n",
            "Epoch 2/40\n",
            "100/100 [==============================] - 0s 3ms/step - loss: 60.0611 - mae: 60.0611 - val_loss: 58.6969 - val_mae: 58.6969\n",
            "Epoch 3/40\n",
            "100/100 [==============================] - 0s 3ms/step - loss: 58.6332 - mae: 58.6332 - val_loss: 57.9748 - val_mae: 57.9748\n",
            "Epoch 4/40\n",
            "100/100 [==============================] - 0s 3ms/step - loss: 57.1845 - mae: 57.1845 - val_loss: 57.4200 - val_mae: 57.4200\n",
            "Epoch 5/40\n",
            "100/100 [==============================] - 0s 3ms/step - loss: 56.3242 - mae: 56.3242 - val_loss: 54.3630 - val_mae: 54.3630\n",
            "Epoch 6/40\n",
            "100/100 [==============================] - 0s 3ms/step - loss: 53.8314 - mae: 53.8314 - val_loss: 55.5890 - val_mae: 55.5890\n",
            "Epoch 7/40\n",
            "100/100 [==============================] - 0s 3ms/step - loss: 51.6308 - mae: 51.6308 - val_loss: 47.4270 - val_mae: 47.4270\n",
            "Epoch 8/40\n",
            "100/100 [==============================] - 0s 3ms/step - loss: 46.9767 - mae: 46.9767 - val_loss: 44.4854 - val_mae: 44.4854\n",
            "Epoch 9/40\n",
            "100/100 [==============================] - 0s 3ms/step - loss: 41.6873 - mae: 41.6873 - val_loss: 34.7747 - val_mae: 34.7747\n",
            "Epoch 10/40\n",
            "100/100 [==============================] - 0s 3ms/step - loss: 35.4133 - mae: 35.4133 - val_loss: 27.5628 - val_mae: 27.5628\n",
            "Epoch 11/40\n",
            "100/100 [==============================] - 0s 3ms/step - loss: 34.5100 - mae: 34.5100 - val_loss: 24.1680 - val_mae: 24.1680\n",
            "Epoch 12/40\n",
            "100/100 [==============================] - 0s 3ms/step - loss: 29.0977 - mae: 29.0977 - val_loss: 22.8857 - val_mae: 22.8857\n",
            "Epoch 13/40\n",
            "100/100 [==============================] - 0s 3ms/step - loss: 29.6136 - mae: 29.6136 - val_loss: 20.7092 - val_mae: 20.7092\n",
            "Epoch 14/40\n",
            "100/100 [==============================] - 0s 3ms/step - loss: 17.8122 - mae: 17.8122 - val_loss: 19.3756 - val_mae: 19.3756\n",
            "Epoch 15/40\n",
            "100/100 [==============================] - 0s 4ms/step - loss: 21.3361 - mae: 21.3361 - val_loss: 14.5807 - val_mae: 14.5807\n",
            "Epoch 16/40\n",
            "100/100 [==============================] - 0s 3ms/step - loss: 20.9741 - mae: 20.9741 - val_loss: 24.4521 - val_mae: 24.4521\n",
            "Epoch 17/40\n",
            "100/100 [==============================] - 0s 3ms/step - loss: 20.6438 - mae: 20.6438 - val_loss: 34.5719 - val_mae: 34.5719\n",
            "Epoch 18/40\n",
            "100/100 [==============================] - 0s 3ms/step - loss: 21.2638 - mae: 21.2638 - val_loss: 22.6439 - val_mae: 22.6439\n",
            "Epoch 19/40\n",
            "100/100 [==============================] - 0s 3ms/step - loss: 22.3407 - mae: 22.3407 - val_loss: 12.7999 - val_mae: 12.7999\n",
            "Epoch 20/40\n",
            "100/100 [==============================] - 0s 3ms/step - loss: 20.3343 - mae: 20.3343 - val_loss: 12.7049 - val_mae: 12.7049\n",
            "Epoch 21/40\n",
            "100/100 [==============================] - 0s 3ms/step - loss: 15.6361 - mae: 15.6361 - val_loss: 15.5817 - val_mae: 15.5817\n",
            "Epoch 22/40\n",
            "100/100 [==============================] - 0s 3ms/step - loss: 18.0948 - mae: 18.0948 - val_loss: 13.1042 - val_mae: 13.1042\n",
            "Epoch 23/40\n",
            "100/100 [==============================] - 0s 3ms/step - loss: 16.9980 - mae: 16.9980 - val_loss: 16.9626 - val_mae: 16.9626\n",
            "Epoch 24/40\n",
            "100/100 [==============================] - 0s 3ms/step - loss: 14.1402 - mae: 14.1402 - val_loss: 11.8019 - val_mae: 11.8019\n",
            "Epoch 25/40\n",
            "100/100 [==============================] - 0s 3ms/step - loss: 21.6170 - mae: 21.6170 - val_loss: 34.0870 - val_mae: 34.0870\n",
            "Epoch 26/40\n",
            "100/100 [==============================] - 0s 3ms/step - loss: 23.5387 - mae: 23.5387 - val_loss: 12.3290 - val_mae: 12.3290\n",
            "Epoch 27/40\n",
            "100/100 [==============================] - 0s 3ms/step - loss: 13.7083 - mae: 13.7083 - val_loss: 27.6863 - val_mae: 27.6863\n",
            "Epoch 28/40\n",
            "100/100 [==============================] - 0s 3ms/step - loss: 17.7560 - mae: 17.7560 - val_loss: 13.0207 - val_mae: 13.0207\n",
            "Epoch 29/40\n",
            "100/100 [==============================] - 0s 3ms/step - loss: 13.4568 - mae: 13.4568 - val_loss: 21.3106 - val_mae: 21.3106\n",
            "Epoch 30/40\n",
            "100/100 [==============================] - 0s 3ms/step - loss: 14.6716 - mae: 14.6716 - val_loss: 12.9340 - val_mae: 12.9340\n",
            "Epoch 31/40\n",
            "100/100 [==============================] - 0s 3ms/step - loss: 13.5142 - mae: 13.5142 - val_loss: 19.4734 - val_mae: 19.4734\n",
            "Epoch 32/40\n",
            "100/100 [==============================] - 0s 3ms/step - loss: 18.0672 - mae: 18.0672 - val_loss: 15.7261 - val_mae: 15.7261\n",
            "Epoch 33/40\n",
            "100/100 [==============================] - 0s 3ms/step - loss: 13.6460 - mae: 13.6460 - val_loss: 13.7528 - val_mae: 13.7528\n",
            "Epoch 34/40\n",
            "100/100 [==============================] - 0s 3ms/step - loss: 17.3695 - mae: 17.3695 - val_loss: 12.1411 - val_mae: 12.1411\n",
            "Epoch 35/40\n",
            "100/100 [==============================] - 0s 3ms/step - loss: 14.9068 - mae: 14.9068 - val_loss: 13.2024 - val_mae: 13.2024\n",
            "Epoch 36/40\n",
            "100/100 [==============================] - 0s 3ms/step - loss: 13.3537 - mae: 13.3537 - val_loss: 15.6033 - val_mae: 15.6033\n",
            "Epoch 37/40\n",
            "100/100 [==============================] - 0s 3ms/step - loss: 13.7274 - mae: 13.7274 - val_loss: 28.7358 - val_mae: 28.7358\n",
            "Epoch 38/40\n",
            "100/100 [==============================] - 0s 3ms/step - loss: 19.1749 - mae: 19.1749 - val_loss: 11.7154 - val_mae: 11.7154\n",
            "Epoch 39/40\n",
            "100/100 [==============================] - 0s 3ms/step - loss: 12.4297 - mae: 12.4297 - val_loss: 18.9619 - val_mae: 18.9619\n",
            "Epoch 40/40\n",
            "100/100 [==============================] - 0s 3ms/step - loss: 15.9091 - mae: 15.9091 - val_loss: 17.2803 - val_mae: 17.2803\n"
          ],
          "name": "stdout"
        }
      ]
    },
    {
      "cell_type": "code",
      "metadata": {
        "id": "OPxo7RqEolww",
        "colab": {
          "base_uri": "https://localhost:8080/"
        },
        "outputId": "50401ca5-d99b-43ee-cca8-1d6dd8033dd9"
      },
      "source": [
        "pred = model.predict(x_test)\n",
        "for i in range(len(pred[:10])): # Выводим результаты\n",
        "    print('Данные -',x_test[i],'  Предсказание - ',pred[i],'   Результат игры - ', y_test[i])"
      ],
      "execution_count": 14,
      "outputs": [
        {
          "output_type": "stream",
          "text": [
            "Данные - [ 12  14 705]   Предсказание -  [115.99476]    Результат игры -  81\n",
            "Данные - [ 26  19 735]   Предсказание -  [141.27605]    Результат игры -  141\n",
            "Данные - [  45   33 1500]   Предсказание -  [116.54158]    Результат игры -  133\n",
            "Данные - [  50   61 1470]   Предсказание -  [161.15181]    Результат игры -  192\n",
            "Данные - [  66   74 2145]   Предсказание -  [143.05092]    Результат игры -  150\n",
            "Данные - [  2   2 120]   Предсказание -  [142.83456]    Результат игры -  153\n",
            "Данные - [  59   60 2130]   Предсказание -  [121.40642]    Результат игры -  147\n",
            "Данные - [  37   55 1725]   Предсказание -  [119.87292]    Результат игры -  119\n",
            "Данные - [  6   0 120]   Предсказание -  [146.92491]    Результат игры -  155\n",
            "Данные - [  40   29 1095]   Предсказание -  [137.99997]    Результат игры -  140\n"
          ],
          "name": "stdout"
        }
      ]
    },
    {
      "cell_type": "code",
      "metadata": {
        "id": "gdW3PNrku8ow"
      },
      "source": [
        ""
      ],
      "execution_count": null,
      "outputs": []
    }
  ]
}