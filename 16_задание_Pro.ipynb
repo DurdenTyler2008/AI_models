{
  "nbformat": 4,
  "nbformat_minor": 0,
  "metadata": {
    "colab": {
      "name": "16 задание Pro",
      "provenance": [],
      "collapsed_sections": [],
      "machine_shape": "hm",
      "include_colab_link": true
    },
    "kernelspec": {
      "name": "python3",
      "display_name": "Python 3"
    },
    "accelerator": "GPU"
  },
  "cells": [
    {
      "cell_type": "markdown",
      "metadata": {
        "id": "view-in-github",
        "colab_type": "text"
      },
      "source": [
        "<a href=\"https://colab.research.google.com/github/DurdenTyler2008/University-of-AI/blob/main/16_%D0%B7%D0%B0%D0%B4%D0%B0%D0%BD%D0%B8%D0%B5_Pro.ipynb\" target=\"_parent\"><img src=\"https://colab.research.google.com/assets/colab-badge.svg\" alt=\"Open In Colab\"/></a>"
      ]
    },
    {
      "cell_type": "markdown",
      "metadata": {
        "id": "Xls0bGCyT7aM"
      },
      "source": [
        "В одной из баз - резюме или квартир - сделайте callback, который будет выводить на каждой эпохе:\n",
        "\n",
        "1. Текущую mae\n",
        "2. График mae по всем эпохам на обучающей и проверочная выборках\n",
        "3. Текущий scatter\n",
        "4. Текущую гистограмму ошибок\n",
        "5. Время обучения на эпохе, время обучения суммарное и сколько времени остаётся до конца обучения\n",
        "6. Изменяется ли шаг обучения, если начинается “пила” или mae выходит на плато\n",
        "7. Сохраняет в .h5 сеть с лучшей точностью\n",
        "*желательно использовать clear_output и verbose=0\n",
        "**callback должен быть самописный, нельзя использовать готовые"
      ]
    },
    {
      "cell_type": "code",
      "metadata": {
        "id": "SkQ2zSVRR_De"
      },
      "source": [
        "import numpy as np \n",
        "import pandas as pd \n",
        "\n",
        "from tensorflow.keras.models import Sequential, Model \n",
        "from tensorflow.keras.layers import concatenate, Input, Dense, Dropout, BatchNormalization, Flatten #\n",
        "from tensorflow.keras import utils \n",
        "from tensorflow.keras.optimizers import Adam,Adadelta,SGD,Adagrad,RMSprop \n",
        "from tensorflow.keras.preprocessing.text import Tokenizer, text_to_word_sequence \n",
        "from tensorflow.keras.preprocessing.sequence import pad_sequences \n",
        "from tensorflow.keras.callbacks import LambdaCallback \n",
        "from tensorflow.keras.models import load_model\n",
        "\n",
        "from sklearn.preprocessing import StandardScaler \n",
        "from sklearn.model_selection import train_test_split \n",
        "from sklearn.metrics import mean_squared_error, mean_absolute_error \n",
        "\n",
        "import time\n",
        "import random  \n",
        "import math \n",
        "import os\n",
        "import re \n",
        "import matplotlib.pyplot as plt \n",
        "%matplotlib inline\n",
        "\n",
        "from IPython.display import clear_output\n"
      ],
      "execution_count": 1,
      "outputs": []
    },
    {
      "cell_type": "code",
      "metadata": {
        "id": "3Ywrz1ojUx1-",
        "colab": {
          "base_uri": "https://localhost:8080/"
        },
        "outputId": "fb237372-14ef-4768-f59c-8ddd4640a2d1"
      },
      "source": [
        "from google.colab import drive # Подключаем диск\n",
        "drive.mount('/content/drive')"
      ],
      "execution_count": 2,
      "outputs": [
        {
          "output_type": "stream",
          "text": [
            "Mounted at /content/drive\n"
          ],
          "name": "stdout"
        }
      ]
    },
    {
      "cell_type": "code",
      "metadata": {
        "colab": {
          "base_uri": "https://localhost:8080/"
        },
        "id": "vbm50qKeODNS",
        "outputId": "071a09d2-0517-4a90-96ac-8e142288e0e1"
      },
      "source": [
        "!ls \"/content/drive/MyDrive\"    # читаю директории"
      ],
      "execution_count": 6,
      "outputs": [
        {
          "output_type": "stream",
          "text": [
            " 1_2.jpg\t       city_temperature.csv   sonar.csv\n",
            " 14text.txt\t      'Colab Notebooks'       train.csv\n",
            " 2_2.jpg\t       Diseases\t\t      train_vector_1.csv\n",
            " 3_2.jpg\t       file_csv.csv\t      train_vector_1.gsheet\n",
            " 3_3.jpg\t       hh_fixed.csv\t      unknown\n",
            " 4_2.jpg\t       iris.csv\t\t      wine_base.csv\n",
            " 4.jpg\t\t       lkk_meters.csv\t      zakupki_hack.csv\n",
            " 7_2_kolorpaint.jpeg  'Matplotlib&Seaborn'    Автомобили.zip\n",
            " 7_kolorpaint.jpeg     moscow.csv\t      Болезни.zip\n",
            " 7kolorpaint.png       moscow.h5\t     'Задача 2_6.png'\n",
            " AIFramework\t       Pandas1_ultra-pro     'Тексты писателей.zip'\n",
            " cars_new.csv\t       Pandas2\n"
          ],
          "name": "stdout"
        }
      ]
    },
    {
      "cell_type": "code",
      "metadata": {
        "colab": {
          "base_uri": "https://localhost:8080/",
          "height": 313
        },
        "id": "hZg6qQ0fODVd",
        "outputId": "1be0e52e-f9f8-444b-bd44-ee546f5933db"
      },
      "source": [
        "df = pd.read_csv(\"/content/drive/My Drive/moscow.csv\", sep=\";\")   # читаю файл\n",
        "df.head()"
      ],
      "execution_count": 3,
      "outputs": [
        {
          "output_type": "execute_result",
          "data": {
            "text/html": [
              "<div>\n",
              "<style scoped>\n",
              "    .dataframe tbody tr th:only-of-type {\n",
              "        vertical-align: middle;\n",
              "    }\n",
              "\n",
              "    .dataframe tbody tr th {\n",
              "        vertical-align: top;\n",
              "    }\n",
              "\n",
              "    .dataframe thead th {\n",
              "        text-align: right;\n",
              "    }\n",
              "</style>\n",
              "<table border=\"1\" class=\"dataframe\">\n",
              "  <thead>\n",
              "    <tr style=\"text-align: right;\">\n",
              "      <th></th>\n",
              "      <th>Комнат</th>\n",
              "      <th>Метро / ЖД станции</th>\n",
              "      <th>От станции</th>\n",
              "      <th>Дом</th>\n",
              "      <th>Балкон</th>\n",
              "      <th>Санузел</th>\n",
              "      <th>Площадь</th>\n",
              "      <th>Цена, руб.</th>\n",
              "      <th>ГРМ</th>\n",
              "      <th>Бонус агенту</th>\n",
              "      <th>Дата</th>\n",
              "      <th>Кол-во дней в экспозиции</th>\n",
              "      <th>Источник</th>\n",
              "      <th>Примечание</th>\n",
              "    </tr>\n",
              "  </thead>\n",
              "  <tbody>\n",
              "    <tr>\n",
              "      <th>0</th>\n",
              "      <td>1</td>\n",
              "      <td>Шелепиха м.</td>\n",
              "      <td>12п</td>\n",
              "      <td>35/37 М</td>\n",
              "      <td>NaN</td>\n",
              "      <td>2</td>\n",
              "      <td>64.1/23/20</td>\n",
              "      <td>19500000.0</td>\n",
              "      <td>NaN</td>\n",
              "      <td>NaN</td>\n",
              "      <td>25.07.2019</td>\n",
              "      <td>1.0</td>\n",
              "      <td>Привлекательные</td>\n",
              "      <td>Собственность оформлена! Ключи на руках! Опера...</td>\n",
              "    </tr>\n",
              "    <tr>\n",
              "      <th>1</th>\n",
              "      <td>Для заметок:</td>\n",
              "      <td>NaN</td>\n",
              "      <td>NaN</td>\n",
              "      <td>NaN</td>\n",
              "      <td>NaN</td>\n",
              "      <td>NaN</td>\n",
              "      <td>NaN</td>\n",
              "      <td>NaN</td>\n",
              "      <td>NaN</td>\n",
              "      <td>NaN</td>\n",
              "      <td>NaN</td>\n",
              "      <td>NaN</td>\n",
              "      <td>NaN</td>\n",
              "      <td>NaN</td>\n",
              "    </tr>\n",
              "    <tr>\n",
              "      <th>2</th>\n",
              "      <td>1</td>\n",
              "      <td>Пятницкое шоссе м.</td>\n",
              "      <td>30т</td>\n",
              "      <td>11/14 П</td>\n",
              "      <td>Л</td>\n",
              "      <td>Р</td>\n",
              "      <td>38.4/17/9</td>\n",
              "      <td>4800000.0</td>\n",
              "      <td>NaN</td>\n",
              "      <td>NaN</td>\n",
              "      <td>25.07.2019</td>\n",
              "      <td>2.0</td>\n",
              "      <td>Привлекательные</td>\n",
              "      <td>Зеленоград к.1820 однокомнатная квартира общ.3...</td>\n",
              "    </tr>\n",
              "    <tr>\n",
              "      <th>3</th>\n",
              "      <td>Для заметок:</td>\n",
              "      <td>NaN</td>\n",
              "      <td>NaN</td>\n",
              "      <td>NaN</td>\n",
              "      <td>NaN</td>\n",
              "      <td>NaN</td>\n",
              "      <td>NaN</td>\n",
              "      <td>NaN</td>\n",
              "      <td>NaN</td>\n",
              "      <td>NaN</td>\n",
              "      <td>NaN</td>\n",
              "      <td>NaN</td>\n",
              "      <td>NaN</td>\n",
              "      <td>NaN</td>\n",
              "    </tr>\n",
              "    <tr>\n",
              "      <th>4</th>\n",
              "      <td>1</td>\n",
              "      <td>Планерная м.</td>\n",
              "      <td>5т</td>\n",
              "      <td>11/22 П</td>\n",
              "      <td>Б</td>\n",
              "      <td>С</td>\n",
              "      <td>38.2/19.9/9.9</td>\n",
              "      <td>7990000.0</td>\n",
              "      <td>NaN</td>\n",
              "      <td>NaN</td>\n",
              "      <td>25.07.2019</td>\n",
              "      <td>4.0</td>\n",
              "      <td>Привлекательные</td>\n",
              "      <td>Уютная, светлая квартира, застекленный балкон ...</td>\n",
              "    </tr>\n",
              "  </tbody>\n",
              "</table>\n",
              "</div>"
            ],
            "text/plain": [
              "         Комнат  ...                                         Примечание\n",
              "0             1  ...  Собственность оформлена! Ключи на руках! Опера...\n",
              "1  Для заметок:  ...                                                NaN\n",
              "2             1  ...  Зеленоград к.1820 однокомнатная квартира общ.3...\n",
              "3  Для заметок:  ...                                                NaN\n",
              "4             1  ...  Уютная, светлая квартира, застекленный балкон ...\n",
              "\n",
              "[5 rows x 14 columns]"
            ]
          },
          "metadata": {
            "tags": []
          },
          "execution_count": 3
        }
      ]
    },
    {
      "cell_type": "code",
      "metadata": {
        "colab": {
          "base_uri": "https://localhost:8080/",
          "height": 330
        },
        "id": "_RCctChrODcG",
        "outputId": "bff28527-373c-416b-8c85-372c19af452d"
      },
      "source": [
        "df = df.iloc[::2,:]       # избавляюсь от лишних строк\n",
        "data = df.values   \n",
        "df.head() "
      ],
      "execution_count": 4,
      "outputs": [
        {
          "output_type": "execute_result",
          "data": {
            "text/html": [
              "<div>\n",
              "<style scoped>\n",
              "    .dataframe tbody tr th:only-of-type {\n",
              "        vertical-align: middle;\n",
              "    }\n",
              "\n",
              "    .dataframe tbody tr th {\n",
              "        vertical-align: top;\n",
              "    }\n",
              "\n",
              "    .dataframe thead th {\n",
              "        text-align: right;\n",
              "    }\n",
              "</style>\n",
              "<table border=\"1\" class=\"dataframe\">\n",
              "  <thead>\n",
              "    <tr style=\"text-align: right;\">\n",
              "      <th></th>\n",
              "      <th>Комнат</th>\n",
              "      <th>Метро / ЖД станции</th>\n",
              "      <th>От станции</th>\n",
              "      <th>Дом</th>\n",
              "      <th>Балкон</th>\n",
              "      <th>Санузел</th>\n",
              "      <th>Площадь</th>\n",
              "      <th>Цена, руб.</th>\n",
              "      <th>ГРМ</th>\n",
              "      <th>Бонус агенту</th>\n",
              "      <th>Дата</th>\n",
              "      <th>Кол-во дней в экспозиции</th>\n",
              "      <th>Источник</th>\n",
              "      <th>Примечание</th>\n",
              "    </tr>\n",
              "  </thead>\n",
              "  <tbody>\n",
              "    <tr>\n",
              "      <th>0</th>\n",
              "      <td>1</td>\n",
              "      <td>Шелепиха м.</td>\n",
              "      <td>12п</td>\n",
              "      <td>35/37 М</td>\n",
              "      <td>NaN</td>\n",
              "      <td>2</td>\n",
              "      <td>64.1/23/20</td>\n",
              "      <td>19500000.0</td>\n",
              "      <td>NaN</td>\n",
              "      <td>NaN</td>\n",
              "      <td>25.07.2019</td>\n",
              "      <td>1.0</td>\n",
              "      <td>Привлекательные</td>\n",
              "      <td>Собственность оформлена! Ключи на руках! Опера...</td>\n",
              "    </tr>\n",
              "    <tr>\n",
              "      <th>2</th>\n",
              "      <td>1</td>\n",
              "      <td>Пятницкое шоссе м.</td>\n",
              "      <td>30т</td>\n",
              "      <td>11/14 П</td>\n",
              "      <td>Л</td>\n",
              "      <td>Р</td>\n",
              "      <td>38.4/17/9</td>\n",
              "      <td>4800000.0</td>\n",
              "      <td>NaN</td>\n",
              "      <td>NaN</td>\n",
              "      <td>25.07.2019</td>\n",
              "      <td>2.0</td>\n",
              "      <td>Привлекательные</td>\n",
              "      <td>Зеленоград к.1820 однокомнатная квартира общ.3...</td>\n",
              "    </tr>\n",
              "    <tr>\n",
              "      <th>4</th>\n",
              "      <td>1</td>\n",
              "      <td>Планерная м.</td>\n",
              "      <td>5т</td>\n",
              "      <td>11/22 П</td>\n",
              "      <td>Б</td>\n",
              "      <td>С</td>\n",
              "      <td>38.2/19.9/9.9</td>\n",
              "      <td>7990000.0</td>\n",
              "      <td>NaN</td>\n",
              "      <td>NaN</td>\n",
              "      <td>25.07.2019</td>\n",
              "      <td>4.0</td>\n",
              "      <td>Привлекательные</td>\n",
              "      <td>Уютная, светлая квартира, застекленный балкон ...</td>\n",
              "    </tr>\n",
              "    <tr>\n",
              "      <th>6</th>\n",
              "      <td>1</td>\n",
              "      <td>Шаболовская м.</td>\n",
              "      <td>12п</td>\n",
              "      <td>8/12 ?</td>\n",
              "      <td>Б</td>\n",
              "      <td>Р</td>\n",
              "      <td>38/15/7</td>\n",
              "      <td>11200000.0</td>\n",
              "      <td>NaN</td>\n",
              "      <td>NaN</td>\n",
              "      <td>25.07.2019</td>\n",
              "      <td>7.0</td>\n",
              "      <td>Привлекательные</td>\n",
              "      <td>Предлагаю 1- комн квартиру, в шаговой доступно...</td>\n",
              "    </tr>\n",
              "    <tr>\n",
              "      <th>8</th>\n",
              "      <td>1</td>\n",
              "      <td>Бабушкинская м.</td>\n",
              "      <td>15п</td>\n",
              "      <td>4/14 П</td>\n",
              "      <td>NaN</td>\n",
              "      <td>С</td>\n",
              "      <td>34/17/8</td>\n",
              "      <td>6250000.0</td>\n",
              "      <td>NaN</td>\n",
              "      <td>NaN</td>\n",
              "      <td>25.07.2019</td>\n",
              "      <td>11.0</td>\n",
              "      <td>Привлекательные</td>\n",
              "      <td>Продается хорошая 1 комнатная квартира. 1 взро...</td>\n",
              "    </tr>\n",
              "  </tbody>\n",
              "</table>\n",
              "</div>"
            ],
            "text/plain": [
              "  Комнат  ...                                         Примечание\n",
              "0      1  ...  Собственность оформлена! Ключи на руках! Опера...\n",
              "2      1  ...  Зеленоград к.1820 однокомнатная квартира общ.3...\n",
              "4      1  ...  Уютная, светлая квартира, застекленный балкон ...\n",
              "6      1  ...  Предлагаю 1- комн квартиру, в шаговой доступно...\n",
              "8      1  ...  Продается хорошая 1 комнатная квартира. 1 взро...\n",
              "\n",
              "[5 rows x 14 columns]"
            ]
          },
          "metadata": {
            "tags": []
          },
          "execution_count": 4
        }
      ]
    },
    {
      "cell_type": "code",
      "metadata": {
        "colab": {
          "base_uri": "https://localhost:8080/"
        },
        "id": "2uL8J-d3ODjH",
        "outputId": "7b9cdfe7-2411-48fa-9fde-b12c82c99d21"
      },
      "source": [
        "print(\"названия столбов: \\n\", df.columns)"
      ],
      "execution_count": 5,
      "outputs": [
        {
          "output_type": "stream",
          "text": [
            "названия столбов: \n",
            " Index(['Комнат', 'Метро / ЖД станции', 'От станции', 'Дом', 'Балкон',\n",
            "       'Санузел', 'Площадь', 'Цена, руб.', 'ГРМ', 'Бонус агенту', 'Дата',\n",
            "       'Кол-во дней в экспозиции', 'Источник', 'Примечание'],\n",
            "      dtype='object')\n"
          ],
          "name": "stdout"
        }
      ]
    },
    {
      "cell_type": "code",
      "metadata": {
        "id": "zI6wsiCTOxm-"
      },
      "source": [
        "# xTrain - Комнат; Метро / ЖД станции; От станции; Дом; Балкон; Санузел; Площадь (числовые значения)\n",
        "# xTrainC - Примечание (тексты о квартирах)\n",
        "# yTrain Цена, руб()"
      ],
      "execution_count": null,
      "outputs": []
    },
    {
      "cell_type": "markdown",
      "metadata": {
        "id": "6B4_B1KoPPVA"
      },
      "source": [
        "Обрабатываю столбец 0 \"Комнат\""
      ]
    },
    {
      "cell_type": "code",
      "metadata": {
        "id": "1WhnY1cXOxuK"
      },
      "source": [
        "def getRoomsCount(d, maxRoomCount): # функция количества комнат\n",
        "    roomsCountStr = d[0]            # d[0] строкa с числом комнат\n",
        "\n",
        "    roomsCount = 0\n",
        "    try:\n",
        "        roomsCount = int(roomsCountStr)       # строка в число\n",
        "        if (roomsCount > maxRoomCount): \n",
        "          roomsCount = maxRoomCount           # Если число комнат больше максимального, то присваиваем максимальное\n",
        "    except:                                   # Если не получается превратить строку в число\n",
        "        if (roomsCountStr == roomsCountStr):  # Проверяем строку на nan (сравнение с самим собой)\n",
        "          if (\"Ст\" in roomsCountStr):         # Еcть строка = \"Ст\", значит это Студия\n",
        "            roomsCount = maxRoomCount + 1\n",
        "\n",
        "    return roomsCount\n",
        "\n",
        "def getRoomsCountCategory(d, maxRoomCount):                        # функция число комнат в категорию\n",
        "    roomsCount = getRoomsCount(d, maxRoomCount)                    # число комнат\n",
        "    roomsCount = utils.to_categorical(roomsCount, maxRoomCount+2)  # в категорию\n",
        "    #maxRoomCount+2 потому что 0 зарезервирован на неопознаное число комнат, а maxRoomCount+1 на \"Студию\"\n",
        "    return roomsCount"
      ],
      "execution_count": 7,
      "outputs": []
    },
    {
      "cell_type": "markdown",
      "metadata": {
        "id": "xOMamgodPczz"
      },
      "source": [
        "Обрабатываю столбец 1 \"Метро / ЖД станции\""
      ]
    },
    {
      "cell_type": "code",
      "metadata": {
        "id": "7Y91DwIjO8Vf"
      },
      "source": [
        "#allMetroNames - все уникальные названия метро в базе\n",
        "\n",
        "def getMetro(d, allMetroNames):            # функция индекса станции метро\n",
        "    metroStr = d[1]                        # получаю строку метро\n",
        "    metro = 0\n",
        "    \n",
        "    if metroStr in allMetroNames:  \n",
        "      metro = allMetroNames.index(metroStr)+1   # присваиваю индекс\n",
        "\n",
        "      #+1 так как 0 зарезервирован на неопознанное метро   \n",
        "    return metro\n",
        "\n",
        "#0 - внутри кольца\n",
        "#1 - кольцо\n",
        "#2 - 1-3 станции от конца\n",
        "#3 - 4-8 станций от кольца\n",
        "#4 - больше 8 станций от кольца\n",
        "\n",
        "def getMetroType(d):                     # функция типа метро\n",
        "    metroTypeStr = d[1]                  # получаем строку метро с названием станции\n",
        "    metroTypeClasses = 5                 # число классов метро\n",
        "    metroType = metroTypeClasses - 1     # изначально считаем последний класс\n",
        "    \n",
        "    #Метро внутри кольца\n",
        "    metroNamesInsideCircle = [\"Площадь Революции\", \"Арбатская\", \"Смоленская\", \"Красные Ворота\", \"Чистые пруды\", \"Лубянка\", \"Охотный Ряд\", \"Библиотека имени Ленина\", \"Кропоткинская\", \"Сухаревская\", \"Тургеневская\", \"Китай-город\", \"Третьяковская\", \"Трубная\", \"Сретенский бульвар\", \"Цветной бульвар\", \"Чеховская\", \"Боровицкая\", \"Полянка\", \"Маяковская\", \"Тверская\", \"Театральная\", \"Новокузнецкая\", \"Пушкинская\", \"Кузнецкий Мост\", \"Китай-город\", \"Александровский сад\"]\n",
        "    #Метро на кольце\n",
        "    metroNamesCircle = [\"Киевская\", \"Парк Культуры\", \"Октябрьская\", \"Добрынинская\", \"Павелецкая\", \"Таганская\", \"Курская\", \"Комсомольская\", \"Проспект Мира\", \"Новослободская\", \"Белорусская\", \"Краснопресненская\"]\n",
        "    #Метро 1-3 станции от кольца\n",
        "    metroNames13FromCircle = [\"Бауманская\", \"Электрозаводская\", \"Семёновская\", \"Площадь Ильича\", \"Авиамоторная\", \"Шоссе Энтузиастов\", \"Римская\", \"Крестьянская Застава\", \"Дубровка\", \"Пролетарская\", \"Волгоградский проспект\", \"Текстильщики\", \"Автозаводская\", \"Технопарк\", \"Коломенская\", \"Тульская\", \"Нагатинская\", \"Нагорная\", \"Шаболовская\", \"Ленинский проспект\", \"Академическая\", \"Фрунзенская\", \"Спортивная\", \"Воробьёвы горы\", \"Студенческая\", \"Кутузовская\", \"Фили\", \"Парк Победы\", \"Выставочная\", \"Международная\", \"Улица 1905 года\", \"Беговая\", \"Полежаевская\", \"Динамо\", \"Аэропорт\", \"Сокол\", \"Деловой центр\", \"Шелепиха\", \"Хорошёвская\", \"ЦСКА\", \"Петровский парк\", \"Савёловская\", \"Дмитровская\", \"Тимирязевская\", \"Достоевская\", \"Марьина Роща\", \"Бутырская\", \"Фонвизинская\", \"Рижская\", \"Алексеевская\", \"ВДНХ\", \"Красносельская\", \"Сокольники\", \"Преображенская площадь\"]\n",
        "    #Метро 4-8 станций от кольа\n",
        "    metroNames48FromCircle = [\"Партизанская\", \"Измайловская\", \"Первомайская\", \"Щёлковская\", \"Новокосино\", \"Новогиреево\", \"Перово\", \"Кузьминки\", \"Рязанский проспект\", \"Выхино\", \"Лермонтовский проспект\", \"Жулебино\", \"Партизанская\", \"Измайловская\", \"Первомайская\", \"Щёлковская\", \"Новокосино\", \"Новогиреево\", \"Перово\", \"Кузьминки\", \"Рязанский проспект\", \"Выхино\", \"Лермонтовский проспект\", \"Жулебино\", \"Улица Дмитриевского\", \"Кожуховская\", \"Печатники\", \"Волжская\", \"Люблино\", \"Братиславская\", \"Коломенская\", \"Каширская\", \"Кантемировская\", \"Царицыно\", \"Орехово\", \"Севастопольская\", \"Чертановская\", \"Южная\", \"Пражская\", \"Варшавская\", \"Профсоюзная\", \"Новые Черёмушки\", \"Калужская\", \"Беляево\", \"Коньково\", \"Университет\", \"Багратионовская\", \"Филёвский парк\", \"Пионерская\", \"Кунцевская\", \"Молодёжная\", \"Октябрьское Поле\", \"Щукинская\", \"Спартак\", \"Тушинская\", \"Сходненская\", \"Войковская\", \"Водный стадион\", \"Речной вокзал\", \"Беломорская\", \"Ховрино\", \"Петровско-Разумовская\", \"Владыкино\", \"Отрадное\", \"Бибирево\", \"Алтуфьево\", \"Фонвизинская\", \"Окружная\", \"Верхние Лихоборы\", \"Селигерская\", \"ВДНХ\", \"Ботанический сад\", \"Свиблово\", \"Бабушкинская\", \"Медведково\", \"Преображенская площадь\", \"Черкизовская\", \"Бульвар Рокоссовского\"]\n",
        "    \n",
        "    #Проверяем, в какую категорию попадает наша станция\n",
        "    if (metroTypeStr in metroNamesInsideCircle):\n",
        "      metroType = 0\n",
        "    if (metroTypeStr in metroNamesCircle):\n",
        "      metroType = 1\n",
        "    if (metroTypeStr in metroNames13FromCircle):\n",
        "      metroType = 2\n",
        "    if (metroTypeStr in metroNames48FromCircle):\n",
        "      metroType = 3\n",
        "    \n",
        "    #Превращаем результат в категорию\n",
        "    metroType = utils.to_categorical(metroType, metroTypeClasses)\n",
        "    return metroType"
      ],
      "execution_count": 8,
      "outputs": []
    },
    {
      "cell_type": "markdown",
      "metadata": {
        "id": "QRxT4JP6P5FD"
      },
      "source": [
        "Обрабатываю столбец 2 \"От станции\""
      ]
    },
    {
      "cell_type": "code",
      "metadata": {
        "id": "G_o8EMpRO8dk"
      },
      "source": [
        "def getMetroDistance(d):        # функция растояние до метро\n",
        "    metroDistanceStr = d[2]     # получаем строку с данными расстояния  до станции метро\n",
        "    \n",
        "    metroDistance = 0\n",
        "    metroDistanceType = 0       # тип расстояния - пешком или на транспорте\n",
        "    \n",
        "    #ЕСли строка не равна nan  \n",
        "    if (metroDistanceStr == metroDistanceStr):\n",
        "      if (len(metroDistanceStr) > 0):\n",
        "        #Определяем тип расстояния\n",
        "        if (metroDistanceStr[-1] == \"п\"):\n",
        "          metroDistanceType = 1 #Пешком\n",
        "        elif (metroDistanceStr[-1] == \"т\"):\n",
        "          metroDistanceType = 2 #На транспорте\n",
        "\n",
        "        #Выбрасываем последний символ, чтобы осталось только число\n",
        "        metroDistanceStr = metroDistanceStr[:-1]\n",
        "        try:\n",
        "          #Разделяем дистанции на категории\n",
        "          metroDistance = int(metroDistanceStr)\n",
        "          if (metroDistance < 3):\n",
        "            metroDistance = 1\n",
        "          elif (metroDistance < 6):\n",
        "            metroDistance = 2\n",
        "          elif (metroDistance < 10):\n",
        "            metroDistance = 3\n",
        "          elif (metroDistance < 15):\n",
        "            metroDistance = 4\n",
        "          elif (metroDistance < 20):\n",
        "            metroDistance = 5\n",
        "          else:\n",
        "            metroDistance = 6\n",
        "        except: #Если в строке не число, то категория 0\n",
        "          metroDistance = 0\n",
        "    \n",
        "    #Число классов дистанции\n",
        "    metroDistanceClasses = 7\n",
        "    \n",
        "    #У нас 7 категорий дистанции по расстоянию\n",
        "    #И 3 типа дистанции - неопознанный, пешком и транспортом\n",
        "    #Мы создадим вектор длины 3*7 = 21\n",
        "    #Будем преобразовывать индекс расстояния 0-6 в 0-20\n",
        "    #Для типа \"Пешком\" - ничего не меняем\n",
        "    if (metroDistanceType == 2):\n",
        "      metroDistance += metroDistanceClasses #Для типа \"Транспортом\" добавляем 7\n",
        "    if (metroDistanceType == 0):\n",
        "      metroDistance += 2*metroDistanceClasses #Для неопознанного типа добавляем 14\n",
        "      \n",
        "    #Превращаем в категории\n",
        "    metroDistance = utils.to_categorical(metroDistance, 3*metroDistanceClasses)\n",
        "    return metroDistance"
      ],
      "execution_count": 9,
      "outputs": []
    },
    {
      "cell_type": "markdown",
      "metadata": {
        "id": "6ppGActwQCqg"
      },
      "source": [
        "Обрабатываю столбец 3 \"Дом\""
      ]
    },
    {
      "cell_type": "code",
      "metadata": {
        "id": "NNiYtOC6P1by"
      },
      "source": [
        "#Получаем 4 данных\n",
        "#- этаж квартиры\n",
        "#- этажность дома\n",
        "#- индикатор, что последний этаж\n",
        "#- тип дома\n",
        "def getHouseTypeAndFloor(d):     # функция типа дома и этаж квартиры\n",
        "    try:\n",
        "      houseStr = d[3]            #Получаем строку типа дома и этажей\n",
        "    except:\n",
        "      houseStr = \"\"\n",
        "    \n",
        "    houseType = 0    # Тип дома\n",
        "    floor = 0        # Этаж квартиры\n",
        "    floors = 0       # Этажность дома\n",
        "    isLastFloor = 0  # Индикатор последнего этажа\n",
        "    \n",
        "    #Проверяем строку на nan\n",
        "    if (houseStr == houseStr):\n",
        "      if (len(houseStr) > 1):\n",
        "      \n",
        "        try:\n",
        "          slashIndex = houseStr.index(\"/\") #Ищем разделитель /\n",
        "        except:\n",
        "          print(houseStr)\n",
        "\n",
        "        try:\n",
        "          spaceIndex = houseStr.index(\" \") #Ищем разделитель \" \"\n",
        "        except:\n",
        "          print(houseStr)\n",
        "\n",
        "        #Вытаскиваем строки\n",
        "        floorStr = houseStr[:slashIndex]               # Строка этажа\n",
        "        floorsStr = houseStr[slashIndex+1:spaceIndex]  # Строка этажнгости дома\n",
        "        houseTypeStr = houseStr[spaceIndex+1:]         # Строка типа дома\n",
        "\n",
        "        #Выбираем категорию этажа\n",
        "        try:\n",
        "          floor = int(floorStr)    #Превращаем строку в число\n",
        "          floorSave = floor\n",
        "          if (floorSave < 5):\n",
        "            floor = 2\n",
        "          if (floorSave < 10):\n",
        "            floor = 3\n",
        "          if (floorSave < 20):\n",
        "            floor = 4\n",
        "          if (floorSave >= 20):\n",
        "            floor = 5\n",
        "          if (floorSave == 1):     #Первый этаж выделяем в отдельную категорию\n",
        "            floor = 1 \n",
        "\n",
        "          if (floor == floors):    #Если этаж последний, включаем индикатор последнего этажа\n",
        "            isLastFloor = 1 \n",
        "        except:\n",
        "          floor = 0                #Если строка не парсится в число, то категория этажа = 0 (отдельная)\n",
        "\n",
        "        #Выбираем категорию этажности дома\n",
        "        try:\n",
        "          floors = int(floorsStr)  #Превращаем строку в число\n",
        "          floorsSave = floors\n",
        "          if (floorsSave < 5):\n",
        "            floors = 1\n",
        "          if (floorsSave < 10):\n",
        "            floors = 2\n",
        "          if (floorsSave < 20):\n",
        "            floors = 3\n",
        "          if (floorsSave >= 20):\n",
        "            floors = 4\n",
        "        except:\n",
        "          floors = 0               #Если строка не парсится в число, то категория этажности = 0 (отдельная)\n",
        "\n",
        "        #Определяем категорию типа дома\n",
        "        if (len(houseTypeStr) > 0):\n",
        "          if (\"М\" in houseTypeStr): \n",
        "            houseType = 1\n",
        "          if (\"К\" in houseTypeStr): \n",
        "            houseType = 2\n",
        "          if (\"П\" in houseTypeStr): \n",
        "            houseType = 3\n",
        "          if (\"Б\" in houseTypeStr): \n",
        "            houseType = 4\n",
        "          if (\"?\" in houseTypeStr): \n",
        "            houseType = 5\n",
        "          if (\"-\" in houseTypeStr): \n",
        "            houseType = 6\n",
        "      \n",
        "      #Превращаем все категории в one hot encoding\n",
        "      floor = utils.to_categorical(floor, 6)\n",
        "      floors = utils.to_categorical(floors, 5)\n",
        "      houseType = utils.to_categorical(houseType, 7)\n",
        "      \n",
        "      \n",
        "    return floor, floors, isLastFloor, houseType"
      ],
      "execution_count": 10,
      "outputs": []
    },
    {
      "cell_type": "markdown",
      "metadata": {
        "id": "j_1Hq2veQiF0"
      },
      "source": [
        "Обрабатываю столбец 4 \"Балкон\""
      ]
    },
    {
      "cell_type": "code",
      "metadata": {
        "id": "SgXvsIxyP1jl"
      },
      "source": [
        "def getBalcony(d):       # функция типа балкона\n",
        "    balconyStr = d[4]    # Получаю строку \"Балкон\"\n",
        "    #все варианты балконов в базе\n",
        "    balconyVariants = ['Л', 'Б', '2Б', '-', '2Б2Л', 'БЛ', '3Б', '2Л', 'Эрк', 'Б2Л', 'ЭркЛ', '3Л', '4Л', '*Л', '*Б']\n",
        "    #Проверяем на nan\n",
        "    if (balconyStr == balconyStr):\n",
        "        balcony = balconyVariants.index(balconyStr)+1  #Находим индекс строки балкона во всех строках\n",
        "    else:\n",
        "        balcony = 0                                    #Индекс 0 выделяем на строку nan\n",
        "    \n",
        "    balcony = utils.to_categorical(balcony, 16)      #в one hot encoding\n",
        "    \n",
        "    return balcony"
      ],
      "execution_count": 11,
      "outputs": []
    },
    {
      "cell_type": "markdown",
      "metadata": {
        "id": "Wp_u7K41QsBX"
      },
      "source": [
        "Обрабатываю столбец 5 \"Санузел\""
      ]
    },
    {
      "cell_type": "code",
      "metadata": {
        "id": "620wxXBjP1p1"
      },
      "source": [
        "def getWC(d):   # функция тип санузла\n",
        "    wcStr = d[5]  # получаю строку \"Санузел\"\n",
        "    #Выписываем все варианты санузлов в базе\n",
        "    wcVariants = ['2', 'Р', 'С', '-', '2С', '+', '4Р', '2Р', '3С', '4С', '4', '3', '3Р']\n",
        "    #Проверяем на nan\n",
        "    if (wcStr == wcStr):\n",
        "      wc = wcVariants.index(wcStr)+1  #Находим индекс строки санузла во всех строках\n",
        "    else:\n",
        "      wc = 0                          #Индекс 0 выделяем на строку nan\n",
        "    \n",
        "    wc = utils.to_categorical(wc, 14) # one hot encoding\n",
        "    \n",
        "    return wc"
      ],
      "execution_count": 12,
      "outputs": []
    },
    {
      "cell_type": "markdown",
      "metadata": {
        "id": "Wu8kwhGKQ7iw"
      },
      "source": [
        "Обрабатываю столбец 6 \"Площадь\""
      ]
    },
    {
      "cell_type": "code",
      "metadata": {
        "id": "p3vb5KwYP1wy"
      },
      "source": [
        "def getArea(d):       # функция площади квартиры\n",
        "    areaStr = d[6]    # получаю строку площади\n",
        "    \n",
        "    if (\"/\" in areaStr):\n",
        "        slashIndex = areaStr.index(\"/\")         # нахожу разделитель /\n",
        "        try:\n",
        "            area = float(areaStr[:slashIndex])  # беру число до разделителя и превращаем в число\n",
        "        except:\n",
        "            area = 0                            # если не получается, возвращю 0\n",
        "    else:\n",
        "        area = 0                                # или если нет разделителя, возвращаю 0\n",
        "      \n",
        "    return area"
      ],
      "execution_count": 13,
      "outputs": []
    },
    {
      "cell_type": "markdown",
      "metadata": {
        "id": "0ci1sJ6GRbNc"
      },
      "source": [
        "Обрабатываю столбец 7 \"Цена, руб.\""
      ]
    },
    {
      "cell_type": "code",
      "metadata": {
        "id": "MQMcj_udQ6LL"
      },
      "source": [
        "def getCost(d):     # функция цены\n",
        "    costStr = d[7]  # загружаю строку с ценоу квартиры\n",
        "    \n",
        "    try:\n",
        "        cost = float(costStr)  # преобразую в число\n",
        "    except:\n",
        "        cost = 0               # если не получается, возвращаю 0\n",
        "    \n",
        "    return cost"
      ],
      "execution_count": 14,
      "outputs": []
    },
    {
      "cell_type": "markdown",
      "metadata": {
        "id": "747r4n2USJOl"
      },
      "source": [
        "Обрабатываю столбец -1 \"Примечание\""
      ]
    },
    {
      "cell_type": "code",
      "metadata": {
        "id": "DyUOQh8YQ6Tr"
      },
      "source": [
        "def getComment(d):       # функция обработки примечаний\n",
        "    commentStr = d[-1]   # данные из последней колонки \"Примечание\"\n",
        "    \n",
        "    return commentStr"
      ],
      "execution_count": 15,
      "outputs": []
    },
    {
      "cell_type": "markdown",
      "metadata": {
        "id": "iwT2mfs_UDVA"
      },
      "source": [
        "Объединяю"
      ]
    },
    {
      "cell_type": "code",
      "metadata": {
        "id": "Y_7hvFsqQ6Z8"
      },
      "source": [
        "def getAllParameters(d, allMetroNames):    # функция объединения всех параметров без цены  и примечаний\n",
        "    #З все данные по отдельности\n",
        "    roomsCountType = getRoomsCountCategory(d, 30)\n",
        "    metro = getMetro(d, allMetroNames)\n",
        "    metroType = getMetroType(d)\n",
        "    metroDistance = getMetroDistance(d)\n",
        "    floor, floors, isLastFloor, houseType = getHouseTypeAndFloor(d)\n",
        "    balcony = getBalcony(d)\n",
        "    wc = getWC(d)\n",
        "    area = getArea(d)\n",
        "\n",
        "    # объединяю в список\n",
        "    out = list(roomsCountType)\n",
        "    out.append(metro)\n",
        "    out.extend(metroType)\n",
        "    out.extend(metroDistance)\n",
        "    out.extend(floor)\n",
        "    out.extend(floors)\n",
        "    out.append(isLastFloor)\n",
        "    out.extend(houseType)\n",
        "    out.extend(balcony)\n",
        "    out.extend(wc)\n",
        "    out.append(area)\n",
        "    \n",
        "    return out"
      ],
      "execution_count": 16,
      "outputs": []
    },
    {
      "cell_type": "code",
      "metadata": {
        "id": "PCShMNp-T1ro"
      },
      "source": [
        "def getXTrain(data):    # функция обучающей выборки - xTrain\n",
        "  \n",
        "    #Получаем строку во всеми вариантами метро\n",
        "    allMertroNames = list(df[\"Метро / ЖД станции\"].unique())\n",
        "    \n",
        "    #Возвращаем все строки в data1 в векторы параметров и записываем в xTrain\n",
        "    xTrain = [getAllParameters(d, allMertroNames) for d in data]\n",
        "    xTrain = np.array(xTrain)\n",
        "    \n",
        "    return xTrain "
      ],
      "execution_count": 17,
      "outputs": []
    },
    {
      "cell_type": "code",
      "metadata": {
        "id": "09tRiVxqT10l"
      },
      "source": [
        "def getYTrain(data):     # функция ответов обучающей выборки - yTrain\n",
        "  \n",
        "    #Загружаем лист всех цен квартир по всем строкам data1\n",
        "    costList = [getCost(d) for d in data] \n",
        "    yTrain = np.array(costList)\n",
        "    \n",
        "    return yTrain"
      ],
      "execution_count": 18,
      "outputs": []
    },
    {
      "cell_type": "markdown",
      "metadata": {
        "id": "28clrJAMVyyM"
      },
      "source": [
        "начинаю формировать обучающую выборку"
      ]
    },
    {
      "cell_type": "code",
      "metadata": {
        "colab": {
          "base_uri": "https://localhost:8080/"
        },
        "id": "zZAdZllKVcF6",
        "outputId": "e1555022-06b3-4421-e539-62f5a3ff5a91"
      },
      "source": [
        "oneRoomMask = [getRoomsCount(d, 30) == 1 for d in data]    # маска однокомнатных квартир\n",
        "data1 = data[oneRoomMask]                                  # data1 однокомнатные квартиры\n",
        "print(\"всего записей:\", data.shape)\n",
        "print(\"из них 1о комнатных:\", data1.shape)"
      ],
      "execution_count": 19,
      "outputs": [
        {
          "output_type": "stream",
          "text": [
            "всего записей: (126268, 14)\n",
            "из них 1о комнатных: (62504, 14)\n"
          ],
          "name": "stdout"
        }
      ]
    },
    {
      "cell_type": "code",
      "metadata": {
        "colab": {
          "base_uri": "https://localhost:8080/"
        },
        "id": "qxzlmnhZV17l",
        "outputId": "99c30f72-1ad6-48fb-f2d7-008cd20380cb"
      },
      "source": [
        "twoRoomMask = [getRoomsCount(d, 30) == 2 for d in data]      # маска двухкомнатных квартир\n",
        "data2 = data[twoRoomMask]                                    # data2 двухкомнатные квартиры\n",
        "threeRoomMask = [getRoomsCount(d, 30) == 3 for d in data]    # маска трехкомнатных квартир\n",
        "data3 = data[threeRoomMask]                                  # data3 трехкомнатные квартиры\n",
        "fourRoomMask = [getRoomsCount(d, 30) == 4 for d in data]     # маска четырехкомнатных квартир\n",
        "data4 = data[fourRoomMask]                                   # data4 четырехкомнатные квартиры\n",
        "\n",
        "print(\"всего записей:\", data.shape)\n",
        "print(\"из них 2х комнатных:\", data2.shape)\n",
        "print(\"из них 3х комнатных:\", data3.shape)\n",
        "print(\"из них 4х комнатных:\", data4.shape)"
      ],
      "execution_count": 20,
      "outputs": [
        {
          "output_type": "stream",
          "text": [
            "всего записей: (126268, 14)\n",
            "из них 2х комнатных: (40962, 14)\n",
            "из них 3х комнатных: (0, 14)\n",
            "из них 4х комнатных: (2, 14)\n"
          ],
          "name": "stdout"
        }
      ]
    },
    {
      "cell_type": "code",
      "metadata": {
        "colab": {
          "base_uri": "https://localhost:8080/"
        },
        "id": "_d_73XacVcZo",
        "outputId": "5b392c5f-c833-4a6a-f4d8-255dbc78b7d7"
      },
      "source": [
        "xTrain = getXTrain(data1)     # выборки\n",
        "yTrain = getYTrain(data1)\n",
        "print(xTrain.shape)\n",
        "print(yTrain.shape)"
      ],
      "execution_count": 21,
      "outputs": [
        {
          "output_type": "stream",
          "text": [
            "(62504, 109)\n",
            "(62504,)\n"
          ],
          "name": "stdout"
        }
      ]
    },
    {
      "cell_type": "markdown",
      "metadata": {
        "id": "PkHDhIVWXZLy"
      },
      "source": [
        "токенайзер"
      ]
    },
    {
      "cell_type": "code",
      "metadata": {
        "id": "e8NWC7dJW2s4"
      },
      "source": [
        "def text2Words(text):\n",
        "\n",
        "  text = text.replace(\".\", \"\")  # удаляем лишние символы\n",
        "  text = text.replace(\"—\", \"\")\n",
        "  text = text.replace(\",\", \"\")\n",
        "  text = text.replace(\"!\", \"\")\n",
        "  text = text.replace(\"?\", \"\")\n",
        "  text = text.replace(\"…\", \"\")\n",
        "  text = text.lower()           #Переводим в нижний регистр\n",
        "  \n",
        "  \n",
        "  words = []                    #Тут будут все слова\n",
        "  currWord = \"\"                 #Тут будет накапливаться текущее слово, между двумя пробелами\n",
        "  \n",
        "  for symbol in text:\n",
        "    \n",
        "    if (symbol != \"\\ufeff\"):    #Игнорируем системынй символ в начале строки\n",
        "      if (symbol != \" \"):       #Если символ не пробел\n",
        "        currWord += symbol      #То добавляем вимвол в текущее слово\n",
        "      else:                     #Если символ пробел\n",
        "        if (currWord != \"\"): \n",
        "          words.append(currWord) #Добавляем тккущее слово в список слов\n",
        "          currWord = \"\"          #И обнуляем текущее слово\n",
        "\n",
        "  #Добавляем финальное слово, если оно не пустое\n",
        "\n",
        "  if (currWord != \"\"):\n",
        "        words.append(currWord)\n",
        "  \n",
        "  return words\n",
        "\n",
        "def createVocabulary(allWords):   # функция создания  словаря - все слова, упорядоченные по частоте появления\n",
        "  \n",
        " \n",
        "  wCount = dict.fromkeys(allWords, 0)\n",
        "\n",
        "  for word in allWords:\n",
        "    wCount[word] += 1     #И увеличиаем количество появлений текущего слова на 1\n",
        "\n",
        "  \n",
        "  wordsList = list(wCount.items())\n",
        "  #И сортируем по частоте появ\n",
        "  wordsList.sort(key = lambda i:i[1], reverse=1)  # сортируем по частоте появления\n",
        "  #key = lambda i:i[1] - говорит, что сортировать надо по частоте появления\n",
        "  #В i[0] у нас слово, в i[1] - частота появления\n",
        "  #reverse=1 говорить сортироваться по убыванию\n",
        "\n",
        "  sortedWords = []                               # словарь всех отсортированных слов\n",
        "\n",
        "  for word in wordsList:\n",
        "    sortedWords.append(word[0])                  # вносим слово в лист отсортированных слов\n",
        "\n",
        "  wordIndexes = dict.fromkeys(allWords, 0)       # это словарь слово - индекс\n",
        "\n",
        "  for word in wordIndexes.keys():\n",
        "    wordIndexes[word] = sortedWords.index(word)+1   #Ставим индекс = индекс слова в отсортированном листе слов + 1\n",
        "                                                    #+1 потому, что индекс 0 резервируем под неопознанные слова\n",
        "\n",
        "  return wordIndexes\n",
        "\n",
        "\n",
        "def words2Indexes(words, vocabulary, maxWordsCount): # функция реобразования листа слов в лист индексов\n",
        "  wordsIndexes = []\n",
        "  \n",
        "  \n",
        "  for word in words:\n",
        "    \n",
        "    wordIndex = 0                                  #Тут будет индекс слова, изначально 0 - слово неопознано\n",
        "    wordInVocabulary = word in vocabulary          #Проверяем, есть ли слово в словаре\n",
        "    \n",
        "    if (wordInVocabulary):\n",
        "      index = vocabulary[word]                     #Индекс = индексу слова в словаре\n",
        "      if (index < maxWordsCount):                  #Если индекс ниже maxWordsCount - черты отсечения слов\n",
        "        wordIndex = index                          #То записываем индекс\n",
        "        \n",
        "    wordsIndexes.append(wordIndex)\n",
        "    \n",
        "  return wordsIndexes\n",
        "\n",
        "def changeXTo01(trainVector, wordsCount): # функция преобразование одного короткого вектора в вектор из 0 и 1(bag of words)\n",
        "\n",
        "  out = np.zeros(wordsCount)              # вектор из нолей\n",
        "  \n",
        "\n",
        "  for x in trainVector:\n",
        "    out[x] = 1                           #В позицию нужного индекса ставим 1\n",
        "    \n",
        "  return out\n",
        "\n",
        "\n",
        "def changeSetTo01(trainSet, wordsCount):   # функция преобразование выборки (обучающей или проверочной) к виду 0 и 1(bag of words)\n",
        "  out = []\n",
        "  \n",
        "  \n",
        "  for x in trainSet:\n",
        "    out.append(changeXTo01(x, wordsCount))  # Добавляем в итоговый набор текущий вектор, преобразованный в bag of words\n",
        "    \n",
        "  return np.array(out)\n",
        "\n",
        "\n",
        "def getXTrainComments(data):    # функция обучающей выборки из примечаний к квартирам(в виде слов)\n",
        "    xTrainComments = []         #Тут будет обучающся выборка\n",
        "    allTextComments = \"\"        #Тут будуте все тексты вместе для словаря\n",
        "    \n",
        "    for d in data:\n",
        "      currText = getComment(d)  #Вытаскиваем примечание к квартире\n",
        "      try: \n",
        "        if (currText == currText):          #Проверяем на nan\n",
        "          allTextComments += currText + \" \" #Добавляем текст в общий текст для словаря\n",
        "      except:\n",
        "        currText = \"Нет комментария\"        #Если не получается, то делаем стандартный текст \"Нет комментария\"\n",
        "      xTrainComments.append(currText)       #Добавляем примечание новой строкой в обучающую выборку\n",
        "    \n",
        "    xTrainComments = np.array(xTrainComments)\n",
        "    \n",
        "    return (xTrainComments, allTextComments)\n",
        "\n",
        "\n",
        "def changeSetToIndexes(xTrainComments, vocabulary, maxWordsCount):  # функция обучающей выборки из примечаний к квартирам(в виде индексов)\n",
        "    xTrainCommentsIndexes = []                                      # Тут будет итоговый xTrain примечаний в виде индексов\n",
        "    \n",
        "    for text in xTrainComments:\n",
        "        currWords = text2Words(text)                                              #Разбиваем текст на слова\n",
        "        currIndexes = words2Indexes(currWords, vocabulary, maxWordsCount)         #Превращаем в лист индексов\n",
        "        currIndexes = np.array(currIndexes)\n",
        "        xTrainCommentsIndexes.append(currIndexes)                                 #Добавляем в xTrain\n",
        "    \n",
        "    xTrainCommentsIndexes = np.array(xTrainCommentsIndexes)\n",
        "    xTrainCommentsIndexes = changeSetTo01(xTrainCommentsIndexes, maxWordsCount)   #Превращаем в формат bag of words\n",
        "    return xTrainCommentsIndexes\n",
        "\n",
        "\n",
        "def changeSetToIndexesCrop(xTrainComments, vocabulary, maxWordsCount, cropLen): # функция обучающей выборки из примечаний к квартирам(в виде индексов с приведением к стандартной длине всех векторов - cropLen)\n",
        "    xTrainCommentsIndexes = []                                                   #Тут будет итоговый xTrain примечаний в виде индексов\n",
        "  \n",
        "  #Идём по всем текстам\n",
        "    for text in xTrainComments:\n",
        "        currWords = text2Words(text)                                                #Разбиваем текст на слова\n",
        "        currIndexes = words2Indexes(currWords, vocabulary, maxWordsCount)           #Превращаем в лист индексов\n",
        "        currIndexes = np.array(currIndexes)\n",
        "        xTrainCommentsIndexes.append(currIndexes)                                   #Добавляем в xTrain\n",
        "  \n",
        "    xTrainCommentsIndexes = np.array(xTrainCommentsIndexes)\n",
        "    xTrainCommentsIndexes = pad_sequences(xTrainCommentsIndexes, maxlen=cropLen)  #Приводим все вектора к стандартной длине\n",
        "    return xTrainCommentsIndexes"
      ],
      "execution_count": 22,
      "outputs": []
    },
    {
      "cell_type": "markdown",
      "metadata": {
        "id": "xixSDKXrX8ED"
      },
      "source": [
        "с помощью функции getXTrainComments формирую Bag of Words примечаний"
      ]
    },
    {
      "cell_type": "code",
      "metadata": {
        "colab": {
          "base_uri": "https://localhost:8080/"
        },
        "id": "e1ETlZAMW2zs",
        "outputId": "2fc50e83-19d1-47d6-81ca-4de7c0f04c36"
      },
      "source": [
        "xTrainC, allTextComments = getXTrainComments(data1)          # обучающая выборка и весь текст для словаря\n",
        "allWords = text2Words(allTextComments)                       # весь текст в слова\n",
        "allWords = allWords[::10]                                    # работаю только с 10% слов (т.к.много)\n",
        "vocabulary = createVocabulary(allWords)                      # словарь\n",
        "xTrainC01 = changeSetToIndexes(xTrainC, vocabulary, 2000)    # xTrainС01 это Bag of Words"
      ],
      "execution_count": 23,
      "outputs": [
        {
          "output_type": "stream",
          "text": [
            "/usr/local/lib/python3.6/dist-packages/ipykernel_launcher.py:128: VisibleDeprecationWarning: Creating an ndarray from ragged nested sequences (which is a list-or-tuple of lists-or-tuples-or ndarrays with different lengths or shapes) is deprecated. If you meant to do this, you must specify 'dtype=object' when creating the ndarray\n"
          ],
          "name": "stderr"
        }
      ]
    },
    {
      "cell_type": "code",
      "metadata": {
        "colab": {
          "base_uri": "https://localhost:8080/"
        },
        "id": "CX40I3UPW26f",
        "outputId": "defe10dd-2f9a-43dd-936d-2b8483c51fa0"
      },
      "source": [
        "print(\"обучающая выборка:\", xTrain.shape)\n",
        "print(\"обучающая выборка по Bag of Words:\", xTrainC01.shape)\n",
        "print(yTrain.shape)"
      ],
      "execution_count": 24,
      "outputs": [
        {
          "output_type": "stream",
          "text": [
            "обучающая выборка: (62504, 109)\n",
            "обучающая выборка по Bag of Words: (62504, 2000)\n",
            "(62504,)\n"
          ],
          "name": "stdout"
        }
      ]
    },
    {
      "cell_type": "markdown",
      "metadata": {
        "id": "SQVotzsOZJgA"
      },
      "source": [
        "нормирую последний столбец, т.к. в нем площадь квартиры цифрами"
      ]
    },
    {
      "cell_type": "code",
      "metadata": {
        "colab": {
          "base_uri": "https://localhost:8080/"
        },
        "id": "L3gscCsOYDh1",
        "outputId": "557c6b82-b16c-4a42-f0cd-ca079bc731a2"
      },
      "source": [
        "xScaler = StandardScaler()                     # нормировщик нормального распределения\n",
        "xScaler.fit(xTrain[:,-1].reshape(-1, 1))       # обучаю на площадях квартир (последня колонка в xTrain)\n",
        "xTrainScaled = xTrain.copy()\n",
        "xTrainScaled[:,-1] = xScaler.transform(xTrain[:,-1].reshape(-1, 1)).flatten()    # нормирую нормировщиком\n",
        "\n",
        "print(\"размер:\", xTrainScaled.shape)\n",
        "print(\"данные до нормирования площади: \\n\", xTrain[0])\n",
        "print(\"данные после нормирования площади: \\n\", xTrainScaled[0])"
      ],
      "execution_count": 25,
      "outputs": [
        {
          "output_type": "stream",
          "text": [
            "размер: (62504, 109)\n",
            "данные до нормирования площади: \n",
            " [ 0.   1.   0.   0.   0.   0.   0.   0.   0.   0.   0.   0.   0.   0.\n",
            "  0.   0.   0.   0.   0.   0.   0.   0.   0.   0.   0.   0.   0.   0.\n",
            "  0.   0.   0.   0.   1.   0.   0.   0.   0.   1.   0.   0.   0.   0.\n",
            "  1.   0.   0.   0.   0.   0.   0.   0.   0.   0.   0.   0.   0.   0.\n",
            "  0.   0.   0.   0.   0.   0.   0.   0.   1.   0.   0.   0.   0.   1.\n",
            "  0.   0.   1.   0.   0.   0.   0.   0.   1.   0.   0.   0.   0.   0.\n",
            "  0.   0.   0.   0.   0.   0.   0.   0.   0.   0.   0.   1.   0.   0.\n",
            "  0.   0.   0.   0.   0.   0.   0.   0.   0.   0.  64.1]\n",
            "данные после нормирования площади: \n",
            " [0.         1.         0.         0.         0.         0.\n",
            " 0.         0.         0.         0.         0.         0.\n",
            " 0.         0.         0.         0.         0.         0.\n",
            " 0.         0.         0.         0.         0.         0.\n",
            " 0.         0.         0.         0.         0.         0.\n",
            " 0.         0.         1.         0.         0.         0.\n",
            " 0.         1.         0.         0.         0.         0.\n",
            " 1.         0.         0.         0.         0.         0.\n",
            " 0.         0.         0.         0.         0.         0.\n",
            " 0.         0.         0.         0.         0.         0.\n",
            " 0.         0.         0.         0.         1.         0.\n",
            " 0.         0.         0.         1.         0.         0.\n",
            " 1.         0.         0.         0.         0.         0.\n",
            " 1.         0.         0.         0.         0.         0.\n",
            " 0.         0.         0.         0.         0.         0.\n",
            " 0.         0.         0.         0.         0.         1.\n",
            " 0.         0.         0.         0.         0.         0.\n",
            " 0.         0.         0.         0.         0.         0.\n",
            " 1.28438086]\n"
          ],
          "name": "stdout"
        }
      ]
    },
    {
      "cell_type": "markdown",
      "metadata": {
        "id": "57NJO2KeZWWM"
      },
      "source": [
        "нормирую цену квартиры выход нейросети"
      ]
    },
    {
      "cell_type": "code",
      "metadata": {
        "colab": {
          "base_uri": "https://localhost:8080/"
        },
        "id": "1WOK6nCeZIcK",
        "outputId": "2768a338-89f2-46de-c989-d92ff5d84e78"
      },
      "source": [
        "yScaler = StandardScaler()                                # нормировщик нормального распределения\n",
        "yScaler.fit(yTrain.reshape(-1, 1))                        # обучаю на ценах квартир\n",
        "yTrainScaled = yScaler.transform(yTrain.reshape(-1, 1))   # нормироую цену(выход)\n",
        "\n",
        "print(\"размер:\", yTrainScaled.shape)\n",
        "print(\"цена до нормирования:\", yTrain[2])\n",
        "print(\"цена после нормирования:\", yTrainScaled[2])\n",
        "print(\"цена до нормирования:\", yTrain[12])\n",
        "print(\"цена после нормирования:\", yTrainScaled[12])"
      ],
      "execution_count": 26,
      "outputs": [
        {
          "output_type": "stream",
          "text": [
            "размер: (62504, 1)\n",
            "цена до нормирования: 7990000.0\n",
            "цена после нормирования: [-0.05886963]\n",
            "цена до нормирования: 8079750.0\n",
            "цена после нормирования: [-0.05490067]\n"
          ],
          "name": "stdout"
        }
      ]
    },
    {
      "cell_type": "code",
      "metadata": {
        "colab": {
          "base_uri": "https://localhost:8080/"
        },
        "id": "9H78uUphZIk9",
        "outputId": "40a566fc-7d57-4d2b-cc01-f736ac99ec44"
      },
      "source": [
        "print(\"мин и макс значения до нормирования:\",min(yTrain), max(yTrain))\n",
        "print(\"мин и макс значения после нормирования:\",min(yTrainScaled), max(yTrainScaled))"
      ],
      "execution_count": 27,
      "outputs": [
        {
          "output_type": "stream",
          "text": [
            "мин и макс значения до нормирования: 1500000.0 3000000015.0\n",
            "мин и макс значения после нормирования: [-0.3458729] [132.25494456]\n"
          ],
          "name": "stdout"
        }
      ]
    },
    {
      "cell_type": "code",
      "metadata": {
        "id": "noupQnMZZIsZ"
      },
      "source": [
        "splitVal = 0.2                                                   # 20% выделяю для проверочной выборки\n",
        "valMask = np.random.sample(xTrainScaled.shape[0]) < splitVal     # маска True-False для создания проверочной выборки"
      ],
      "execution_count": 28,
      "outputs": []
    },
    {
      "cell_type": "code",
      "metadata": {
        "id": "K2ytfY-xZoOe"
      },
      "source": [
        ""
      ],
      "execution_count": null,
      "outputs": []
    },
    {
      "cell_type": "code",
      "metadata": {
        "id": "cZ1AujSoZxcx"
      },
      "source": [
        "def on_epoch_end(epoch, logs):\n",
        "    pred = model.predict([xTrainScaled[valMask], xTrainC01[valMask]])                          # предсказание сети выход сети на проверочно выборке\n",
        "    predUnscaled = yScaler.inverse_transform(pred).flatten()                                   # преобразую предсказание к изначальным величинам цен квартир \n",
        "    yTrainUnscaled = yScaler.inverse_transform(yTrainScaled[valMask]).flatten()                # преобразую изначальные величины цен квартир yTrain\n",
        "    delta = predUnscaled - yTrainUnscaled                                                      # разность предсказания и реальных цен\n",
        "    absDelta = abs(delta)   \n",
        "    metrics = model.metrics                                                                   # модуль отклонения\n",
        "    print(\"Эпоха №:\", epoch, \"модуль ошибки:\", round(sum(absDelta) / (1e+6 * len(absDelta)),3))    # усреднёная ошибка в миллионах рублей\n",
        "    print(logs)\n",
        "    count = epoch + 1\n",
        "    start_time = time.time()\n",
        "    epoch_time = time.time() - start_time\n",
        "    sum_time = epoch_time * 20\n",
        "    Save = model.save(\"/content/drive/MyDrive/moscow.h5\")                                      # переменная содержит модель с лучшим резуьтатом\n",
        "    \n",
        "    print(\"Bремя обучения эпохи №:\", epoch, epoch_time,\"sec\", \"Bремя обучения суммарное:\", sum_time,\"sec\\n\",\n",
        "          \"Время о конца обучения:\", sum_time - (count * epoch_time))\n",
        "\n",
        "\n",
        "pltMae = LambdaCallback(on_epoch_end=on_epoch_end)"
      ],
      "execution_count": 82,
      "outputs": []
    },
    {
      "cell_type": "code",
      "metadata": {
        "id": "pI14w6WEZ5V4"
      },
      "source": [
        "input1 = Input((xTrainScaled.shape[1],))\n",
        "input2 = Input((xTrainC01.shape[1],))\n",
        "\n",
        "x1 = Dense(10, activation=\"relu\")(input1)   \n",
        "x2 = Dense(250, activation=\"relu\")(input2)\n",
        "\n",
        "x = concatenate([x1, x2])\n",
        "\n",
        "x = Dense(100, activation='relu')(x)\n",
        "x = Dense(10, activation='relu')(x)\n",
        "x = Dense(1, activation='linear')(x)\n",
        "\n",
        "model = Model((input1, input2), x)\n",
        "\n",
        "model.compile(optimizer=Adam(lr=1e-3), loss=\"mse\", metrics=[\"mae\"])"
      ],
      "execution_count": 83,
      "outputs": []
    },
    {
      "cell_type": "code",
      "metadata": {
        "colab": {
          "base_uri": "https://localhost:8080/"
        },
        "id": "cRF130YJZ5ZO",
        "outputId": "757e20a3-2ec3-4824-8940-a74e5d569d9a"
      },
      "source": [
        "model.summary()"
      ],
      "execution_count": 84,
      "outputs": [
        {
          "output_type": "stream",
          "text": [
            "Model: \"model_2\"\n",
            "__________________________________________________________________________________________________\n",
            "Layer (type)                    Output Shape         Param #     Connected to                     \n",
            "==================================================================================================\n",
            "input_5 (InputLayer)            [(None, 109)]        0                                            \n",
            "__________________________________________________________________________________________________\n",
            "input_6 (InputLayer)            [(None, 2000)]       0                                            \n",
            "__________________________________________________________________________________________________\n",
            "dense_10 (Dense)                (None, 10)           1100        input_5[0][0]                    \n",
            "__________________________________________________________________________________________________\n",
            "dense_11 (Dense)                (None, 250)          500250      input_6[0][0]                    \n",
            "__________________________________________________________________________________________________\n",
            "concatenate_2 (Concatenate)     (None, 260)          0           dense_10[0][0]                   \n",
            "                                                                 dense_11[0][0]                   \n",
            "__________________________________________________________________________________________________\n",
            "dense_12 (Dense)                (None, 100)          26100       concatenate_2[0][0]              \n",
            "__________________________________________________________________________________________________\n",
            "dense_13 (Dense)                (None, 10)           1010        dense_12[0][0]                   \n",
            "__________________________________________________________________________________________________\n",
            "dense_14 (Dense)                (None, 1)            11          dense_13[0][0]                   \n",
            "==================================================================================================\n",
            "Total params: 528,471\n",
            "Trainable params: 528,471\n",
            "Non-trainable params: 0\n",
            "__________________________________________________________________________________________________\n"
          ],
          "name": "stdout"
        }
      ]
    },
    {
      "cell_type": "code",
      "metadata": {
        "id": "W3HjbyyP0t27"
      },
      "source": [
        "# задание №1 - на каждой эпохе вывести текущую mae\n",
        "# задание 2 - График mae по всем эпохам на обучающей и проверочная выборках\n",
        "# задание 3 - Текущий scatter\n",
        "# задание 4 - Текущую гистограмму ошибок\n",
        "# задание 5 - Время обучения на эпохе, время обучения суммарное и сколько времени остаётся до конца обучения\n",
        "# задание 6 - сохранить в .h5 сеть с лучшей точностью ( лежит в Save)"
      ],
      "execution_count": null,
      "outputs": []
    },
    {
      "cell_type": "code",
      "metadata": {
        "id": "FJJ0Oae_hVGS"
      },
      "source": [
        ""
      ],
      "execution_count": null,
      "outputs": []
    },
    {
      "cell_type": "code",
      "metadata": {
        "colab": {
          "base_uri": "https://localhost:8080/",
          "height": 1000
        },
        "id": "dW0lmLg41e0D",
        "outputId": "a92de31a-d4ee-4c02-852d-e56b3c871001"
      },
      "source": [
        "history = model.fit([xTrainScaled[~valMask], xTrainC01[~valMask]], yTrainScaled[~valMask], epochs=20, \n",
        "                    validation_data=([xTrainScaled[valMask], xTrainC01[valMask]], yTrainScaled[valMask]), verbose=0, callbacks=[pltMae])\n",
        "\n",
        "plt.figure(figsize=(20, 4))\n",
        "\n",
        "plt.subplot(1, 3, 1)\n",
        "plt.plot(history.history[\"mae\"], label=\"Средняя абсолютная ошибка на обучающем наборе\")\n",
        "plt.plot(history.history[\"val_mae\"], label=\"Средняя абсолютная ошибка на проверочном наборе\")\n",
        "plt.xlabel('Эпоха обучения')\n",
        "plt.ylabel('Средняя абсолютная ошибка')\n",
        "plt.legend()\n",
        "plt.grid()\n",
        "\n",
        "plt.subplot(1, 3, 2)\n",
        "plt.scatter(history.history[\"mae\"], history.history[\"val_mae\"], color=\"r\", label=\"текущий scatter\")\n",
        "plt.legend()\n",
        "plt.grid()\n",
        "\n",
        "plt.subplot(1,3,3)\n",
        "plt.hist(history.history[\"loss\"], color=\"r\", label=\"гистограммa ошибок\")\n",
        "plt.legend()\n",
        "plt.grid()\n",
        "\n",
        "plt.show()"
      ],
      "execution_count": 85,
      "outputs": [
        {
          "output_type": "stream",
          "text": [
            "Эпоха №: 0 модуль ошибки: 3.762\n",
            "{'loss': 0.5286165475845337, 'mae': 0.13804562389850616, 'val_loss': 0.42723482847213745, 'val_mae': 0.16635046899318695}\n",
            "Bремя обучения эпохи №: 0 2.384185791015625e-07 sec Bремя обучения суммарное: 4.76837158203125e-06 sec\n",
            " Время о конца обучения: 4.5299530029296875e-06\n",
            "Эпоха №: 1 модуль ошибки: 1.625\n",
            "{'loss': 0.2629271447658539, 'mae': 0.10566174238920212, 'val_loss': 0.06405152380466461, 'val_mae': 0.0718485414981842}\n",
            "Bремя обучения эпохи №: 1 2.384185791015625e-07 sec Bремя обучения суммарное: 4.76837158203125e-06 sec\n",
            " Время о конца обучения: 4.291534423828125e-06\n",
            "Эпоха №: 2 модуль ошибки: 1.929\n",
            "{'loss': 0.05181104689836502, 'mae': 0.0849870964884758, 'val_loss': 0.6136660575866699, 'val_mae': 0.08532527089118958}\n",
            "Bремя обучения эпохи №: 2 2.384185791015625e-07 sec Bремя обучения суммарное: 4.76837158203125e-06 sec\n",
            " Время о конца обучения: 4.0531158447265625e-06\n",
            "Эпоха №: 3 модуль ошибки: 1.385\n",
            "{'loss': 0.17236800491809845, 'mae': 0.08662792295217514, 'val_loss': 0.12955383956432343, 'val_mae': 0.06125078350305557}\n",
            "Bремя обучения эпохи №: 3 2.384185791015625e-07 sec Bремя обучения суммарное: 4.76837158203125e-06 sec\n",
            " Время о конца обучения: 3.814697265625e-06\n",
            "Эпоха №: 4 модуль ошибки: 1.72\n",
            "{'loss': 0.2024470865726471, 'mae': 0.05998395383358002, 'val_loss': 0.0314180850982666, 'val_mae': 0.07604406774044037}\n",
            "Bремя обучения эпохи №: 4 0.0 sec Bремя обучения суммарное: 0.0 sec\n",
            " Время о конца обучения: 0.0\n",
            "Эпоха №: 5 модуль ошибки: 1.583\n",
            "{'loss': 0.04224708303809166, 'mae': 0.060918476432561874, 'val_loss': 0.28325721621513367, 'val_mae': 0.07001889497041702}\n",
            "Bремя обучения эпохи №: 5 0.0 sec Bремя обучения суммарное: 0.0 sec\n",
            " Время о конца обучения: 0.0\n",
            "Эпоха №: 6 модуль ошибки: 2.437\n",
            "{'loss': 0.08604607731103897, 'mae': 0.057448145002126694, 'val_loss': 0.07049360871315002, 'val_mae': 0.10778108984231949}\n",
            "Bремя обучения эпохи №: 6 2.384185791015625e-07 sec Bремя обучения суммарное: 4.76837158203125e-06 sec\n",
            " Время о конца обучения: 3.0994415283203125e-06\n",
            "Эпоха №: 7 модуль ошибки: 1.945\n",
            "{'loss': 0.1739339977502823, 'mae': 0.05892830714583397, 'val_loss': 0.3876557946205139, 'val_mae': 0.08602256327867508}\n",
            "Bремя обучения эпохи №: 7 2.384185791015625e-07 sec Bремя обучения суммарное: 4.76837158203125e-06 sec\n",
            " Время о конца обучения: 2.86102294921875e-06\n",
            "Эпоха №: 8 модуль ошибки: 1.184\n",
            "{'loss': 0.15817008912563324, 'mae': 0.05514751374721527, 'val_loss': 0.04009120538830757, 'val_mae': 0.05234331637620926}\n",
            "Bремя обучения эпохи №: 8 2.384185791015625e-07 sec Bремя обучения суммарное: 4.76837158203125e-06 sec\n",
            " Время о конца обучения: 2.6226043701171875e-06\n",
            "Эпоха №: 9 модуль ошибки: 1.188\n",
            "{'loss': 0.017147082835435867, 'mae': 0.04510156065225601, 'val_loss': 0.021545788273215294, 'val_mae': 0.05253535509109497}\n",
            "Bремя обучения эпохи №: 9 2.384185791015625e-07 sec Bремя обучения суммарное: 4.76837158203125e-06 sec\n",
            " Время о конца обучения: 2.384185791015625e-06\n",
            "Эпоха №: 10 модуль ошибки: 1.108\n",
            "{'loss': 0.22945775091648102, 'mae': 0.04845159873366356, 'val_loss': 0.15810391306877136, 'val_mae': 0.04900151118636131}\n",
            "Bремя обучения эпохи №: 10 2.384185791015625e-07 sec Bремя обучения суммарное: 4.76837158203125e-06 sec\n",
            " Время о конца обучения: 2.1457672119140625e-06\n",
            "Эпоха №: 11 модуль ошибки: 1.214\n",
            "{'loss': 0.04024260863661766, 'mae': 0.0443590022623539, 'val_loss': 0.1142217218875885, 'val_mae': 0.05370490625500679}\n",
            "Bремя обучения эпохи №: 11 2.384185791015625e-07 sec Bремя обучения суммарное: 4.76837158203125e-06 sec\n",
            " Время о конца обучения: 1.9073486328125e-06\n",
            "Эпоха №: 12 модуль ошибки: 1.226\n",
            "{'loss': 0.03294055908918381, 'mae': 0.0429685153067112, 'val_loss': 0.8125290870666504, 'val_mae': 0.05421312525868416}\n",
            "Bремя обучения эпохи №: 12 2.384185791015625e-07 sec Bремя обучения суммарное: 4.76837158203125e-06 sec\n",
            " Время о конца обучения: 1.6689300537109375e-06\n",
            "Эпоха №: 13 модуль ошибки: 1.188\n",
            "{'loss': 0.1471971720457077, 'mae': 0.045732032507658005, 'val_loss': 0.05031484737992287, 'val_mae': 0.05255654454231262}\n",
            "Bремя обучения эпохи №: 13 2.384185791015625e-07 sec Bремя обучения суммарное: 4.76837158203125e-06 sec\n",
            " Время о конца обучения: 1.430511474609375e-06\n",
            "Эпоха №: 14 модуль ошибки: 1.276\n",
            "{'loss': 0.03346191346645355, 'mae': 0.043064478784799576, 'val_loss': 0.029169904068112373, 'val_mae': 0.05641404539346695}\n",
            "Bремя обучения эпохи №: 14 2.384185791015625e-07 sec Bремя обучения суммарное: 4.76837158203125e-06 sec\n",
            " Время о конца обучения: 1.1920928955078125e-06\n",
            "Эпоха №: 15 модуль ошибки: 1.182\n",
            "{'loss': 0.06518669426441193, 'mae': 0.04359280318021774, 'val_loss': 0.48086076974868774, 'val_mae': 0.052252963185310364}\n",
            "Bремя обучения эпохи №: 15 0.0 sec Bремя обучения суммарное: 0.0 sec\n",
            " Время о конца обучения: 0.0\n",
            "Эпоха №: 16 модуль ошибки: 1.458\n",
            "{'loss': 0.23212578892707825, 'mae': 0.04373158514499664, 'val_loss': 0.05101131647825241, 'val_mae': 0.06448651105165482}\n",
            "Bремя обучения эпохи №: 16 4.76837158203125e-07 sec Bремя обучения суммарное: 9.5367431640625e-06 sec\n",
            " Время о конца обучения: 1.430511474609375e-06\n",
            "Эпоха №: 17 модуль ошибки: 1.013\n",
            "{'loss': 0.01888916827738285, 'mae': 0.03717219829559326, 'val_loss': 0.03739127889275551, 'val_mae': 0.04481073096394539}\n",
            "Bремя обучения эпохи №: 17 2.384185791015625e-07 sec Bремя обучения суммарное: 4.76837158203125e-06 sec\n",
            " Время о конца обучения: 4.76837158203125e-07\n",
            "Эпоха №: 18 модуль ошибки: 1.458\n",
            "{'loss': 0.0568314827978611, 'mae': 0.03828776255249977, 'val_loss': 0.3940650522708893, 'val_mae': 0.06449433416128159}\n",
            "Bремя обучения эпохи №: 18 2.384185791015625e-07 sec Bремя обучения суммарное: 4.76837158203125e-06 sec\n",
            " Время о конца обучения: 2.384185791015625e-07\n",
            "Эпоха №: 19 модуль ошибки: 1.064\n",
            "{'loss': 0.12212458997964859, 'mae': 0.036454297602176666, 'val_loss': 0.034049469977617264, 'val_mae': 0.047072965651750565}\n",
            "Bремя обучения эпохи №: 19 2.384185791015625e-07 sec Bремя обучения суммарное: 4.76837158203125e-06 sec\n",
            " Время о конца обучения: 0.0\n"
          ],
          "name": "stdout"
        },
        {
          "output_type": "display_data",
          "data": {
            "image/png": "[encoded data removed]",
            "text/plain": [
              "<Figure size 1440x288 with 3 Axes>"
            ]
          },
          "metadata": {
            "tags": [],
            "needs_background": "light"
          }
        }
      ]
    },
    {
      "cell_type": "code",
      "metadata": {
        "colab": {
          "base_uri": "https://localhost:8080/",
          "height": 1000
        },
        "id": "AZltVAaL1M5X",
        "outputId": "ffac5adc-9bcf-4a6f-d964-04f3a504ecd1"
      },
      "source": [
        "print(\"Меняю шаг обучения на 1e-4\")\n",
        "model.compile(optimizer=Adam(lr=1e-4), loss=\"mse\", metrics=[\"mae\"])\n",
        "\n",
        "history = model.fit([xTrainScaled[~valMask], xTrainC01[~valMask]], yTrainScaled[~valMask], epochs=20, \n",
        "                    validation_data=([xTrainScaled[valMask], xTrainC01[valMask]], yTrainScaled[valMask]), verbose=0,callbacks=[pltMae])\n",
        "\n",
        "plt.figure(figsize=(20, 4))\n",
        "\n",
        "plt.subplot(1, 3, 1)\n",
        "plt.plot(history.history[\"mae\"], label=\"Средняя абсолютная ошибка на обучающем наборе\")\n",
        "plt.plot(history.history[\"val_mae\"], label=\"Средняя абсолютная ошибка на проверочном наборе\")\n",
        "plt.xlabel('Эпоха обучения')\n",
        "plt.ylabel('Средняя абсолютная ошибка')\n",
        "plt.legend()\n",
        "plt.grid()\n",
        "\n",
        "plt.subplot(1, 3, 2)\n",
        "plt.scatter(history.history[\"mae\"], history.history[\"val_mae\"], color=\"r\", label=\"текущий scatter\")\n",
        "plt.legend()\n",
        "plt.grid()\n",
        "\n",
        "plt.subplot(1,3,3)\n",
        "plt.hist(history.history[\"loss\"], color=\"r\", label=\"гистограммa ошибок\")\n",
        "plt.legend()\n",
        "plt.grid()\n",
        "\n",
        "plt.show()"
      ],
      "execution_count": 86,
      "outputs": [
        {
          "output_type": "stream",
          "text": [
            "Меняю шаг обучения на 1e-4\n",
            "Эпоха №: 0 модуль ошибки: 0.917\n",
            "{'loss': 0.00986074935644865, 'mae': 0.02771514281630516, 'val_loss': 0.01772434264421463, 'val_mae': 0.0405474416911602}\n",
            "Bремя обучения эпохи №: 0 2.384185791015625e-07 sec Bремя обучения суммарное: 4.76837158203125e-06 sec\n",
            " Время о конца обучения: 4.5299530029296875e-06\n",
            "Эпоха №: 1 модуль ошибки: 0.899\n",
            "{'loss': 0.007491582073271275, 'mae': 0.023775825276970863, 'val_loss': 0.01727408729493618, 'val_mae': 0.03975515067577362}\n",
            "Bремя обучения эпохи №: 1 2.384185791015625e-07 sec Bремя обучения суммарное: 4.76837158203125e-06 sec\n",
            " Время о конца обучения: 4.291534423828125e-06\n",
            "Эпоха №: 2 модуль ошибки: 0.885\n",
            "{'loss': 0.004085357300937176, 'mae': 0.02168523520231247, 'val_loss': 0.025512034073472023, 'val_mae': 0.039138082414865494}\n",
            "Bремя обучения эпохи №: 2 2.384185791015625e-07 sec Bремя обучения суммарное: 4.76837158203125e-06 sec\n",
            " Время о конца обучения: 4.0531158447265625e-06\n",
            "Эпоха №: 3 модуль ошибки: 0.898\n",
            "{'loss': 0.005827554035931826, 'mae': 0.02086116187274456, 'val_loss': 0.021785598248243332, 'val_mae': 0.03969868645071983}\n",
            "Bремя обучения эпохи №: 3 4.76837158203125e-07 sec Bремя обучения суммарное: 9.5367431640625e-06 sec\n",
            " Время о конца обучения: 7.62939453125e-06\n",
            "Эпоха №: 4 модуль ошибки: 0.871\n",
            "{'loss': 0.005178564693778753, 'mae': 0.02023329585790634, 'val_loss': 0.024516049772500992, 'val_mae': 0.0385051853954792}\n",
            "Bремя обучения эпохи №: 4 2.384185791015625e-07 sec Bремя обучения суммарное: 4.76837158203125e-06 sec\n",
            " Время о конца обучения: 3.5762786865234375e-06\n",
            "Эпоха №: 5 модуль ошибки: 0.87\n",
            "{'loss': 0.003407927928492427, 'mae': 0.019036851823329926, 'val_loss': 0.016800617799162865, 'val_mae': 0.038476914167404175}\n",
            "Bремя обучения эпохи №: 5 2.384185791015625e-07 sec Bремя обучения суммарное: 4.76837158203125e-06 sec\n",
            " Время о конца обучения: 3.337860107421875e-06\n",
            "Эпоха №: 6 модуль ошибки: 0.865\n",
            "{'loss': 0.0031669619493186474, 'mae': 0.01863577775657177, 'val_loss': 0.029671063646674156, 'val_mae': 0.03823929280042648}\n",
            "Bремя обучения эпохи №: 6 0.0 sec Bремя обучения суммарное: 0.0 sec\n",
            " Время о конца обучения: 0.0\n",
            "Эпоха №: 7 модуль ошибки: 0.853\n",
            "{'loss': 0.002496572909876704, 'mae': 0.018398823216557503, 'val_loss': 0.017100630328059196, 'val_mae': 0.03771571069955826}\n",
            "Bремя обучения эпохи №: 7 2.384185791015625e-07 sec Bремя обучения суммарное: 4.76837158203125e-06 sec\n",
            " Время о конца обучения: 2.86102294921875e-06\n",
            "Эпоха №: 8 модуль ошибки: 0.916\n",
            "{'loss': 0.0019845447968691587, 'mae': 0.018001288175582886, 'val_loss': 0.03102145902812481, 'val_mae': 0.0405195988714695}\n",
            "Bремя обучения эпохи №: 8 2.384185791015625e-07 sec Bремя обучения суммарное: 4.76837158203125e-06 sec\n",
            " Время о конца обучения: 2.6226043701171875e-06\n",
            "Эпоха №: 9 модуль ошибки: 0.836\n",
            "{'loss': 0.002204151824116707, 'mae': 0.01761375367641449, 'val_loss': 0.01672370731830597, 'val_mae': 0.03696726635098457}\n",
            "Bремя обучения эпохи №: 9 2.384185791015625e-07 sec Bремя обучения суммарное: 4.76837158203125e-06 sec\n",
            " Время о конца обучения: 2.384185791015625e-06\n",
            "Эпоха №: 10 модуль ошибки: 0.83\n",
            "{'loss': 0.0060556852258741856, 'mae': 0.01781824417412281, 'val_loss': 0.016608526930212975, 'val_mae': 0.03672657161951065}\n",
            "Bремя обучения эпохи №: 10 2.384185791015625e-07 sec Bремя обучения суммарное: 4.76837158203125e-06 sec\n",
            " Время о конца обучения: 2.1457672119140625e-06\n",
            "Эпоха №: 11 модуль ошибки: 0.857\n",
            "{'loss': 0.002555932616814971, 'mae': 0.017086217179894447, 'val_loss': 0.02809010073542595, 'val_mae': 0.037913840264081955}\n",
            "Bремя обучения эпохи №: 11 4.76837158203125e-07 sec Bремя обучения суммарное: 9.5367431640625e-06 sec\n",
            " Время о конца обучения: 3.814697265625e-06\n",
            "Эпоха №: 12 модуль ошибки: 0.844\n",
            "{'loss': 0.005125810392200947, 'mae': 0.017061464488506317, 'val_loss': 0.02526538074016571, 'val_mae': 0.037317901849746704}\n",
            "Bремя обучения эпохи №: 12 2.384185791015625e-07 sec Bремя обучения суммарное: 4.76837158203125e-06 sec\n",
            " Время о конца обучения: 1.6689300537109375e-06\n",
            "Эпоха №: 13 модуль ошибки: 0.834\n",
            "{'loss': 0.0025339010171592236, 'mae': 0.01644396409392357, 'val_loss': 0.016668884083628654, 'val_mae': 0.036874979734420776}\n",
            "Bремя обучения эпохи №: 13 7.152557373046875e-07 sec Bремя обучения суммарное: 1.430511474609375e-05 sec\n",
            " Время о конца обучения: 4.291534423828125e-06\n",
            "Эпоха №: 14 модуль ошибки: 0.853\n",
            "{'loss': 0.002090731170028448, 'mae': 0.01648394763469696, 'val_loss': 0.03179299458861351, 'val_mae': 0.03772440925240517}\n",
            "Bремя обучения эпохи №: 14 2.384185791015625e-07 sec Bремя обучения суммарное: 4.76837158203125e-06 sec\n",
            " Время о конца обучения: 1.1920928955078125e-06\n",
            "Эпоха №: 15 модуль ошибки: 0.833\n",
            "{'loss': 0.002010029973462224, 'mae': 0.01632252335548401, 'val_loss': 0.017453182488679886, 'val_mae': 0.03682788088917732}\n",
            "Bремя обучения эпохи №: 15 2.384185791015625e-07 sec Bремя обучения суммарное: 4.76837158203125e-06 sec\n",
            " Время о конца обучения: 9.5367431640625e-07\n",
            "Эпоха №: 16 модуль ошибки: 0.827\n",
            "{'loss': 0.005143167916685343, 'mae': 0.016479063779115677, 'val_loss': 0.0168011337518692, 'val_mae': 0.03659062460064888}\n",
            "Bремя обучения эпохи №: 16 0.0 sec Bремя обучения суммарное: 0.0 sec\n",
            " Время о конца обучения: 0.0\n",
            "Эпоха №: 17 модуль ошибки: 0.829\n",
            "{'loss': 0.0034748537000268698, 'mae': 0.01603100076317787, 'val_loss': 0.01875915750861168, 'val_mae': 0.03665105625987053}\n",
            "Bремя обучения эпохи №: 17 2.384185791015625e-07 sec Bремя обучения суммарное: 4.76837158203125e-06 sec\n",
            " Время о конца обучения: 4.76837158203125e-07\n",
            "Эпоха №: 18 модуль ошибки: 0.823\n",
            "{'loss': 0.0036911042407155037, 'mae': 0.0161020215600729, 'val_loss': 0.016875626519322395, 'val_mae': 0.03637317940592766}\n",
            "Bремя обучения эпохи №: 18 0.0 sec Bремя обучения суммарное: 0.0 sec\n",
            " Время о конца обучения: 0.0\n",
            "Эпоха №: 19 модуль ошибки: 0.838\n",
            "{'loss': 0.0019101875368505716, 'mae': 0.015529443509876728, 'val_loss': 0.024110257625579834, 'val_mae': 0.03706700727343559}\n",
            "Bремя обучения эпохи №: 19 2.384185791015625e-07 sec Bремя обучения суммарное: 4.76837158203125e-06 sec\n",
            " Время о конца обучения: 0.0\n"
          ],
          "name": "stdout"
        },
        {
          "output_type": "display_data",
          "data": {
            "image/png": "[encoded data removed]",
            "text/plain": [
              "<Figure size 1440x288 with 3 Axes>"
            ]
          },
          "metadata": {
            "tags": [],
            "needs_background": "light"
          }
        }
      ]
    },
    {
      "cell_type": "code",
      "metadata": {
        "colab": {
          "base_uri": "https://localhost:8080/",
          "height": 1000
        },
        "id": "K2ylfss91O3a",
        "outputId": "80373fe0-78fb-4494-b4a9-db64660ab5be"
      },
      "source": [
        "print(\"Меняю шаг обучения на 1e-5\")\n",
        "model.compile(optimizer=Adam(lr=1e-5), loss=\"mse\", metrics=[\"mae\"])\n",
        "history = model.fit([xTrainScaled[~valMask], xTrainC01[~valMask]], yTrainScaled[~valMask], epochs=20, \n",
        "                    validation_data=([xTrainScaled[valMask], xTrainC01[valMask]], yTrainScaled[valMask]), verbose=0,callbacks=[pltMae])\n",
        "\n",
        "plt.figure(figsize=(20, 4))\n",
        "\n",
        "plt.subplot(1, 3, 1)\n",
        "plt.plot(history.history[\"mae\"], label=\"Средняя абсолютная ошибка на обучающем наборе\")\n",
        "plt.plot(history.history[\"val_mae\"], label=\"Средняя абсолютная ошибка на проверочном наборе\")\n",
        "plt.xlabel('Эпоха обучения')\n",
        "plt.ylabel('Средняя абсолютная ошибка')\n",
        "plt.legend()\n",
        "plt.grid()\n",
        "\n",
        "plt.subplot(1, 3, 2)\n",
        "plt.scatter(history.history[\"mae\"], history.history[\"val_mae\"], color=\"r\", label=\"текущий scatter\")\n",
        "plt.legend()\n",
        "plt.grid()\n",
        "\n",
        "plt.subplot(1,3,3)\n",
        "plt.hist(history.history[\"loss\"], color=\"r\", label=\"гистограммa ошибок\")\n",
        "plt.legend()\n",
        "plt.grid()\n",
        "\n",
        "plt.show()"
      ],
      "execution_count": 87,
      "outputs": [
        {
          "output_type": "stream",
          "text": [
            "Меняю шаг обучения на 1e-5\n",
            "Эпоха №: 0 модуль ошибки: 0.824\n",
            "{'loss': 0.002367421519011259, 'mae': 0.014276213012635708, 'val_loss': 0.02236257866024971, 'val_mae': 0.03644353151321411}\n",
            "Bремя обучения эпохи №: 0 2.384185791015625e-07 sec Bремя обучения суммарное: 4.76837158203125e-06 sec\n",
            " Время о конца обучения: 4.5299530029296875e-06\n",
            "Эпоха №: 1 модуль ошибки: 0.821\n",
            "{'loss': 0.0019723388832062483, 'mae': 0.013999592512845993, 'val_loss': 0.02046223171055317, 'val_mae': 0.03632284328341484}\n",
            "Bремя обучения эпохи №: 1 2.384185791015625e-07 sec Bремя обучения суммарное: 4.76837158203125e-06 sec\n",
            " Время о конца обучения: 4.291534423828125e-06\n",
            "Эпоха №: 2 модуль ошибки: 0.82\n",
            "{'loss': 0.001761322608217597, 'mae': 0.013885791413486004, 'val_loss': 0.019965635612607002, 'val_mae': 0.0362665057182312}\n",
            "Bремя обучения эпохи №: 2 2.384185791015625e-07 sec Bремя обучения суммарное: 4.76837158203125e-06 sec\n",
            " Время о конца обучения: 4.0531158447265625e-06\n",
            "Эпоха №: 3 модуль ошибки: 0.818\n",
            "{'loss': 0.0017346235690638423, 'mae': 0.013819700106978416, 'val_loss': 0.0191972479224205, 'val_mae': 0.036190375685691833}\n",
            "Bремя обучения эпохи №: 3 4.76837158203125e-07 sec Bремя обучения суммарное: 9.5367431640625e-06 sec\n",
            " Время о конца обучения: 7.62939453125e-06\n",
            "Эпоха №: 4 модуль ошибки: 0.817\n",
            "{'loss': 0.0016677030362188816, 'mae': 0.013742075301706791, 'val_loss': 0.0188496932387352, 'val_mae': 0.03614303469657898}\n",
            "Bремя обучения эпохи №: 4 2.384185791015625e-07 sec Bремя обучения суммарное: 4.76837158203125e-06 sec\n",
            " Время о конца обучения: 3.5762786865234375e-06\n",
            "Эпоха №: 5 модуль ошибки: 0.818\n",
            "{'loss': 0.0016611942555755377, 'mae': 0.01372030470520258, 'val_loss': 0.01869715377688408, 'val_mae': 0.03616006672382355}\n",
            "Bремя обучения эпохи №: 5 2.384185791015625e-07 sec Bремя обучения суммарное: 4.76837158203125e-06 sec\n",
            " Время о конца обучения: 3.337860107421875e-06\n",
            "Эпоха №: 6 модуль ошибки: 0.816\n",
            "{'loss': 0.0015571750700473785, 'mae': 0.013690227642655373, 'val_loss': 0.018635377287864685, 'val_mae': 0.03606649115681648}\n",
            "Bремя обучения эпохи №: 6 2.384185791015625e-07 sec Bремя обучения суммарное: 4.76837158203125e-06 sec\n",
            " Время о конца обучения: 3.0994415283203125e-06\n",
            "Эпоха №: 7 модуль ошибки: 0.816\n",
            "{'loss': 0.001641558832488954, 'mae': 0.013644528575241566, 'val_loss': 0.018728341907262802, 'val_mae': 0.03608202189207077}\n",
            "Bремя обучения эпохи №: 7 2.384185791015625e-07 sec Bремя обучения суммарное: 4.76837158203125e-06 sec\n",
            " Время о конца обучения: 2.86102294921875e-06\n",
            "Эпоха №: 8 модуль ошибки: 0.816\n",
            "{'loss': 0.0016294235829263926, 'mae': 0.013606867752969265, 'val_loss': 0.018580442294478416, 'val_mae': 0.036073364317417145}\n",
            "Bремя обучения эпохи №: 8 2.384185791015625e-07 sec Bремя обучения суммарное: 4.76837158203125e-06 sec\n",
            " Время о конца обучения: 2.6226043701171875e-06\n",
            "Эпоха №: 9 модуль ошибки: 0.817\n",
            "{'loss': 0.0016148597933351994, 'mae': 0.013545617461204529, 'val_loss': 0.01845559850335121, 'val_mae': 0.03613879904150963}\n",
            "Bремя обучения эпохи №: 9 2.384185791015625e-07 sec Bремя обучения суммарное: 4.76837158203125e-06 sec\n",
            " Время о конца обучения: 2.384185791015625e-06\n",
            "Эпоха №: 10 модуль ошибки: 0.816\n",
            "{'loss': 0.0015937276184558868, 'mae': 0.013599270023405552, 'val_loss': 0.018704861402511597, 'val_mae': 0.036085229367017746}\n",
            "Bремя обучения эпохи №: 10 4.76837158203125e-07 sec Bремя обучения суммарное: 9.5367431640625e-06 sec\n",
            " Время о конца обучения: 4.291534423828125e-06\n",
            "Эпоха №: 11 модуль ошибки: 0.815\n",
            "{'loss': 0.0016184422420337796, 'mae': 0.013512642122805119, 'val_loss': 0.018630659207701683, 'val_mae': 0.03604116290807724}\n",
            "Bремя обучения эпохи №: 11 2.384185791015625e-07 sec Bремя обучения суммарное: 4.76837158203125e-06 sec\n",
            " Время о конца обучения: 1.9073486328125e-06\n",
            "Эпоха №: 12 модуль ошибки: 0.815\n",
            "{'loss': 0.001611742889508605, 'mae': 0.013580218888819218, 'val_loss': 0.018438197672367096, 'val_mae': 0.036044128239154816}\n",
            "Bремя обучения эпохи №: 12 2.384185791015625e-07 sec Bремя обучения суммарное: 4.76837158203125e-06 sec\n",
            " Время о конца обучения: 1.6689300537109375e-06\n",
            "Эпоха №: 13 модуль ошибки: 0.817\n",
            "{'loss': 0.001572983805090189, 'mae': 0.013519739732146263, 'val_loss': 0.018555747345089912, 'val_mae': 0.0361202172935009}\n",
            "Bремя обучения эпохи №: 13 2.384185791015625e-07 sec Bремя обучения суммарное: 4.76837158203125e-06 sec\n",
            " Время о конца обучения: 1.430511474609375e-06\n",
            "Эпоха №: 14 модуль ошибки: 0.816\n",
            "{'loss': 0.0016195748466998339, 'mae': 0.01344137080013752, 'val_loss': 0.018532829359173775, 'val_mae': 0.03609814867377281}\n",
            "Bремя обучения эпохи №: 14 2.384185791015625e-07 sec Bремя обучения суммарное: 4.76837158203125e-06 sec\n",
            " Время о конца обучения: 1.1920928955078125e-06\n",
            "Эпоха №: 15 модуль ошибки: 0.815\n",
            "{'loss': 0.001555300084874034, 'mae': 0.013374465517699718, 'val_loss': 0.018261311575770378, 'val_mae': 0.03605182468891144}\n",
            "Bремя обучения эпохи №: 15 4.76837158203125e-07 sec Bремя обучения суммарное: 9.5367431640625e-06 sec\n",
            " Время о конца обучения: 1.9073486328125e-06\n",
            "Эпоха №: 16 модуль ошибки: 0.819\n",
            "{'loss': 0.001548598986119032, 'mae': 0.013403104618191719, 'val_loss': 0.01862223632633686, 'val_mae': 0.03622930124402046}\n",
            "Bремя обучения эпохи №: 16 4.76837158203125e-07 sec Bремя обучения суммарное: 9.5367431640625e-06 sec\n",
            " Время о конца обучения: 1.430511474609375e-06\n",
            "Эпоха №: 17 модуль ошибки: 0.815\n",
            "{'loss': 0.0015658261254429817, 'mae': 0.013331539928913116, 'val_loss': 0.01846793293952942, 'val_mae': 0.03604956716299057}\n",
            "Bремя обучения эпохи №: 17 2.384185791015625e-07 sec Bремя обучения суммарное: 4.76837158203125e-06 sec\n",
            " Время о конца обучения: 4.76837158203125e-07\n",
            "Эпоха №: 18 модуль ошибки: 0.813\n",
            "{'loss': 0.001561198034323752, 'mae': 0.013348761014640331, 'val_loss': 0.018482573330402374, 'val_mae': 0.03597341477870941}\n",
            "Bремя обучения эпохи №: 18 2.384185791015625e-07 sec Bремя обучения суммарное: 4.76837158203125e-06 sec\n",
            " Время о конца обучения: 2.384185791015625e-07\n",
            "Эпоха №: 19 модуль ошибки: 0.816\n",
            "{'loss': 0.001547692227177322, 'mae': 0.01334168016910553, 'val_loss': 0.01872006617486477, 'val_mae': 0.03609899803996086}\n",
            "Bремя обучения эпохи №: 19 2.384185791015625e-07 sec Bремя обучения суммарное: 4.76837158203125e-06 sec\n",
            " Время о конца обучения: 0.0\n"
          ],
          "name": "stdout"
        },
        {
          "output_type": "display_data",
          "data": {
            "image/png": "[encoded data removed]",
            "text/plain": [
              "<Figure size 1440x288 with 3 Axes>"
            ]
          },
          "metadata": {
            "tags": [],
            "needs_background": "light"
          }
        }
      ]
    },
    {
      "cell_type": "code",
      "metadata": {
        "colab": {
          "base_uri": "https://localhost:8080/"
        },
        "id": "7Y-w28FIDCwo",
        "outputId": "3b697397-1d50-4eeb-88d6-54198967eb44"
      },
      "source": [
        "# проверяю наличие сохраненной модели\n",
        "\n",
        "model = load_model(\"/content/drive/MyDrive/moscow.h5\")\n",
        "model"
      ],
      "execution_count": 88,
      "outputs": [
        {
          "output_type": "execute_result",
          "data": {
            "text/plain": [
              "<tensorflow.python.keras.engine.functional.Functional at 0x7fecc238f550>"
            ]
          },
          "metadata": {
            "tags": []
          },
          "execution_count": 88
        }
      ]
    },
    {
      "cell_type": "code",
      "metadata": {
        "id": "0mBJ3re9ReyI"
      },
      "source": [
        "# задание 6 - Изменяется ли шаг обучения, если начинается “пила” или mae выходит на плато\n",
        "#  шаг обучения задан при компиляции моделей. Это 1e-3, 1e-4 и 1e-5\n",
        "#  с уменьшением шага \"пила\" сравнивается"
      ],
      "execution_count": 178,
      "outputs": []
    },
    {
      "cell_type": "code",
      "metadata": {
        "colab": {
          "base_uri": "https://localhost:8080/"
        },
        "id": "8QfFIiVbaLeC",
        "outputId": "86b8ab6d-8bd7-4d38-fdb2-12b03d043a20"
      },
      "source": [
        "pred = model.predict([xTrainScaled[valMask], xTrainC01[valMask]])             # предсказание сети на проверочной выборке\n",
        "predUnscaled = yScaler.inverse_transform(pred).flatten()                      # преобразую к изначальным величинам цен квартир\n",
        "yTrainUnscaled = yScaler.inverse_transform(yTrainScaled[valMask]).flatten()   # преобразую yTrain к базовым ценам\n",
        "delta = predUnscaled - yTrainUnscaled                                         # разность предсказания и правильных цен\n",
        "absDelta = abs(delta)                                                         # модуль отклонения\n",
        "print(\"Модуль ошибки:\", round(sum(absDelta) / (1e+6 * len(absDelta)),2), \"млн.руб\")                # усреднённая ошибка"
      ],
      "execution_count": 89,
      "outputs": [
        {
          "output_type": "stream",
          "text": [
            "Модуль ошибки: 0.82 млн.руб\n"
          ],
          "name": "stdout"
        }
      ]
    },
    {
      "cell_type": "code",
      "metadata": {
        "id": "d7lPbrbiUk9U"
      },
      "source": [
        ""
      ],
      "execution_count": null,
      "outputs": []
    }
  ]
}