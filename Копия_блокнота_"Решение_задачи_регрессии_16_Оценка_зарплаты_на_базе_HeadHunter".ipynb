{
  "nbformat": 4,
  "nbformat_minor": 0,
  "metadata": {
    "colab": {
      "name": "Копия блокнота \"Решение задачи регрессии  16 Оценка зарплаты на базе HeadHunter\"",
      "provenance": [],
      "collapsed_sections": [],
      "machine_shape": "hm",
      "include_colab_link": true
    },
    "kernelspec": {
      "name": "python3",
      "display_name": "Python 3"
    },
    "accelerator": "GPU"
  },
  "cells": [
    {
      "cell_type": "markdown",
      "metadata": {
        "id": "view-in-github",
        "colab_type": "text"
      },
      "source": [
        "<a href=\"https://colab.research.google.com/github/DurdenTyler2008/University-of-AI/blob/main/%D0%9A%D0%BE%D0%BF%D0%B8%D1%8F_%D0%B1%D0%BB%D0%BE%D0%BA%D0%BD%D0%BE%D1%82%D0%B0_%22%D0%A0%D0%B5%D1%88%D0%B5%D0%BD%D0%B8%D0%B5_%D0%B7%D0%B0%D0%B4%D0%B0%D1%87%D0%B8_%D1%80%D0%B5%D0%B3%D1%80%D0%B5%D1%81%D1%81%D0%B8%D0%B8_16_%D0%9E%D1%86%D0%B5%D0%BD%D0%BA%D0%B0_%D0%B7%D0%B0%D1%80%D0%BF%D0%BB%D0%B0%D1%82%D1%8B_%D0%BD%D0%B0_%D0%B1%D0%B0%D0%B7%D0%B5_HeadHunter%22.ipynb\" target=\"_parent\"><img src=\"https://colab.research.google.com/assets/colab-badge.svg\" alt=\"Open In Colab\"/></a>"
      ]
    },
    {
      "cell_type": "code",
      "metadata": {
        "id": "SkQ2zSVRR_De"
      },
      "source": [
        "import numpy as np                                       \n",
        "import pandas as pd\n",
        "\n",
        "from tensorflow.keras.models import Sequential, Model \n",
        "from tensorflow.keras.layers import concatenate, Input, Dense, Dropout, BatchNormalization, Flatten \n",
        "from tensorflow.keras import utils \n",
        "from tensorflow.keras.optimizers import Adam,Adadelta,SGD,Adagrad,RMSprop \n",
        "from tensorflow.keras.preprocessing.text import Tokenizer, text_to_word_sequence \n",
        "from tensorflow.keras.preprocessing.sequence import pad_sequences \n",
        "from tensorflow.keras.callbacks import LambdaCallback\n",
        "\n",
        "from sklearn.preprocessing import StandardScaler \n",
        "from sklearn.model_selection import train_test_split \n",
        "from sklearn.metrics import mean_squared_error, mean_absolute_error \n",
        "\n",
        "\n",
        "import random \n",
        "import math \n",
        "import re \n",
        "import matplotlib.pyplot as plt \n",
        "%matplotlib inline\n",
        "\n",
        "from IPython.display import clear_output\n"
      ],
      "execution_count": null,
      "outputs": []
    },
    {
      "cell_type": "code",
      "metadata": {
        "colab": {
          "base_uri": "https://localhost:8080/"
        },
        "id": "WWpyBkG2Icfl",
        "outputId": "e4f3af8e-63ff-44f1-c563-c74f1ea75ddb"
      },
      "source": [
        "from google.colab import drive\n",
        "drive.mount('/content/drive')"
      ],
      "execution_count": null,
      "outputs": [
        {
          "output_type": "stream",
          "text": [
            "Mounted at /content/drive\n"
          ],
          "name": "stdout"
        }
      ]
    },
    {
      "cell_type": "code",
      "metadata": {
        "id": "iNeVYpiLdBpe"
      },
      "source": [
        "fixed_df = pd.read_csv(\"/content/drive/My Drive/hh_fixed.csv\")   "
      ],
      "execution_count": null,
      "outputs": []
    },
    {
      "cell_type": "code",
      "metadata": {
        "id": "bhxskfl6gWiZ",
        "colab": {
          "base_uri": "https://localhost:8080/"
        },
        "outputId": "782e4983-6a89-4a75-f8d2-90c85017751d"
      },
      "source": [
        "\n",
        "print(fixed_df.shape)"
      ],
      "execution_count": null,
      "outputs": [
        {
          "output_type": "stream",
          "text": [
            "(62967, 13)\n"
          ],
          "name": "stdout"
        }
      ]
    },
    {
      "cell_type": "code",
      "metadata": {
        "id": "fAIunUIBnNGD",
        "colab": {
          "base_uri": "https://localhost:8080/",
          "height": 598
        },
        "outputId": "a8d7bd5a-9451-49f0-b340-762c9a74c87f"
      },
      "source": [
        "fixed_df.head()"
      ],
      "execution_count": null,
      "outputs": [
        {
          "output_type": "execute_result",
          "data": {
            "text/html": [
              "<div>\n",
              "<style scoped>\n",
              "    .dataframe tbody tr th:only-of-type {\n",
              "        vertical-align: middle;\n",
              "    }\n",
              "\n",
              "    .dataframe tbody tr th {\n",
              "        vertical-align: top;\n",
              "    }\n",
              "\n",
              "    .dataframe thead th {\n",
              "        text-align: right;\n",
              "    }\n",
              "</style>\n",
              "<table border=\"1\" class=\"dataframe\">\n",
              "  <thead>\n",
              "    <tr style=\"text-align: right;\">\n",
              "      <th></th>\n",
              "      <th>Unnamed: 0</th>\n",
              "      <th>Пол, возраст</th>\n",
              "      <th>ЗП</th>\n",
              "      <th>Ищет работу на должность:</th>\n",
              "      <th>Город</th>\n",
              "      <th>Занятость</th>\n",
              "      <th>График</th>\n",
              "      <th>Опыт (двойное нажатие для полной версии)</th>\n",
              "      <th>Последенее/нынешнее место работы</th>\n",
              "      <th>Последеняя/нынешняя должность</th>\n",
              "      <th>Образование и ВУЗ</th>\n",
              "      <th>Обновление резюме</th>\n",
              "      <th>Авто</th>\n",
              "    </tr>\n",
              "  </thead>\n",
              "  <tbody>\n",
              "    <tr>\n",
              "      <th>0</th>\n",
              "      <td>0</td>\n",
              "      <td>Мужчина ,  29 лет , родился 16 мая 1989</td>\n",
              "      <td>40000 руб.</td>\n",
              "      <td>Специалист по поддержке чата(support team) дом...</td>\n",
              "      <td>Новороссийск , готов к переезду (Анапа, Геленд...</td>\n",
              "      <td>полная занятость</td>\n",
              "      <td>полный день</td>\n",
              "      <td>Опыт работы 3 года 9 месяцев  Специалист по по...</td>\n",
              "      <td>ООО \"Гольфстрим\"</td>\n",
              "      <td>Генеральный директор</td>\n",
              "      <td>Высшее образование 2011  Международный юридиче...</td>\n",
              "      <td>26.04.2019 08:04</td>\n",
              "      <td>Не указано</td>\n",
              "    </tr>\n",
              "    <tr>\n",
              "      <th>1</th>\n",
              "      <td>1</td>\n",
              "      <td>Мужчина ,  38 лет , родился 25 мая 1980</td>\n",
              "      <td>40000 руб.</td>\n",
              "      <td>Системный администратор</td>\n",
              "      <td>Новосибирск ,  м. Березовая роща , не готов к ...</td>\n",
              "      <td>полная занятость</td>\n",
              "      <td>полный день</td>\n",
              "      <td>Опыт работы 11 лет 11 месяцев  Системный админ...</td>\n",
              "      <td>ООО «Завод модульных технологий»</td>\n",
              "      <td>Системный администратор</td>\n",
              "      <td>Высшее образование 2002 Новосибирский государс...</td>\n",
              "      <td>26.04.2019 04:30</td>\n",
              "      <td>Не указано</td>\n",
              "    </tr>\n",
              "    <tr>\n",
              "      <th>2</th>\n",
              "      <td>2</td>\n",
              "      <td>Мужчина ,  35 лет , родился 14 июня 1983</td>\n",
              "      <td>300000 руб.</td>\n",
              "      <td>DevOps TeamLead / DevOps архитектор</td>\n",
              "      <td>Москва , готов к переезду , готов к редким ком...</td>\n",
              "      <td>полная занятость</td>\n",
              "      <td>полный день</td>\n",
              "      <td>Опыт работы 12 лет 11 месяцев  DevOps TeamLead...</td>\n",
              "      <td>Банк ВТБ (ПАО)</td>\n",
              "      <td>Начальник отдела методологии разработки (DevOp...</td>\n",
              "      <td>DevOps TeamLead / DevOps архитектор 300 000 ру...</td>\n",
              "      <td>09.04.2019 14:40</td>\n",
              "      <td>Не указано</td>\n",
              "    </tr>\n",
              "    <tr>\n",
              "      <th>3</th>\n",
              "      <td>3</td>\n",
              "      <td>Мужчина ,  33 года , родился 2 августа 1985</td>\n",
              "      <td>180000 руб.</td>\n",
              "      <td>Руководитель IT отдела</td>\n",
              "      <td>Москва ,  м. Щукинская , не готов к переезду ,...</td>\n",
              "      <td>частичная занятость, полная занятость</td>\n",
              "      <td>удаленная работа, полный день</td>\n",
              "      <td>Опыт работы 15 лет 10 месяцев  Руководитель IT...</td>\n",
              "      <td>\"Ай-Теко\", ведущий российский системный интегр...</td>\n",
              "      <td>Старший системный администратор</td>\n",
              "      <td>Руководитель IT отдела 180 000 руб. Информацио...</td>\n",
              "      <td>09.04.2019 14:39</td>\n",
              "      <td>Имеется собственный автомобиль</td>\n",
              "    </tr>\n",
              "    <tr>\n",
              "      <th>4</th>\n",
              "      <td>4</td>\n",
              "      <td>Мужчина ,  22 года , родился 1 сентября 1996</td>\n",
              "      <td>40000 руб.</td>\n",
              "      <td>Junior Developer</td>\n",
              "      <td>Москва ,  м. Юго-Западная , не готов к переезд...</td>\n",
              "      <td>стажировка, частичная занятость, проектная работа</td>\n",
              "      <td>гибкий график, удаленная работа</td>\n",
              "      <td>Опыт работы 1 год 1 месяц  Junior Developer 40...</td>\n",
              "      <td>R-Style SoftLab</td>\n",
              "      <td>Менеджер IT-проектов</td>\n",
              "      <td>Junior Developer 40 000 руб. Информационные те...</td>\n",
              "      <td>29.03.2019 12:40</td>\n",
              "      <td>Не указано</td>\n",
              "    </tr>\n",
              "  </tbody>\n",
              "</table>\n",
              "</div>"
            ],
            "text/plain": [
              "   Unnamed: 0  ...                            Авто\n",
              "0           0  ...                      Не указано\n",
              "1           1  ...                      Не указано\n",
              "2           2  ...                      Не указано\n",
              "3           3  ...  Имеется собственный автомобиль\n",
              "4           4  ...                      Не указано\n",
              "\n",
              "[5 rows x 13 columns]"
            ]
          },
          "metadata": {
            "tags": []
          },
          "execution_count": 5
        }
      ]
    },
    {
      "cell_type": "code",
      "metadata": {
        "id": "uJDzeCxKgqkS",
        "colab": {
          "base_uri": "https://localhost:8080/"
        },
        "outputId": "736f7adb-f22c-4595-9b7c-9ed67a13331d"
      },
      "source": [
        "n = 12\n",
        "for i in range(len(fixed_df.values[n])): \n",
        "  print(i, \":\", fixed_df.values[n][i])"
      ],
      "execution_count": null,
      "outputs": [
        {
          "output_type": "stream",
          "text": [
            "0 : 12\n",
            "1 : Мужчина ,  54 года , родился 27 июня 1964\n",
            "2 : 180000 руб.\n",
            "3 : Ведущий разработчик ORACLE\n",
            "4 : Москва ,  м. Бульвар Рокоссовского , не готов к переезду , не готов к командировкам\n",
            "5 : полная занятость\n",
            "6 : гибкий график, полный день, удаленная работа\n",
            "7 : Опыт работы 30 лет 9 месяцев  Ведущий разработчик ORACLE 180 000 руб. Информационные технологии, интернет, телеком Банковское ПО Программирование, Разработка Администратор баз данных Занятость: полная занятость График работы: гибкий график, полный день, удаленная работа Опыт работы 30 лет 9 месяцев Июнь 1993 — по настоящее время 25 лет 11 месяцев Государственная корпорация “Банк развития и внешнеэкономической деятельности (ВНЕШЭКОНОМБАНК)”, Москва Москва , www.veb.ru Финансовый сектор ... Банк Управляющая, инвестиционная компания (управление активами) Бизнес-аналитик / Разработчик ПО В составе коллектива программистов прошел полный цикл разработки и сопровождения программного обеспечения для Автоматизированной Банковской Системы на платформе СУБД ORACLE, включая: • Анализ требований пользователей к данным и функционалу системы, разработка бизнес-процессов для автоматизации банковской деятельности; • Проектирование моделей и построение баз данных с использованием технологии CASE; • Разработка системных пакетов/процедур и пользовательских приложений (около 70 экранных форм и 100 отчетов и другое) для автоматизации банковской деятельности: главная книга, обслуживание кредитов, бухгалтерские операции и бухгалтерская отчетность (включая МСФО), карточные операции, валютный контроль, система «Банк-Клиент» и др.; • Анализ и решение системных проблем, аудит и оптимизация производительности компонентов АБС, систематическая доработка и сопровождение программного обеспечения, составление технической документации (СТП, ФТР, руководства пользователя) В настоящее время задействован в проекте по переводу АБС банка на новую платформу. Июнь 1992 — Май  1993 1 год Студия “ЗИЛВизион”, Москва СМИ, маркетинг, реклама, BTL, PR, дизайн, продюсирование ... Киностудии и студии звукозаписи Производство мультимедиа, контента, редакторская деятельность Программист Работа в качестве графического дизайнера и администратора программного обеспечения видеостудии. Август 1988 — Май  1992 3 года 10 месяцев Всесоюзный Научно-исследовательский институт Автоматизации Управления в непромышленной сфере (ВНИИНС), Москва Информационные технологии, системная интеграция, интернет ... Разработка программного обеспечения Системная интеграция, автоматизации технологических и бизнес-процессов предприятия, ИТ-консалтинг Программист Работа по созданию и внедрению ряда информационных систем на платформе Dbase/FoxBase/Clipper для государственных учреждений Москвы. Ключевые навыки Теперь резюме открыто всему интернету — изменить можно в настройках видимости. Oracle Pl/SQL Cистемы управления базами данных AllFusion ERwin Data Modeler Разработка ПО Базы данных HTML Анализ данных XML База данных: Oracle erWin СУБД SQL ORACLE JavaScript CSS Управление проектами Adobe Photoshop Unix Unix Shell Scripts Oracle Developer Suite SAP Business Objects PHP Возникли неполадки. Попробуйте еще раз. Обо мне Более чем 20-летний опыт работы в области информационных технологий по разработке баз данных и пользовательских приложений. СУБД и языки программирования: ORACLE (опыт работы около 20 лет), Dbase/FoxBase/Clipper, SQL, PL/SQL, HTML, CSS, CGI, Perl, XML, Java Script, Unix shell script Средства разработки: Oracle utilities and products (SQL*Forms, SQL*Report, Oracle Developer Suite), ERWin (CASE), Jasper iReport, OraExcel, SAP Business Objects, SQL Navigator ОС и сетевые платформы: Microsoft Windows (NT/XP), HP-UX, Apache Web Server, Novell Network Английский язык - уверенное владение. Базовые знания в области бухгалтерскиго учета, отчетности МСФО, кредитных операций, обслуживания кредитных карт, валютного контроля. Увлечения: фотография, путешествия, книги, кулинария. Высшее образование 1987 Кликнув на название учебного заведения вы сможете найти кандидатов из этого вуза. Московский авиационный институт (национальный исследовательский университет), Москва Вычислительные системы, Диплом инженера Знание языков Русский — Родной Английский — C1 — Продвинутый Повышение квалификации, курсы 2007 Oracle 10g: Develop Web Services Oracle University, Certificate of Completion 2007 Oracle BPEL Process Manager: Services Orchestration Oracle University, Certificate of Completion 2007 Oracle 10g: XML Fundamentals Oracle University, Certificate of Completion 2001 Business Objects full training course ТЕРН, Certificate of accomplishment 1998 The Bank Executive Program American Institute of Banking, Certificate of Completion 1993 Цикл курсов по администрированию БД и разработке приложений в среде ORACLE, технологии CASE LVS Corporation Гражданство, время в пути до работы Гражданство: Россия Разрешение на работу: Россия Желательное время в пути до работы: Не имеет значения  Опыт работы 30 лет 9 месяцев Июнь 1993 — по настоящее время 25 лет 11 месяцев Государственная корпорация “Банк развития и внешнеэкономической деятельности (ВНЕШЭКОНОМБАНК)”, Москва Москва , www.veb.ru Финансовый сектор ... Банк Управляющая, инвестиционная компания (управление активами) Бизнес-аналитик / Разработчик ПО В составе коллектива программистов прошел полный цикл разработки и сопровождения программного обеспечения для Автоматизированной Банковской Системы на платформе СУБД ORACLE, включая: • Анализ требований пользователей к данным и функционалу системы, разработка бизнес-процессов для автоматизации банковской деятельности; • Проектирование моделей и построение баз данных с использованием технологии CASE; • Разработка системных пакетов/процедур и пользовательских приложений (около 70 экранных форм и 100 отчетов и другое) для автоматизации банковской деятельности: главная книга, обслуживание кредитов, бухгалтерские операции и бухгалтерская отчетность (включая МСФО), карточные операции, валютный контроль, система «Банк-Клиент» и др.; • Анализ и решение системных проблем, аудит и оптимизация производительности компонентов АБС, систематическая доработка и сопровождение программного обеспечения, составление технической документации (СТП, ФТР, руководства пользователя) В настоящее время задействован в проекте по переводу АБС банка на новую платформу. Июнь 1992 — Май  1993 1 год Студия “ЗИЛВизион”, Москва СМИ, маркетинг, реклама, BTL, PR, дизайн, продюсирование ... Киностудии и студии звукозаписи Производство мультимедиа, контента, редакторская деятельность Программист Работа в качестве графического дизайнера и администратора программного обеспечения видеостудии. Август 1988 — Май  1992 3 года 10 месяцев Всесоюзный Научно-исследовательский институт Автоматизации Управления в непромышленной сфере (ВНИИНС), Москва Информационные технологии, системная интеграция, интернет ... Разработка программного обеспечения Системная интеграция, автоматизации технологических и бизнес-процессов предприятия, ИТ-консалтинг Программист Работа по созданию и внедрению ряда информационных систем на платформе Dbase/FoxBase/Clipper для государственных учреждений Москвы.  Июнь 1993 — по настоящее время 25 лет 11 месяцев Государственная корпорация “Банк развития и внешнеэкономической деятельности (ВНЕШЭКОНОМБАНК)”, Москва Москва , www.veb.ru Финансовый сектор ... Банк Управляющая, инвестиционная компания (управление активами) Бизнес-аналитик / Разработчик ПО В составе коллектива программистов прошел полный цикл разработки и сопровождения программного обеспечения для Автоматизированной Банковской Системы на платформе СУБД ORACLE, включая: • Анализ требований пользователей к данным и функционалу системы, разработка бизнес-процессов для автоматизации банковской деятельности; • Проектирование моделей и построение баз данных с использованием технологии CASE; • Разработка системных пакетов/процедур и пользовательских приложений (около 70 экранных форм и 100 отчетов и другое) для автоматизации банковской деятельности: главная книга, обслуживание кредитов, бухгалтерские операции и бухгалтерская отчетность (включая МСФО), карточные операции, валютный контроль, система «Банк-Клиент» и др.; • Анализ и решение системных проблем, аудит и оптимизация производительности компонентов АБС, систематическая доработка и сопровождение программного обеспечения, составление технической документации (СТП, ФТР, руководства пользователя) В настоящее время задействован в проекте по переводу АБС банка на новую платформу.  Июнь 1992 — Май  1993 1 год Студия “ЗИЛВизион”, Москва СМИ, маркетинг, реклама, BTL, PR, дизайн, продюсирование ... Киностудии и студии звукозаписи Производство мультимедиа, контента, редакторская деятельность Программист Работа в качестве графического дизайнера и администратора программного обеспечения видеостудии.  Август 1988 — Май  1992 3 года 10 месяцев Всесоюзный Научно-исследовательский институт Автоматизации Управления в непромышленной сфере (ВНИИНС), Москва Информационные технологии, системная интеграция, интернет ... Разработка программного обеспечения Системная интеграция, автоматизации технологических и бизнес-процессов предприятия, ИТ-консалтинг Программист Работа по созданию и внедрению ряда информационных систем на платформе Dbase/FoxBase/Clipper для государственных учреждений Москвы.\n",
            "8 : Государственная корпорация  “Банк развития и внешнеэкономической деятельности (ВНЕШЭКОНОМБАНК)”, Москва\n",
            "9 : Бизнес-аналитик / Разработчик ПО\n",
            "10 : Высшее образование 1987  Московский авиационный институт (национальный исследовательский университет), Москва Вычислительные системы, Диплом инженера\n",
            "11 : 10.08.2018 12:00\n",
            "12 : Не указано\n"
          ],
          "name": "stdout"
        }
      ]
    },
    {
      "cell_type": "code",
      "metadata": {
        "id": "ne15zckQlJ_f"
      },
      "source": [
        "\n",
        "####Убрать кодировку в описаниях \\xa0 \\n\n",
        "fixed_df = fixed_df.drop(fixed_df.columns[0],axis = 1)     # Убираем первый столбец с индексами\n",
        "\n",
        "i=0\n",
        "for j in range(12):                                        # Для каждого из столбцов таблицы\n",
        "    for i in range(fixed_df.shape[0]):                     # По всем резюме\n",
        "        if type(fixed_df.values[i][j])!=float:             # если данные текстовые, то заменяем фрагменты кодировки ASCII на отсутствие символов\n",
        "            fixed_df.values[i][j] = fixed_df.values[i][j].replace(\"\\xa0\",\"\")\n",
        "            fixed_df.values[i][j] = fixed_df.values[i][j].replace(\"\\n\",\" \")"
      ],
      "execution_count": null,
      "outputs": []
    },
    {
      "cell_type": "code",
      "metadata": {
        "id": "s8hlcN1YKbCZ"
      },
      "source": [
        "def getParameterSexAge(arg): # функция возраста\n",
        "    out = [0,0]                # 1й ноль - это женский пол, 2й ноль - возраст\n",
        "  \n",
        "    if \"М\" in arg:  \n",
        "      out[0] = 1\n",
        "  \n",
        "    year_tec = 2021\n",
        "    if (len(arg) > 7):\n",
        "        out[1] = year_tec - int(re.findall(r'\\d{4}', arg)[0])\n",
        "    return out"
      ],
      "execution_count": null,
      "outputs": []
    },
    {
      "cell_type": "code",
      "metadata": {
        "id": "aHF581LiLBu6"
      },
      "source": [
        "def getParameterAgeVect(arg):   # функция  возраст превращааю в класс возрастной категории\n",
        "    outClass =int((arg-13)/5)\n",
        "    outClass = max(0, min(10,outClass))\n",
        "\n",
        "    return list(utils.to_categorical(outClass, 11).astype('int'))  # На выходе получаем вектор с нужной категорией возраста"
      ],
      "execution_count": null,
      "outputs": []
    },
    {
      "cell_type": "code",
      "metadata": {
        "id": "hU0R0sUPLdoj"
      },
      "source": [
        "def getParameterSalary(arg):               # функция зарплаты (salary-зарплата)\n",
        "    num = arg\n",
        "    \n",
        "    if (type(num) == str):\n",
        "        num = re.sub(' ','',num)           # sub рег выражение,ищет шаблон и меняет\n",
        "        num = re.sub('[а-яА-ЯёЁ]','',num)\n",
        "        num = re.sub('[a-zA-Z]','',num)\n",
        "        num = num.replace('.','')          # replace-строковый метод.замена \n",
        "        \n",
        "        \n",
        "        curr = re.sub('[0-9]','',arg)        # в curr кладу название валюты(USD,KZT...)\n",
        "        curr = curr.replace('.','').strip()  # strip-удалит пробелы с обоих концов строки.\n",
        "        \n",
        "        # Конвертирую curr в рубли и кладу в num\n",
        "        if curr == 'USD':\n",
        "           num = float(num)*85               # это курс\n",
        "        elif curr == 'KZT':\n",
        "           num = float(num)*0.17\n",
        "        elif curr=='грн':\n",
        "           num = float(num)*2.6\n",
        "        elif curr=='белруб':\n",
        "           num = float(num)*30.5\n",
        "        elif curr=='EUR':\n",
        "           num = float(num)*70\n",
        "        elif curr=='KGS':\n",
        "           num = float(num)*0.9\n",
        "        elif curr=='сум':\n",
        "           num = float(num)*0.007\n",
        "        elif curr=='AZN':\n",
        "           num = float(num)*37.5\n",
        "             \n",
        "    salaryStr = int(num) \n",
        "    \n",
        "    return salaryStr\n"
      ],
      "execution_count": null,
      "outputs": []
    },
    {
      "cell_type": "code",
      "metadata": {
        "id": "Xu3sGUUfVStR"
      },
      "source": [
        "def getParameterCity(arg):   # функция городов\n",
        "\n",
        "    millionCities = \"Новосибирск Екатеринбург Нижний Новгород Казань Челябинск Омск Самара Ростов-на-Дону Уфа Красноярск Пермь Воронеж Волгоград\"\n",
        "    sarg=arg.split(',')\n",
        "\n",
        "    for item in sarg:\n",
        "        item= item.strip()\n",
        "        if item == \"Москва\":          return [1, 0, 0, 0]\n",
        "        if item == \"Санкт-Петербург\": return [0, 1, 0, 0]\n",
        "        if item in millionCities:     return [0, 0, 1, 0]\n",
        "        \n",
        "    return [0, 0, 0, 1]"
      ],
      "execution_count": null,
      "outputs": []
    },
    {
      "cell_type": "code",
      "metadata": {
        "id": "TyTJXhg_V0D7"
      },
      "source": [
        "def getParameterEmployment(arg):    # функция желаемой занятости\n",
        "\n",
        "    out= [0, 0, 0, 0]\n",
        "    \n",
        "    if (\"стажировка\" in arg):           out[0]=1\n",
        "    if (\"частичная занятость\" in arg):  out[1]=1\n",
        "    if (\"проектная работа\" in arg):     out[2]=1\n",
        "    if (\"полная занятость\" in arg):     out[3]=1\n",
        "\n",
        "    return out"
      ],
      "execution_count": null,
      "outputs": []
    },
    {
      "cell_type": "code",
      "metadata": {
        "id": "XSGT1J8kV_FF"
      },
      "source": [
        "def getParameterSchedule(arg):   # функция о желаемом графике работы\n",
        "\n",
        "    out = [0, 0, 0, 0]\n",
        "\n",
        "    if (\"гибкий график\" in arg):    out[0]=1\n",
        "    if (\"полный день\" in arg):      out[1]=1\n",
        "    if (\"сменный график\" in arg):   out[2]=1\n",
        "    if (\"удаленная работа\" in arg): out[3]=1\n",
        "\n",
        "    return out"
      ],
      "execution_count": null,
      "outputs": []
    },
    {
      "cell_type": "code",
      "metadata": {
        "id": "ElWvpTHSWTud"
      },
      "source": [
        "def getParameterEducation(arg):  # функция образования\n",
        "\n",
        "    out = [0, 0, 0, 0]           #По умолчанию не указано\n",
        "    \n",
        "    if arg in \"Высшее Higher education\":  out[0] = 1\n",
        "    if arg in \"Среднее специальное\":      out[1] = 1\n",
        "    if arg in \"Неоконченное высшее\":      out[2] = 1\n",
        "    if arg in \"Среднее образование\":      out[3] = 1\n",
        "\n",
        "    return out"
      ],
      "execution_count": null,
      "outputs": []
    },
    {
      "cell_type": "code",
      "metadata": {
        "id": "WN913vF3Wu5R"
      },
      "source": [
        "def getParameterExperience(arg):  # функция об опыте работы\n",
        "\n",
        "  arg = str(arg)\n",
        "  #Проверяем, если не пустая строка\n",
        "  symbols = 0\n",
        "  years = 0\n",
        "  months = 0\n",
        "  for s in arg:\n",
        "    if (s != \" \"):\n",
        "      symbols += 1\n",
        "  \n",
        "  #Находим индексы пробелов около фразы \"опыт работы\"\n",
        "  if (symbols > 10):\n",
        "      spacesIndexes = []\n",
        "      index = 0\n",
        "      while ((len(spacesIndexes) < 5) & (index < len(arg))):\n",
        "          if (arg[index] == \" \"):\n",
        "              spacesIndexes.append(index)\n",
        "          index += 1\n",
        "\n",
        "      years = 0\n",
        "      months = 0\n",
        "      if (arg[spacesIndexes[2]+1] != \"м\"):\n",
        "         if (len(spacesIndexes) >= 3):\n",
        "            yearsStr = arg[spacesIndexes[1]:spacesIndexes[2]] # Записываем в строку значение лет\n",
        "            years = int(yearsStr)\n",
        "      \n",
        "         if (len(spacesIndexes) >= 5):\n",
        "            monthsStr = arg[spacesIndexes[3]:spacesIndexes[4]] # Записываем в строку значение месяцев\n",
        "            if(arg[spacesIndexes[2]+1] == \"м\"):\n",
        "                months = int(monthsStr)\n",
        "      else:\n",
        "        if (len(spacesIndexes) >= 3):\n",
        "          monthsStr = arg[spacesIndexes[1]:spacesIndexes[2]]\n",
        "          months = int(monthsStr)\n",
        "      \n",
        "  return 12*years+months"
      ],
      "execution_count": null,
      "outputs": []
    },
    {
      "cell_type": "code",
      "metadata": {
        "id": "VcbWTdemXHJh"
      },
      "source": [
        "def getParameterExperienceVector(arg):    # функция категориального представления опыта работы\n",
        "\n",
        "    out = getParameterExperience(arg)\n",
        "    outClass = 0\n",
        "\n",
        "    if (out > 6):  # если больше 6 месяцев\n",
        "      outClass = 1\n",
        "    if (out > 12): # если больше 12 месяцев\n",
        "      outClass = 2\n",
        "    if (out > 24): # если больше 24 месяцев\n",
        "      outClass = 3\n",
        "    if (out > 36): # если больше 36 месяцев\n",
        "      outClass = 4\n",
        "    if (out > 60): # если больше 60 месяцев\n",
        "      outClass = 5\n",
        "    if (out > 96): # если больше 96 месяцев\n",
        "      outClass = 6\n",
        "    if (out > 120): # если больше 120 месяцев\n",
        "      outClass = 7\n",
        "    if (out > 156): # если больше 156 месяцев\n",
        "      outClass = 8\n",
        "    if (out > 192): # если больше 192 месяцев\n",
        "      outClass = 9 \n",
        "    if (out > 240): # если больше 240 месяцев\n",
        "      outClass = 10\n",
        "    \n",
        "    return list(utils.to_categorical(outClass, 11).astype('int'))"
      ],
      "execution_count": null,
      "outputs": []
    },
    {
      "cell_type": "code",
      "metadata": {
        "id": "AV3AKgmeXhYT"
      },
      "source": [
        "def getAllParameters(val):    # функция извлечения всех параметров\n",
        "\n",
        "    result = getParameterSexAge(val[0])\n",
        "    sex = result[0]                              #getParameterSex() \n",
        "    age =getParameterAgeVect(result[1])          #параметры о возрасте\n",
        "    city = getParameterCity(val[3])              #параметры о городе\n",
        "    employment = getParameterEmployment(val[4])  #параметры о желаемой занятости\n",
        "    shedule = getParameterSchedule(val[5])       #параметры о желаемом графике\n",
        "    education = getParameterEducation(val[9])    #параметры об образовании\n",
        "    experience = getParameterExperienceVector(val[6])   #параметры об опыте\n",
        "    out = [] \n",
        "    \n",
        "  # Склеиваем все параметры в вектор  \n",
        "    out.append(sex)\n",
        "    out += age\n",
        "    out += city\n",
        "    out += employment\n",
        "    out += shedule\n",
        "    out += education\n",
        "    out += experience\n",
        "    \n",
        "    return out"
      ],
      "execution_count": null,
      "outputs": []
    },
    {
      "cell_type": "code",
      "metadata": {
        "id": "g-nYtToClWt4"
      },
      "source": [
        "def get01Data(values):     # функция создания  тренировочной базы\n",
        "\n",
        "    xTrain = []\n",
        "    yTrain = []\n",
        "    \n",
        "    # Предсказывать будем зарплату\n",
        "    for val in values:\n",
        "        y = getParameterSalary(val[1])\n",
        "      \n",
        "      # Все, что не зарплата - обучающая выборка\n",
        "      if (y != -1):\n",
        "          x = getAllParameters(val)\n",
        "          xTrain.append(x)\n",
        "          yTrain.append(y/1000)\n",
        "    \n",
        "    xTrain = np.array(xTrain)\n",
        "    yTrain = np.array(yTrain)\n",
        "\n",
        "    return (xTrain, yTrain)"
      ],
      "execution_count": null,
      "outputs": []
    },
    {
      "cell_type": "code",
      "metadata": {
        "id": "Tifx-oybnblk"
      },
      "source": [
        "(xTrain01, yTrain) = get01Data(fixed_df.values) # Извлекаем значения загруженного набора данных"
      ],
      "execution_count": null,
      "outputs": []
    },
    {
      "cell_type": "code",
      "metadata": {
        "id": "PijGnVvdxx1j",
        "colab": {
          "base_uri": "https://localhost:8080/"
        },
        "outputId": "eb0224fd-4f68-4986-ecd5-382fd2872164"
      },
      "source": [
        "# Размер набора параметров и зарплат\n",
        "print(\"Размер набора параметров и зарплат:\",xTrain01.shape) \n",
        "print(yTrain.shape)\n",
        "# Пример обработанных данных\n",
        "n = 3 \n",
        "print(xTrain01[n])\n",
        "print(yTrain[n])"
      ],
      "execution_count": null,
      "outputs": [
        {
          "output_type": "stream",
          "text": [
            "Размер набора параметров и зарплат: (62967, 39)\n",
            "(62967,)\n",
            "[1 0 0 0 0 1 0 0 0 0 0 0 1 0 0 0 0 1 0 1 0 1 0 1 0 0 0 0 0 0 0 0 0 0 0 0 1\n",
            " 0 0]\n",
            "180.0\n"
          ],
          "name": "stdout"
        }
      ]
    },
    {
      "cell_type": "code",
      "metadata": {
        "id": "wKmHi8XjyAVA"
      },
      "source": [
        "model = Sequential()\n",
        "\n",
        "model.add(BatchNormalization(input_shape=(xTrain01.shape[1],)))\n",
        "model.add(Dense(128, activation=\"relu\"))\n",
        "model.add(Dense(1000, activation=\"tanh\"))\n",
        "model.add(Dense(100, activation=\"relu\"))\n",
        "model.add(Dense(1, activation=\"linear\"))\n",
        "\n",
        "model.compile(optimizer=Adam(lr=1e-5), loss=\"mse\", metrics=[\"mae\"])\n",
        "# Среднеквадратичная ошибка (MSE),функция потерь для регрессии\n",
        "# MAE — мера схожести предсказаний и правильных значений"
      ],
      "execution_count": null,
      "outputs": []
    },
    {
      "cell_type": "code",
      "metadata": {
        "colab": {
          "base_uri": "https://localhost:8080/"
        },
        "id": "Usq3pnFDmfcn",
        "outputId": "b031d62f-915b-46fc-fbb4-05c251e991d6"
      },
      "source": [
        "history = model.fit(xTrain01, yTrain, epochs=50, batch_size=500, validation_split=0.15, verbose=1)"
      ],
      "execution_count": null,
      "outputs": [
        {
          "output_type": "stream",
          "text": [
            "Epoch 1/50\n",
            "108/108 [==============================] - 0s 3ms/step - loss: 24700.3984 - mae: 35.4219 - val_loss: 2937.7417 - val_mae: 35.6604\n",
            "Epoch 2/50\n",
            "108/108 [==============================] - 0s 3ms/step - loss: 24701.7598 - mae: 35.3909 - val_loss: 2933.4775 - val_mae: 35.6725\n",
            "Epoch 3/50\n",
            "108/108 [==============================] - 0s 3ms/step - loss: 24695.8926 - mae: 35.3801 - val_loss: 2929.6384 - val_mae: 35.6768\n",
            "Epoch 4/50\n",
            "108/108 [==============================] - 0s 3ms/step - loss: 24691.0625 - mae: 35.3566 - val_loss: 2926.4375 - val_mae: 35.6614\n",
            "Epoch 5/50\n",
            "108/108 [==============================] - 0s 3ms/step - loss: 24693.5000 - mae: 35.3961 - val_loss: 2922.2957 - val_mae: 35.5728\n",
            "Epoch 6/50\n",
            "108/108 [==============================] - 0s 2ms/step - loss: 24683.1016 - mae: 35.2920 - val_loss: 2918.3379 - val_mae: 35.5069\n",
            "Epoch 7/50\n",
            "108/108 [==============================] - 0s 3ms/step - loss: 24681.8398 - mae: 35.2101 - val_loss: 2915.3035 - val_mae: 35.5268\n",
            "Epoch 8/50\n",
            "108/108 [==============================] - 0s 3ms/step - loss: 24673.2520 - mae: 35.1775 - val_loss: 2911.7510 - val_mae: 35.4859\n",
            "Epoch 9/50\n",
            "108/108 [==============================] - 0s 3ms/step - loss: 24670.1328 - mae: 35.2870 - val_loss: 2908.3928 - val_mae: 35.4288\n",
            "Epoch 10/50\n",
            "108/108 [==============================] - 0s 3ms/step - loss: 24667.9102 - mae: 35.1802 - val_loss: 2905.4180 - val_mae: 35.3944\n",
            "Epoch 11/50\n",
            "108/108 [==============================] - 0s 2ms/step - loss: 24664.9688 - mae: 35.1032 - val_loss: 2901.7629 - val_mae: 35.3854\n",
            "Epoch 12/50\n",
            "108/108 [==============================] - 0s 3ms/step - loss: 24661.4824 - mae: 35.1210 - val_loss: 2899.0300 - val_mae: 35.3576\n",
            "Epoch 13/50\n",
            "108/108 [==============================] - 0s 2ms/step - loss: 24659.7559 - mae: 35.0980 - val_loss: 2896.5601 - val_mae: 35.3974\n",
            "Epoch 14/50\n",
            "108/108 [==============================] - 0s 3ms/step - loss: 24652.2910 - mae: 34.9644 - val_loss: 2893.6204 - val_mae: 35.3824\n",
            "Epoch 15/50\n",
            "108/108 [==============================] - 0s 3ms/step - loss: 24646.8887 - mae: 35.1178 - val_loss: 2890.6296 - val_mae: 35.3462\n",
            "Epoch 16/50\n",
            "108/108 [==============================] - 0s 3ms/step - loss: 24647.5293 - mae: 35.0646 - val_loss: 2887.4426 - val_mae: 35.3356\n",
            "Epoch 17/50\n",
            "108/108 [==============================] - 0s 2ms/step - loss: 24645.0098 - mae: 35.0881 - val_loss: 2885.4854 - val_mae: 35.3111\n",
            "Epoch 18/50\n",
            "108/108 [==============================] - 0s 3ms/step - loss: 24644.9844 - mae: 34.9450 - val_loss: 2882.7620 - val_mae: 35.2668\n",
            "Epoch 19/50\n",
            "108/108 [==============================] - 0s 3ms/step - loss: 24637.8867 - mae: 35.0393 - val_loss: 2880.1458 - val_mae: 35.1885\n",
            "Epoch 20/50\n",
            "108/108 [==============================] - 0s 2ms/step - loss: 24630.4746 - mae: 34.8767 - val_loss: 2878.1089 - val_mae: 35.3198\n",
            "Epoch 21/50\n",
            "108/108 [==============================] - 0s 3ms/step - loss: 24628.4121 - mae: 35.0844 - val_loss: 2875.0327 - val_mae: 35.2246\n",
            "Epoch 22/50\n",
            "108/108 [==============================] - 0s 2ms/step - loss: 24631.0254 - mae: 34.9553 - val_loss: 2872.7861 - val_mae: 35.1363\n",
            "Epoch 23/50\n",
            "108/108 [==============================] - 0s 2ms/step - loss: 24629.4355 - mae: 35.0041 - val_loss: 2870.5940 - val_mae: 35.1492\n",
            "Epoch 24/50\n",
            "108/108 [==============================] - 0s 2ms/step - loss: 24626.5195 - mae: 34.8885 - val_loss: 2868.1672 - val_mae: 35.1901\n",
            "Epoch 25/50\n",
            "108/108 [==============================] - 0s 3ms/step - loss: 24617.9824 - mae: 34.9106 - val_loss: 2866.8269 - val_mae: 35.2129\n",
            "Epoch 26/50\n",
            "108/108 [==============================] - 0s 3ms/step - loss: 24621.4062 - mae: 34.9584 - val_loss: 2865.1125 - val_mae: 35.1958\n",
            "Epoch 27/50\n",
            "108/108 [==============================] - 0s 3ms/step - loss: 24618.0605 - mae: 34.8679 - val_loss: 2862.9670 - val_mae: 35.1294\n",
            "Epoch 28/50\n",
            "108/108 [==============================] - 0s 3ms/step - loss: 24617.2090 - mae: 34.7544 - val_loss: 2860.3098 - val_mae: 35.1224\n",
            "Epoch 29/50\n",
            "108/108 [==============================] - 0s 3ms/step - loss: 24613.2207 - mae: 34.8913 - val_loss: 2859.3481 - val_mae: 35.2025\n",
            "Epoch 30/50\n",
            "108/108 [==============================] - 0s 4ms/step - loss: 24609.8359 - mae: 34.8706 - val_loss: 2857.4844 - val_mae: 35.1014\n",
            "Epoch 31/50\n",
            "108/108 [==============================] - 0s 2ms/step - loss: 24610.3789 - mae: 34.8033 - val_loss: 2855.0901 - val_mae: 35.0672\n",
            "Epoch 32/50\n",
            "108/108 [==============================] - 0s 2ms/step - loss: 24604.9258 - mae: 34.7440 - val_loss: 2853.3938 - val_mae: 35.1008\n",
            "Epoch 33/50\n",
            "108/108 [==============================] - 0s 3ms/step - loss: 24601.3203 - mae: 34.7450 - val_loss: 2851.0396 - val_mae: 35.0363\n",
            "Epoch 34/50\n",
            "108/108 [==============================] - 0s 3ms/step - loss: 24598.5449 - mae: 34.7769 - val_loss: 2850.1755 - val_mae: 35.0879\n",
            "Epoch 35/50\n",
            "108/108 [==============================] - 0s 3ms/step - loss: 24598.0117 - mae: 34.8301 - val_loss: 2848.4319 - val_mae: 35.0849\n",
            "Epoch 36/50\n",
            "108/108 [==============================] - 0s 3ms/step - loss: 24597.6348 - mae: 34.6897 - val_loss: 2847.0188 - val_mae: 35.0589\n",
            "Epoch 37/50\n",
            "108/108 [==============================] - 0s 3ms/step - loss: 24595.9355 - mae: 34.7618 - val_loss: 2845.0554 - val_mae: 35.0097\n",
            "Epoch 38/50\n",
            "108/108 [==============================] - 0s 2ms/step - loss: 24595.8672 - mae: 34.6174 - val_loss: 2843.7419 - val_mae: 35.0245\n",
            "Epoch 39/50\n",
            "108/108 [==============================] - 0s 3ms/step - loss: 24599.4180 - mae: 34.7770 - val_loss: 2842.4185 - val_mae: 34.9804\n",
            "Epoch 40/50\n",
            "108/108 [==============================] - 0s 2ms/step - loss: 24591.6777 - mae: 34.6470 - val_loss: 2840.7542 - val_mae: 34.9958\n",
            "Epoch 41/50\n",
            "108/108 [==============================] - 0s 2ms/step - loss: 24589.5430 - mae: 34.6669 - val_loss: 2838.5527 - val_mae: 34.8946\n",
            "Epoch 42/50\n",
            "108/108 [==============================] - 0s 2ms/step - loss: 24581.7129 - mae: 34.6501 - val_loss: 2837.5186 - val_mae: 34.8898\n",
            "Epoch 43/50\n",
            "108/108 [==============================] - 0s 3ms/step - loss: 24591.0625 - mae: 34.5826 - val_loss: 2835.7078 - val_mae: 34.9151\n",
            "Epoch 44/50\n",
            "108/108 [==============================] - 0s 3ms/step - loss: 24584.8496 - mae: 34.5988 - val_loss: 2834.7046 - val_mae: 34.8753\n",
            "Epoch 45/50\n",
            "108/108 [==============================] - 0s 3ms/step - loss: 24585.9746 - mae: 34.6453 - val_loss: 2832.4683 - val_mae: 34.8257\n",
            "Epoch 46/50\n",
            "108/108 [==============================] - 0s 3ms/step - loss: 24587.8691 - mae: 34.6538 - val_loss: 2832.8638 - val_mae: 34.9849\n",
            "Epoch 47/50\n",
            "108/108 [==============================] - 0s 3ms/step - loss: 24583.0488 - mae: 34.6467 - val_loss: 2830.7258 - val_mae: 34.9038\n",
            "Epoch 48/50\n",
            "108/108 [==============================] - 0s 2ms/step - loss: 24575.3809 - mae: 34.6076 - val_loss: 2829.4368 - val_mae: 34.8712\n",
            "Epoch 49/50\n",
            "108/108 [==============================] - 0s 3ms/step - loss: 24579.2383 - mae: 34.5907 - val_loss: 2828.2473 - val_mae: 34.8344\n",
            "Epoch 50/50\n",
            "108/108 [==============================] - 0s 3ms/step - loss: 24576.8672 - mae: 34.4796 - val_loss: 2827.4937 - val_mae: 34.9037\n"
          ],
          "name": "stdout"
        }
      ]
    },
    {
      "cell_type": "code",
      "metadata": {
        "colab": {
          "base_uri": "https://localhost:8080/",
          "height": 279
        },
        "id": "eZR82v84mJ83",
        "outputId": "961daf7a-9304-43be-9d1d-5fd6afcae91e"
      },
      "source": [
        "plt.plot(history.history[\"mae\"], label=\"Средняя абсолютная ошибка на обучающем наборе\")\n",
        "plt.plot(history.history[\"val_mae\"], label=\"Средняя абсолютная ошибка на проверочном наборе\")\n",
        "plt.xlabel(\"Эпоха обучения\")\n",
        "plt.ylabel(\"Средняя абсолютная ошибка\")\n",
        "plt.legend()\n",
        "plt.show()"
      ],
      "execution_count": null,
      "outputs": [
        {
          "output_type": "display_data",
          "data": {
            "image/png": "[encoded data removed]",
            "text/plain": [
              "<Figure size 432x288 with 1 Axes>"
            ]
          },
          "metadata": {
            "tags": [],
            "needs_background": "light"
          }
        }
      ]
    },
    {
      "cell_type": "code",
      "metadata": {
        "id": "LVvS-1r-3WaY",
        "colab": {
          "base_uri": "https://localhost:8080/"
        },
        "outputId": "f4923842-742a-44f2-b839-bd7904dc87a5"
      },
      "source": [
        "pred = model.predict(xTrain01)   # предсказание и приводим его к начальному виду\n",
        "pred = pred.flatten()\n",
        "# Среднее значение ошибки \n",
        "delta = pred - yTrain\n",
        "absDelta = abs(delta)\n",
        "print(\"ошибка:\", round(sum(absDelta) / len(absDelta), 2))"
      ],
      "execution_count": null,
      "outputs": [
        {
          "output_type": "stream",
          "text": [
            "ошибка: 34.64\n"
          ],
          "name": "stdout"
        }
      ]
    },
    {
      "cell_type": "code",
      "metadata": {
        "id": "QTozmRhkyf5-",
        "colab": {
          "base_uri": "https://localhost:8080/"
        },
        "outputId": "b143a6dc-d3f6-4ef6-8184-59c53b80b36a"
      },
      "source": [
        "yScaler = StandardScaler()  # нормализуем данные\n",
        "\n",
        "yScaler.fit(yTrain.reshape(-1, 1))\n",
        "yTrainScaled = yScaler.transform(yTrain.reshape(-1, 1))  # нормализуем данные  по нормальному распределению\n",
        "\n",
        "print(yTrainScaled.shape)\n",
        "print(\"запрошенная з/п:\", yTrain[1])           \n",
        "print(\"она же в нормализованном виде:\", yTrainScaled[1])     "
      ],
      "execution_count": null,
      "outputs": [
        {
          "output_type": "stream",
          "text": [
            "(62967, 1)\n",
            "запрошенная з/п: 40.0\n",
            "она же в нормализованном виде: [-0.25055869]\n"
          ],
          "name": "stdout"
        }
      ]
    },
    {
      "cell_type": "code",
      "metadata": {
        "id": "YGFRAg1kRXb7",
        "colab": {
          "base_uri": "https://localhost:8080/"
        },
        "outputId": "2ebea12b-f618-4b15-fedc-727501b1947a"
      },
      "source": [
        "print(min(yTrain), max(yTrain))                 # мин и макс значения з/п /1000\n",
        "print(min(yTrainScaled), max(yTrainScaled))     # тоже в нормализованном виде"
      ],
      "execution_count": null,
      "outputs": [
        {
          "output_type": "stream",
          "text": [
            "0.001 32300.0\n",
            "[-0.51559138] [213.50365486]\n"
          ],
          "name": "stdout"
        }
      ]
    },
    {
      "cell_type": "code",
      "metadata": {
        "id": "BzyVBg4SyqEH"
      },
      "source": [
        "modelS = Sequential()    # модель на стандартизированных данных\n",
        "\n",
        "modelS.add(BatchNormalization(input_shape=(xTrain01.shape[1],)))\n",
        "modelS.add(Dense(128, activation=\"relu\"))\n",
        "modelS.add(Dense(1000, activation=\"tanh\"))\n",
        "modelS.add(Dense(100, activation=\"relu\"))\n",
        "modelS.add(Dense(1, activation=\"linear\"))\n",
        "\n",
        "modelS.compile(optimizer=Adam(lr=1e-5), loss=\"mse\", metrics=[\"mae\"])\n"
      ],
      "execution_count": null,
      "outputs": []
    },
    {
      "cell_type": "code",
      "metadata": {
        "colab": {
          "base_uri": "https://localhost:8080/"
        },
        "id": "0Rz-dVZptQcX",
        "outputId": "ef743fda-f687-4ef6-d381-5067056de110"
      },
      "source": [
        "history = modelS.fit(xTrain01, yTrainScaled, epochs=50, batch_size=1500, validation_split=0.15, verbose=1)"
      ],
      "execution_count": null,
      "outputs": [
        {
          "output_type": "stream",
          "text": [
            "Epoch 1/50\n",
            "36/36 [==============================] - 1s 7ms/step - loss: 1.7013 - mae: 0.3766 - val_loss: 0.1838 - val_mae: 0.3069\n",
            "Epoch 2/50\n",
            "36/36 [==============================] - 0s 4ms/step - loss: 0.6840 - mae: 0.2798 - val_loss: 0.1664 - val_mae: 0.2938\n",
            "Epoch 3/50\n",
            "36/36 [==============================] - 0s 4ms/step - loss: 2.4273 - mae: 0.2672 - val_loss: 0.1530 - val_mae: 0.2754\n",
            "Epoch 4/50\n",
            "36/36 [==============================] - 0s 4ms/step - loss: 1.9137 - mae: 0.2517 - val_loss: 0.1446 - val_mae: 0.2633\n",
            "Epoch 5/50\n",
            "36/36 [==============================] - 0s 4ms/step - loss: 0.6322 - mae: 0.2401 - val_loss: 0.1393 - val_mae: 0.2563\n",
            "Epoch 6/50\n",
            "36/36 [==============================] - 0s 4ms/step - loss: 1.6179 - mae: 0.2385 - val_loss: 0.1355 - val_mae: 0.2496\n",
            "Epoch 7/50\n",
            "36/36 [==============================] - 0s 4ms/step - loss: 0.2601 - mae: 0.2342 - val_loss: 0.1325 - val_mae: 0.2453\n",
            "Epoch 8/50\n",
            "36/36 [==============================] - 0s 4ms/step - loss: 0.8596 - mae: 0.2349 - val_loss: 0.1308 - val_mae: 0.2410\n",
            "Epoch 9/50\n",
            "36/36 [==============================] - 0s 4ms/step - loss: 0.2861 - mae: 0.2287 - val_loss: 0.1293 - val_mae: 0.2401\n",
            "Epoch 10/50\n",
            "36/36 [==============================] - 0s 4ms/step - loss: 1.3657 - mae: 0.2344 - val_loss: 0.1284 - val_mae: 0.2367\n",
            "Epoch 11/50\n",
            "36/36 [==============================] - 0s 4ms/step - loss: 0.4606 - mae: 0.2281 - val_loss: 0.1275 - val_mae: 0.2370\n",
            "Epoch 12/50\n",
            "36/36 [==============================] - 0s 4ms/step - loss: 0.3896 - mae: 0.2283 - val_loss: 0.1268 - val_mae: 0.2358\n",
            "Epoch 13/50\n",
            "36/36 [==============================] - 0s 4ms/step - loss: 0.6325 - mae: 0.2300 - val_loss: 0.1266 - val_mae: 0.2350\n",
            "Epoch 14/50\n",
            "36/36 [==============================] - 0s 4ms/step - loss: 2.8254 - mae: 0.2407 - val_loss: 0.1260 - val_mae: 0.2327\n",
            "Epoch 15/50\n",
            "36/36 [==============================] - 0s 4ms/step - loss: 1.4926 - mae: 0.2335 - val_loss: 0.1256 - val_mae: 0.2312\n",
            "Epoch 16/50\n",
            "36/36 [==============================] - 0s 4ms/step - loss: 0.4425 - mae: 0.2230 - val_loss: 0.1256 - val_mae: 0.2352\n",
            "Epoch 17/50\n",
            "36/36 [==============================] - 0s 6ms/step - loss: 0.4077 - mae: 0.2250 - val_loss: 0.1253 - val_mae: 0.2341\n",
            "Epoch 18/50\n",
            "36/36 [==============================] - 0s 4ms/step - loss: 0.6042 - mae: 0.2258 - val_loss: 0.1251 - val_mae: 0.2334\n",
            "Epoch 19/50\n",
            "36/36 [==============================] - 0s 4ms/step - loss: 0.7637 - mae: 0.2248 - val_loss: 0.1248 - val_mae: 0.2314\n",
            "Epoch 20/50\n",
            "36/36 [==============================] - 0s 4ms/step - loss: 1.5979 - mae: 0.2301 - val_loss: 0.1246 - val_mae: 0.2288\n",
            "Epoch 21/50\n",
            "36/36 [==============================] - 0s 3ms/step - loss: 0.6546 - mae: 0.2254 - val_loss: 0.1243 - val_mae: 0.2304\n",
            "Epoch 22/50\n",
            "36/36 [==============================] - 0s 4ms/step - loss: 0.6578 - mae: 0.2266 - val_loss: 0.1242 - val_mae: 0.2302\n",
            "Epoch 23/50\n",
            "36/36 [==============================] - 0s 4ms/step - loss: 0.5882 - mae: 0.2250 - val_loss: 0.1241 - val_mae: 0.2315\n",
            "Epoch 24/50\n",
            "36/36 [==============================] - 0s 4ms/step - loss: 0.5775 - mae: 0.2248 - val_loss: 0.1241 - val_mae: 0.2306\n",
            "Epoch 25/50\n",
            "36/36 [==============================] - 0s 4ms/step - loss: 0.5607 - mae: 0.2237 - val_loss: 0.1240 - val_mae: 0.2320\n",
            "Epoch 26/50\n",
            "36/36 [==============================] - 0s 4ms/step - loss: 0.6697 - mae: 0.2284 - val_loss: 0.1239 - val_mae: 0.2291\n",
            "Epoch 27/50\n",
            "36/36 [==============================] - 0s 4ms/step - loss: 0.9212 - mae: 0.2236 - val_loss: 0.1237 - val_mae: 0.2288\n",
            "Epoch 28/50\n",
            "36/36 [==============================] - 0s 4ms/step - loss: 0.3334 - mae: 0.2237 - val_loss: 0.1233 - val_mae: 0.2286\n",
            "Epoch 29/50\n",
            "36/36 [==============================] - 0s 4ms/step - loss: 0.8375 - mae: 0.2242 - val_loss: 0.1237 - val_mae: 0.2301\n",
            "Epoch 30/50\n",
            "36/36 [==============================] - 0s 4ms/step - loss: 1.1101 - mae: 0.2285 - val_loss: 0.1234 - val_mae: 0.2292\n",
            "Epoch 31/50\n",
            "36/36 [==============================] - 0s 4ms/step - loss: 1.4254 - mae: 0.2263 - val_loss: 0.1232 - val_mae: 0.2287\n",
            "Epoch 32/50\n",
            "36/36 [==============================] - 0s 4ms/step - loss: 2.4205 - mae: 0.2311 - val_loss: 0.1232 - val_mae: 0.2287\n",
            "Epoch 33/50\n",
            "36/36 [==============================] - 0s 4ms/step - loss: 1.6022 - mae: 0.2325 - val_loss: 0.1232 - val_mae: 0.2262\n",
            "Epoch 34/50\n",
            "36/36 [==============================] - 0s 4ms/step - loss: 0.4464 - mae: 0.2222 - val_loss: 0.1229 - val_mae: 0.2282\n",
            "Epoch 35/50\n",
            "36/36 [==============================] - 0s 4ms/step - loss: 1.5815 - mae: 0.2294 - val_loss: 0.1231 - val_mae: 0.2263\n",
            "Epoch 36/50\n",
            "36/36 [==============================] - 0s 4ms/step - loss: 0.6564 - mae: 0.2238 - val_loss: 0.1229 - val_mae: 0.2290\n",
            "Epoch 37/50\n",
            "36/36 [==============================] - 0s 4ms/step - loss: 0.3811 - mae: 0.2213 - val_loss: 0.1226 - val_mae: 0.2286\n",
            "Epoch 38/50\n",
            "36/36 [==============================] - 0s 4ms/step - loss: 0.5371 - mae: 0.2232 - val_loss: 0.1232 - val_mae: 0.2305\n",
            "Epoch 39/50\n",
            "36/36 [==============================] - 0s 4ms/step - loss: 1.0032 - mae: 0.2257 - val_loss: 0.1229 - val_mae: 0.2277\n",
            "Epoch 40/50\n",
            "36/36 [==============================] - 0s 4ms/step - loss: 0.5979 - mae: 0.2218 - val_loss: 0.1227 - val_mae: 0.2270\n",
            "Epoch 41/50\n",
            "36/36 [==============================] - 0s 4ms/step - loss: 1.0293 - mae: 0.2229 - val_loss: 0.1228 - val_mae: 0.2280\n",
            "Epoch 42/50\n",
            "36/36 [==============================] - 0s 4ms/step - loss: 0.5487 - mae: 0.2196 - val_loss: 0.1228 - val_mae: 0.2278\n",
            "Epoch 43/50\n",
            "36/36 [==============================] - 0s 4ms/step - loss: 0.6380 - mae: 0.2201 - val_loss: 0.1227 - val_mae: 0.2283\n",
            "Epoch 44/50\n",
            "36/36 [==============================] - 0s 4ms/step - loss: 0.7907 - mae: 0.2220 - val_loss: 0.1227 - val_mae: 0.2279\n",
            "Epoch 45/50\n",
            "36/36 [==============================] - 0s 4ms/step - loss: 1.0538 - mae: 0.2243 - val_loss: 0.1226 - val_mae: 0.2274\n",
            "Epoch 46/50\n",
            "36/36 [==============================] - 0s 4ms/step - loss: 0.3738 - mae: 0.2197 - val_loss: 0.1224 - val_mae: 0.2278\n",
            "Epoch 47/50\n",
            "36/36 [==============================] - 0s 4ms/step - loss: 0.3766 - mae: 0.2224 - val_loss: 0.1225 - val_mae: 0.2279\n",
            "Epoch 48/50\n",
            "36/36 [==============================] - 0s 4ms/step - loss: 1.2875 - mae: 0.2256 - val_loss: 0.1225 - val_mae: 0.2269\n",
            "Epoch 49/50\n",
            "36/36 [==============================] - 0s 4ms/step - loss: 1.6000 - mae: 0.2265 - val_loss: 0.1225 - val_mae: 0.2253\n",
            "Epoch 50/50\n",
            "36/36 [==============================] - 0s 4ms/step - loss: 0.8400 - mae: 0.2209 - val_loss: 0.1224 - val_mae: 0.2264\n"
          ],
          "name": "stdout"
        }
      ]
    },
    {
      "cell_type": "code",
      "metadata": {
        "colab": {
          "base_uri": "https://localhost:8080/",
          "height": 279
        },
        "id": "-eEcGkeptMh8",
        "outputId": "8e991c24-f539-46ef-fe82-3dbe56581f0a"
      },
      "source": [
        "plt.plot(history.history['mae'], label='Средняя абсолютная ошибка на обучающем наборе')\n",
        "plt.plot(history.history['val_mae'], label='Средняя абсолютная ошибка на проверочном наборе')\n",
        "plt.xlabel('Эпоха обучения')\n",
        "plt.ylabel('Средняя абсолютная ошибка')\n",
        "plt.legend()\n",
        "plt.show()"
      ],
      "execution_count": null,
      "outputs": [
        {
          "output_type": "display_data",
          "data": {
            "image/png": "[encoded data removed]",
            "text/plain": [
              "<Figure size 432x288 with 1 Axes>"
            ]
          },
          "metadata": {
            "tags": [],
            "needs_background": "light"
          }
        }
      ]
    },
    {
      "cell_type": "code",
      "metadata": {
        "id": "nBDWXDOg0lLf",
        "colab": {
          "base_uri": "https://localhost:8080/"
        },
        "outputId": "58e3b1c0-8aa9-4bfc-a108-97905dca360c"
      },
      "source": [
        "pred = modelS.predict(xTrain01)    # предсказание и приводим его к начальному виду\n",
        "predUnscaled = yScaler.inverse_transform(pred).flatten()\n",
        "\n",
        "# Среднее значение ошибки \n",
        "delta = predUnscaled - yTrain\n",
        "absDelta = abs(delta)\n",
        "print(\"ошибка:\", round(sum(absDelta) / len(absDelta), 2))"
      ],
      "execution_count": null,
      "outputs": [
        {
          "output_type": "stream",
          "text": [
            "ошибка: 33.65\n"
          ],
          "name": "stdout"
        }
      ]
    },
    {
      "cell_type": "code",
      "metadata": {
        "id": "xaYqwbsVAb4k"
      },
      "source": [
        "yy = model.predict(xTrain01) # Результат для всего тренировочного набора"
      ],
      "execution_count": null,
      "outputs": []
    },
    {
      "cell_type": "code",
      "metadata": {
        "id": "dasuOh89Af3u",
        "colab": {
          "base_uri": "https://localhost:8080/"
        },
        "outputId": "7c1eead1-3fe4-4e21-b83f-47ef8fbea69b"
      },
      "source": [
        "n = 15\n",
        "for i in range(n):\n",
        "  print(\"Реальное значение:\",yTrain[i], \" Предсказанное значение:\", yy[i][0], \" Разница:\", abs(yTrain[i]-yy[i][0]))"
      ],
      "execution_count": null,
      "outputs": [
        {
          "output_type": "stream",
          "text": [
            "Реальное значение: 40.0  Предсказанное значение: 39.068092  Разница: 0.9319076538085938\n",
            "Реальное значение: 40.0  Предсказанное значение: 66.819695  Разница: 26.81969451904297\n",
            "Реальное значение: 300.0  Предсказанное значение: 141.32571  Разница: 158.67428588867188\n",
            "Реальное значение: 180.0  Предсказанное значение: 148.98201  Разница: 31.017990112304688\n",
            "Реальное значение: 40.0  Предсказанное значение: 49.041058  Разница: 9.041057586669922\n",
            "Реальное значение: 200.0  Предсказанное значение: 130.68301  Разница: 69.31698608398438\n",
            "Реальное значение: 120.0  Предсказанное значение: 151.77443  Разница: 31.774429321289062\n",
            "Реальное значение: 50.0  Предсказанное значение: 71.330025  Разница: 21.33002471923828\n",
            "Реальное значение: 60.0  Предсказанное значение: 88.77832  Разница: 28.7783203125\n",
            "Реальное значение: 70.0  Предсказанное значение: 125.88035  Разница: 55.880348205566406\n",
            "Реальное значение: 140.0  Предсказанное значение: 113.079285  Разница: 26.92071533203125\n",
            "Реальное значение: 60.0  Предсказанное значение: 143.35439  Разница: 83.35438537597656\n",
            "Реальное значение: 180.0  Предсказанное значение: 137.57141  Разница: 42.4285888671875\n",
            "Реальное значение: 50.0  Предсказанное значение: 74.4159  Разница: 24.41590118408203\n",
            "Реальное значение: 40.0  Предсказанное значение: 24.39211  Разница: 15.607889175415039\n"
          ],
          "name": "stdout"
        }
      ]
    },
    {
      "cell_type": "code",
      "metadata": {
        "id": "Z_sTp2V6vyN6"
      },
      "source": [
        "# Выкачиваем данные по резюме, загружаем сложные текстовые данные\n",
        "def getXTrainTRez(values):\n",
        "    xTrainTRez = []\n",
        "    \n",
        "    for val in values:\n",
        "      currText = \"\"\n",
        "      if (type(val[6]) != float):\n",
        "          currText += val[6]\n",
        "      \n",
        "      if (getParameterSalary(val[1]) != -1):\n",
        "          xTrainTRez.append(currText)\n",
        "    \n",
        "    xTrainTRez = np.array(xTrainTRez)\n",
        "    \n",
        "    return xTrainTRez"
      ],
      "execution_count": null,
      "outputs": []
    },
    {
      "cell_type": "code",
      "metadata": {
        "id": "MnMIxVGSvyfb"
      },
      "source": [
        "xTrainTRez = getXTrainTRez(fixed_df.values)   # Вытаскиваем резюме для выборки"
      ],
      "execution_count": null,
      "outputs": []
    },
    {
      "cell_type": "code",
      "metadata": {
        "colab": {
          "base_uri": "https://localhost:8080/"
        },
        "id": "sx9zaO4fxQ7E",
        "outputId": "e30eec8d-7676-48d6-baf5-878b85ffb888"
      },
      "source": [
        "print(xTrainTRez[11]) # Пример профессии 12го резюме"
      ],
      "execution_count": null,
      "outputs": [
        {
          "output_type": "stream",
          "text": [
            "Опыт работы 26 лет 5 месяцев  Март 2019 — по настоящее время 3 месяца Управление Федеральной службы по надзору в сфере защиты прав потребителей и благополучия человека по городу Москве Москва , rospotrebnadzor.ru/ Государственные организации ... Государственные организации Ведущий специалист-эксперт Администрирование сетевой и компьютерной инфраструктуры.  Июль 2015 — Февраль  2019 3 года 8 месяцев ООО \"ЭЛ-РИНО\" Москва Телекоммуникации, связь ... Оптоволоконная связь Фиксированная связь Системный администратор Администрирование сетевой и компьютерной инфраструктуры большого бизнес-центра. Работа с арендаторами. Active Directories. Helpdesk. Установка и поддержка программных продуктов (MS Windows XP-10, MS Office, Консультант+ и пр.). Поддержка подключения всего бизнес-центра к Интернет. Большой опыт в обслуживании и ремонте офисной техники (HP, Canon, Epson, Kyocera, Ricoh и др.) Отличное знание мобильных устройств, Android.  Январь 2006 — Июнь  2015 9 лет 6 месяцев Банк «Инвестрастбанк» Москва Финансовый сектор ... Банк Системный администратор Администрирование сетевой и компьютерной инфраструктуры головного офиса. Active Directories. Helpdesk. Установка и поддержка программных продуктов (MS Windows XP-8.1, MS Office и пр.). Поддержка подключения всего офиса к Интернет. Отличное знание мобильных устройств, Android.  Январь 2001 — Декабрь  2005 5 лет Банк «Русские Финансовые Традиции» Москва Финансовый сектор ... Банк Системный администратор Поддержка компьютерного оборудования и программных продуктов, компьютерные сети, работа с клиентами. Установка и поддержка программных продуктов. Поддержка подключения всего офиса к Интернет. Опыт работы по поддержке пользователей.  Январь 2000 — Январь  2001 1 год 1 месяц Банк «Новый Инвестиционный Банк» Москва Финансовый сектор ... Банк Системный администратор Поддержка компьютерного оборудования и программных продуктов, компьютерные сети, работа с клиентами. Установка и поддержка программных продуктов. Обслуживание и настройка Диасофт Банк 4Х4 и Системы «Клиент-Банк». Поддержка подключения всего офиса к Интернет. Опыт работы по поддержке пользователей.  Январь 1998 — Январь  2000 2 года 1 месяц ООО «Вордсмитс Коммьюникейшнз» Москва Услуги для бизнеса ... Переводческая деятельность Системный администратор Поддержка компьютерного оборудования и программных продуктов, компьютерные сети, работа с клиентами. Установка и поддержка программных продуктов (PROMT 98 Network Version, FineReader и т.д.). Совместная работа с ABBYY и PROject MT. Администрирование списка рассылки EXPAT и работа над EXPAT-сайтом (www. expat.ru). Опыт работы по поддержке пользователей.  Январь 1997 — Январь  1998 1 год 1 месяц ООО «Терралинк» Москва Информационные технологии, системная интеграция, интернет ... Системная интеграция, автоматизации технологических и бизнес-процессов предприятия, ИТ-консалтинг Инженер Системный инженер, специалист по оборудованию Compaq Поддержка компьютерного оборудования и программных продуктов, компьютерные сети, работа с клиентами. Обслуживание оборудования Compaq (серверы, рабочие станции, ноутбуки и периферия), принтеров и карт захвата изображения Fargo. Установка сетей. Установка и поддержка программных продуктов (широкий ряд от Windows95 до Fargo's Cardmaker). Имею опыт организации работы в небольшой группе.  Январь 1995 — Январь  1997 2 года 1 месяц ЗАО «Фаворит +» Москва Услуги для населения ... Игорный бизнес Инженер-программист Работа с Internet (поиск информации по спортивным событиям), поддержка Web-страницы компании. Обслуживание компьютеров и оргтехники в офисе, поддержка модемной связи с филиалами фирмы.  Январь 1993 — Январь  1995 2 года 1 месяц Комитет при Президенте РФ по политике информатизации Москва Государственные организации ... Государственные организации Специалист I-й категории Работа с компьютерами и информацией. Установка программ, обслуживание компьютеров и периферии, заключение договоров с различными компаниями.\n"
          ],
          "name": "stdout"
        }
      ]
    },
    {
      "cell_type": "code",
      "metadata": {
        "id": "0f2RT6Z2xRFO"
      },
      "source": [
        "#Преобразовываю текстовые данные в числовые/векторные для обучения нейросетью\n",
        "\n",
        "maxWordsCount = 5000 \n",
        "\n",
        "# разбиение текста и преобразование в матрицу числовых значений\n",
        "tokenizer = Tokenizer(num_words=maxWordsCount, filters='!\"#$%&()*+,-–—./:;<=>?@[\\\\]^_`{|}~\\t\\n\\xa0', lower=True, split=' ', oov_token='unknown', char_level=False)\n",
        "\n",
        "#(num_words=maxWordsCount) - определяем макс.кол-во слов/индексов, учитываемое при обучении текстов\n",
        "#(filters='!\"#$%&()*+,-./:;<=>?@[\\\\]^_`{|}~\\t\\n') - избавляемся от ненужных символов\n",
        "#(lower=True) - приводим слова к нижнему регистру\n",
        "#(split=' ') - разделяем слова по пробелу\n",
        "#(char_level=False) - просим токенайзер не удалять однобуквенные слова\n",
        "\n",
        "tokenizer.fit_on_texts(xTrainTRez)         # даём в обработку методу, который соберет словарь частотности\n",
        "items = list(tokenizer.word_index.items()) # вытаскиваем индексы слов для просмотра"
      ],
      "execution_count": null,
      "outputs": []
    },
    {
      "cell_type": "code",
      "metadata": {
        "id": "LsagZW1FxRNI"
      },
      "source": [
        "xTrainRezIndexes = tokenizer.texts_to_sequences(xTrainTRez) # Обучающие тесты в индексы"
      ],
      "execution_count": null,
      "outputs": []
    },
    {
      "cell_type": "code",
      "metadata": {
        "colab": {
          "base_uri": "https://localhost:8080/"
        },
        "id": "-o-OsvZrxgym",
        "outputId": "c6c25387-a043-4245-df25-257156453ef4"
      },
      "source": [
        "xTrainRez01 = tokenizer.sequences_to_matrix(xTrainRezIndexes) # Подаем xTrain в виде списка чтобы метод успешно сработал\n",
        "print(\"Размер обучающей выборки, сформированной по Bag of Words:\", xTrainRez01.shape)                                      # Размер обучающей выборки, сформированной по Bag of Words\n",
        "print(xTrainRez01[0][0:100])"
      ],
      "execution_count": null,
      "outputs": [
        {
          "output_type": "stream",
          "text": [
            "Размер обучающей выборки, сформированной по Bag of Words: (62967, 5000)\n",
            "[0. 0. 1. 1. 1. 0. 1. 1. 1. 0. 0. 0. 0. 0. 1. 0. 1. 1. 1. 0. 0. 1. 1. 0.\n",
            " 1. 0. 1. 0. 0. 0. 0. 0. 1. 1. 0. 0. 0. 0. 0. 0. 0. 0. 0. 0. 0. 0. 0. 0.\n",
            " 0. 0. 0. 1. 0. 0. 1. 0. 0. 1. 0. 0. 0. 0. 0. 0. 0. 0. 0. 1. 0. 1. 0. 0.\n",
            " 0. 0. 0. 1. 0. 1. 0. 0. 0. 0. 0. 0. 0. 0. 0. 0. 0. 0. 1. 0. 0. 0. 0. 1.\n",
            " 0. 0. 1. 0.]\n"
          ],
          "name": "stdout"
        }
      ]
    },
    {
      "cell_type": "code",
      "metadata": {
        "colab": {
          "base_uri": "https://localhost:8080/"
        },
        "id": "lPml8adeyX0w",
        "outputId": "848027b3-5452-46af-a100-4aa059a46918"
      },
      "source": [
        "print(\"Размер выборки самых частых слов:\", xTrainRez01.shape)\n",
        "print(\"Пример из отформатированной выборки:\", xTrainRez01[555]) "
      ],
      "execution_count": null,
      "outputs": [
        {
          "output_type": "stream",
          "text": [
            "Размер выборки самых частых слов: (62967, 5000)\n",
            "Пример из отформатированной выборки: [0. 0. 1. ... 0. 0. 0.]\n"
          ],
          "name": "stdout"
        }
      ]
    },
    {
      "cell_type": "code",
      "metadata": {
        "id": "MfN5fTs5z0Gm"
      },
      "source": [
        "# functional API составная  нейро-сеть"
      ],
      "execution_count": null,
      "outputs": []
    },
    {
      "cell_type": "code",
      "metadata": {
        "id": "sn_zzwP_yYEF"
      },
      "source": [
        "# подготовил xTrain01 и xTrainRez01,"
      ],
      "execution_count": null,
      "outputs": []
    },
    {
      "cell_type": "code",
      "metadata": {
        "id": "u76eKcnlTotB"
      },
      "source": [
        "input1 = Input((xTrain01.shape[1],))\n",
        "input3 = Input((xTrainRez01.shape[1],))\n",
        "\n",
        "x1 = BatchNormalization()(input1)            # ветка х1\n",
        "x1 = Dropout(0.5)(x1)\n",
        "x1 = Dense(10, activation=\"relu\")(x1)\n",
        "x1 = Dense(1000, activation=\"relu\")(x1)\n",
        "x1 = Dense(100, activation = \"relu\")(x1)\n",
        "\n",
        "\n",
        "x3 = Dense(1000, activation=\"tanh\")(input3)  # ветка x3\n",
        "x3 = Dense(20, activation = \"elu\")(x3)\n",
        "x3 = Dense(5, activation = \"elu\")(x3)\n",
        "\n",
        "x = concatenate([x1, x3])                    # объединяю две ветки\n",
        "\n",
        "x = Dense(15, activation=\"linear\")(x)\n",
        "x = Dropout(0.5)(x)\n",
        "x = Dense(1, activation=\"relu\")(x)           # Финальный нейрон, делает регрессию\n",
        "\n",
        "model = Model((input1, input3), x)           # В Model загружаем стартовые и последнюю точки \n",
        "\n",
        "model.compile(optimizer=Adam(lr=1e-3), loss=\"mse\", metrics=[\"mae\"])\n"
      ],
      "execution_count": null,
      "outputs": []
    },
    {
      "cell_type": "code",
      "metadata": {
        "colab": {
          "base_uri": "https://localhost:8080/"
        },
        "id": "54y_fGhZ0VyB",
        "outputId": "efbff1df-09f4-47ae-b186-ab38146b2878"
      },
      "source": [
        "history = model.fit([xTrain01[:50000], xTrainRez01[:50000]], yTrain[:50000], epochs= 50, \n",
        "                    validation_data=([xTrain01[50000:], xTrainRez01[50000:]], yTrain[50000:]), verbose=1, shuffle=True)"
      ],
      "execution_count": null,
      "outputs": [
        {
          "output_type": "stream",
          "text": [
            "Epoch 1/50\n",
            "1563/1563 [==============================] - 6s 3ms/step - loss: 15778.9455 - mae: 36.8673 - val_loss: 1529.3700 - val_mae: 23.1186\n",
            "Epoch 2/50\n",
            "1563/1563 [==============================] - 5s 3ms/step - loss: 14118.6261 - mae: 27.3699 - val_loss: 1444.1422 - val_mae: 22.9557\n",
            "Epoch 3/50\n",
            "1563/1563 [==============================] - 5s 3ms/step - loss: 10275.6445 - mae: 25.5920 - val_loss: 1304.4883 - val_mae: 21.6507\n",
            "Epoch 4/50\n",
            "1563/1563 [==============================] - 5s 3ms/step - loss: 6229.8854 - mae: 24.5596 - val_loss: 1286.2250 - val_mae: 21.5578\n",
            "Epoch 5/50\n",
            "1563/1563 [==============================] - 5s 3ms/step - loss: 15575.2894 - mae: 23.8534 - val_loss: 1251.7256 - val_mae: 20.8758\n",
            "Epoch 6/50\n",
            "1563/1563 [==============================] - 5s 3ms/step - loss: 3916.6004 - mae: 22.6409 - val_loss: 1422.4429 - val_mae: 21.9398\n",
            "Epoch 7/50\n",
            "1563/1563 [==============================] - 5s 3ms/step - loss: 6316.3949 - mae: 22.4523 - val_loss: 1323.3256 - val_mae: 21.5575\n",
            "Epoch 8/50\n",
            "1563/1563 [==============================] - 5s 3ms/step - loss: 14566.9586 - mae: 22.3550 - val_loss: 1215.8970 - val_mae: 20.3426\n",
            "Epoch 9/50\n",
            "1563/1563 [==============================] - 5s 3ms/step - loss: 10806.4311 - mae: 21.4985 - val_loss: 1259.7349 - val_mae: 20.6094\n",
            "Epoch 10/50\n",
            "1563/1563 [==============================] - 5s 3ms/step - loss: 8246.2112 - mae: 21.0759 - val_loss: 1263.5685 - val_mae: 20.9001\n",
            "Epoch 11/50\n",
            "1563/1563 [==============================] - 5s 3ms/step - loss: 7843.3476 - mae: 21.2121 - val_loss: 1177.7531 - val_mae: 20.0358\n",
            "Epoch 12/50\n",
            "1563/1563 [==============================] - 5s 3ms/step - loss: 7553.2162 - mae: 20.8546 - val_loss: 1147.9830 - val_mae: 19.8520\n",
            "Epoch 13/50\n",
            "1563/1563 [==============================] - 5s 3ms/step - loss: 1399.6458 - mae: 19.4326 - val_loss: 1353.4879 - val_mae: 21.9478\n",
            "Epoch 14/50\n",
            "1563/1563 [==============================] - 5s 3ms/step - loss: 4848.9205 - mae: 19.7923 - val_loss: 1111.5724 - val_mae: 19.3499\n",
            "Epoch 15/50\n",
            "1563/1563 [==============================] - 5s 3ms/step - loss: 2226.3576 - mae: 19.1169 - val_loss: 1224.5199 - val_mae: 20.3263\n",
            "Epoch 16/50\n",
            "1563/1563 [==============================] - 5s 3ms/step - loss: 2192.8707 - mae: 19.5250 - val_loss: 1221.6543 - val_mae: 20.5971\n",
            "Epoch 17/50\n",
            "1563/1563 [==============================] - 5s 3ms/step - loss: 4764.8031 - mae: 19.3922 - val_loss: 1107.5895 - val_mae: 19.2176\n",
            "Epoch 18/50\n",
            "1563/1563 [==============================] - 5s 3ms/step - loss: 4979.6572 - mae: 19.0691 - val_loss: 1150.5372 - val_mae: 19.4601\n",
            "Epoch 19/50\n",
            "1563/1563 [==============================] - 5s 3ms/step - loss: 3438.4635 - mae: 18.7755 - val_loss: 1127.2916 - val_mae: 19.2218\n",
            "Epoch 20/50\n",
            "1563/1563 [==============================] - 5s 3ms/step - loss: 1498.2008 - mae: 18.0535 - val_loss: 1092.3695 - val_mae: 18.8082\n",
            "Epoch 21/50\n",
            "1563/1563 [==============================] - 5s 3ms/step - loss: 5510.8584 - mae: 18.2982 - val_loss: 1111.7860 - val_mae: 19.5038\n",
            "Epoch 22/50\n",
            "1563/1563 [==============================] - 5s 3ms/step - loss: 1136.5013 - mae: 17.7284 - val_loss: 1134.5504 - val_mae: 19.0133\n",
            "Epoch 23/50\n",
            "1563/1563 [==============================] - 5s 3ms/step - loss: 1486.7183 - mae: 17.8141 - val_loss: 1101.3721 - val_mae: 19.3476\n",
            "Epoch 24/50\n",
            "1563/1563 [==============================] - 5s 3ms/step - loss: 6121.6160 - mae: 17.6777 - val_loss: 1102.3113 - val_mae: 18.5531\n",
            "Epoch 25/50\n",
            "1563/1563 [==============================] - 5s 3ms/step - loss: 1044.1742 - mae: 17.0447 - val_loss: 1092.2472 - val_mae: 19.1054\n",
            "Epoch 26/50\n",
            "1563/1563 [==============================] - 5s 3ms/step - loss: 5157.2200 - mae: 17.6024 - val_loss: 1213.5137 - val_mae: 21.0438\n",
            "Epoch 27/50\n",
            "1563/1563 [==============================] - 5s 3ms/step - loss: 2458.6481 - mae: 17.2939 - val_loss: 1120.5344 - val_mae: 18.9833\n",
            "Epoch 28/50\n",
            "1563/1563 [==============================] - 5s 3ms/step - loss: 896.7839 - mae: 16.4040 - val_loss: 1062.2694 - val_mae: 18.4376\n",
            "Epoch 29/50\n",
            "1563/1563 [==============================] - 5s 3ms/step - loss: 3953.7882 - mae: 16.9131 - val_loss: 1110.5201 - val_mae: 18.8069\n",
            "Epoch 30/50\n",
            "1563/1563 [==============================] - 5s 3ms/step - loss: 1829.4387 - mae: 16.8678 - val_loss: 1090.4099 - val_mae: 18.9639\n",
            "Epoch 31/50\n",
            "1563/1563 [==============================] - 5s 3ms/step - loss: 991.0254 - mae: 16.5460 - val_loss: 1198.5731 - val_mae: 19.3739\n",
            "Epoch 32/50\n",
            "1563/1563 [==============================] - 5s 3ms/step - loss: 5671.7470 - mae: 17.1268 - val_loss: 1073.0485 - val_mae: 18.2180\n",
            "Epoch 33/50\n",
            "1563/1563 [==============================] - 5s 3ms/step - loss: 4207.0084 - mae: 16.2185 - val_loss: 1130.8635 - val_mae: 18.6520\n",
            "Epoch 34/50\n",
            "1563/1563 [==============================] - 5s 3ms/step - loss: 5384.9243 - mae: 16.6544 - val_loss: 1091.9222 - val_mae: 18.2842\n",
            "Epoch 35/50\n",
            "1563/1563 [==============================] - 5s 3ms/step - loss: 2417.5205 - mae: 15.5572 - val_loss: 1091.7095 - val_mae: 18.1278\n",
            "Epoch 36/50\n",
            "1563/1563 [==============================] - 5s 3ms/step - loss: 679.7609 - mae: 15.4071 - val_loss: 1066.1501 - val_mae: 18.1303\n",
            "Epoch 37/50\n",
            "1563/1563 [==============================] - 5s 3ms/step - loss: 1402.7618 - mae: 15.2999 - val_loss: 1057.1567 - val_mae: 18.3218\n",
            "Epoch 38/50\n",
            "1563/1563 [==============================] - 5s 3ms/step - loss: 1774.6522 - mae: 15.6313 - val_loss: 1060.2439 - val_mae: 18.1366\n",
            "Epoch 39/50\n",
            "1563/1563 [==============================] - 5s 3ms/step - loss: 8063.2730 - mae: 16.0108 - val_loss: 1079.8251 - val_mae: 18.1629\n",
            "Epoch 40/50\n",
            "1563/1563 [==============================] - 5s 3ms/step - loss: 2227.6914 - mae: 14.7551 - val_loss: 1123.0204 - val_mae: 18.3733\n",
            "Epoch 41/50\n",
            "1563/1563 [==============================] - 5s 3ms/step - loss: 765.5933 - mae: 14.1973 - val_loss: 1081.6652 - val_mae: 17.9032\n",
            "Epoch 42/50\n",
            "1563/1563 [==============================] - 5s 3ms/step - loss: 1549.1451 - mae: 14.8824 - val_loss: 1127.2200 - val_mae: 19.0455\n",
            "Epoch 43/50\n",
            "1563/1563 [==============================] - 5s 3ms/step - loss: 2734.0242 - mae: 14.9480 - val_loss: 1063.0433 - val_mae: 17.8842\n",
            "Epoch 44/50\n",
            "1563/1563 [==============================] - 5s 3ms/step - loss: 2267.7625 - mae: 14.5867 - val_loss: 1096.7947 - val_mae: 18.0825\n",
            "Epoch 45/50\n",
            "1563/1563 [==============================] - 5s 3ms/step - loss: 2114.8694 - mae: 14.7465 - val_loss: 1088.9249 - val_mae: 17.9424\n",
            "Epoch 46/50\n",
            "1563/1563 [==============================] - 5s 3ms/step - loss: 1539.3683 - mae: 14.9339 - val_loss: 1068.6344 - val_mae: 17.5260\n",
            "Epoch 47/50\n",
            "1563/1563 [==============================] - 5s 3ms/step - loss: 3314.1894 - mae: 14.2419 - val_loss: 1113.6484 - val_mae: 18.4811\n",
            "Epoch 48/50\n",
            "1563/1563 [==============================] - 5s 3ms/step - loss: 684.9420 - mae: 13.9322 - val_loss: 1065.6299 - val_mae: 17.8354\n",
            "Epoch 49/50\n",
            "1563/1563 [==============================] - 5s 3ms/step - loss: 1941.1514 - mae: 14.9414 - val_loss: 1144.5275 - val_mae: 18.5741\n",
            "Epoch 50/50\n",
            "1563/1563 [==============================] - 5s 3ms/step - loss: 946.6916 - mae: 13.8479 - val_loss: 1075.5576 - val_mae: 17.9934\n"
          ],
          "name": "stdout"
        }
      ]
    },
    {
      "cell_type": "code",
      "metadata": {
        "id": "TlExFRlPdF2r",
        "colab": {
          "base_uri": "https://localhost:8080/",
          "height": 279
        },
        "outputId": "934ff91e-69c6-4f27-c106-f342673bb967"
      },
      "source": [
        "plt.plot(history.history[\"mae\"], label=\"Средняя абсолютная ошибка на обучающем наборе\")\n",
        "plt.plot(history.history[\"val_mae\"], label=\"Средняя абсолютная ошибка на проверочном наборе\")\n",
        "plt.xlabel(\"Эпоха обучения\")\n",
        "plt.ylabel(\"Средняя абсолютная ошибка\")\n",
        "plt.legend()\n",
        "plt.show()"
      ],
      "execution_count": null,
      "outputs": [
        {
          "output_type": "display_data",
          "data": {
            "image/png": "[encoded data removed]",
            "text/plain": [
              "<Figure size 432x288 with 1 Axes>"
            ]
          },
          "metadata": {
            "tags": [],
            "needs_background": "light"
          }
        }
      ]
    },
    {
      "cell_type": "code",
      "metadata": {
        "id": "gfZbZHjqdQtG",
        "colab": {
          "base_uri": "https://localhost:8080/",
          "height": 279
        },
        "outputId": "b2da6cd4-d750-4289-ef37-bd55a9457c32"
      },
      "source": [
        "yy = yTrain[50000:]                                           # Зарплата запрошенная\n",
        "pred = model.predict([xTrain01[50000:], xTrainRez01[50000:]]) # Предсказанная зарплата\n",
        "plt.scatter(yy, pred)\n",
        "plt.xlabel('Правильные значение')\n",
        "plt.ylabel('Предсказания')\n",
        "plt.axis('equal')\n",
        "plt.xlim(plt.xlim())\n",
        "plt.ylim(plt.ylim())\n",
        "plt.plot([-1000, 1000], [-1000, 1000])\n",
        "plt.show()"
      ],
      "execution_count": null,
      "outputs": [
        {
          "output_type": "display_data",
          "data": {
            "image/png": "[encoded data removed]",
            "text/plain": [
              "<Figure size 432x288 with 1 Axes>"
            ]
          },
          "metadata": {
            "tags": [],
            "needs_background": "light"
          }
        }
      ]
    },
    {
      "cell_type": "code",
      "metadata": {
        "id": "_jafWlnbfRPV"
      },
      "source": [
        "del xTrainRez01, xTrainRezIndexes # Удаляем некоторые переменные, иначе дальше может вылететь из-за нехватки памяти"
      ],
      "execution_count": null,
      "outputs": []
    }
  ]
}