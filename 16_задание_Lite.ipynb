{
  "nbformat": 4,
  "nbformat_minor": 0,
  "metadata": {
    "colab": {
      "name": "16 задание Lite",
      "provenance": [],
      "collapsed_sections": [],
      "machine_shape": "hm",
      "include_colab_link": true
    },
    "kernelspec": {
      "name": "python3",
      "display_name": "Python 3"
    },
    "accelerator": "GPU"
  },
  "cells": [
    {
      "cell_type": "markdown",
      "metadata": {
        "id": "view-in-github",
        "colab_type": "text"
      },
      "source": [
        "<a href=\"https://colab.research.google.com/github/DurdenTyler2008/University-of-AI/blob/main/16_%D0%B7%D0%B0%D0%B4%D0%B0%D0%BD%D0%B8%D0%B5_Lite.ipynb\" target=\"_parent\"><img src=\"https://colab.research.google.com/assets/colab-badge.svg\" alt=\"Open In Colab\"/></a>"
      ]
    },
    {
      "cell_type": "markdown",
      "metadata": {
        "id": "sBjq9WQRFSmh"
      },
      "source": [
        "16 задание Lite\n",
        "1. Загрузить xTrain на числовых данных\n",
        "2. Загрузить xTrainС из \"Примечаний\" (тексты)\n",
        "3. Создать словарь\n",
        "4. Превратить xTrainC в формат bag of words (2000 самых популярных слов)\n",
        "5. Сделать нормирование данных\n",
        "6. Написать нейронную сеть"
      ]
    },
    {
      "cell_type": "code",
      "metadata": {
        "id": "SkQ2zSVRR_De"
      },
      "source": [
        "import numpy as np \n",
        "import pandas as pd \n",
        "\n",
        "from tensorflow.keras.models import Sequential, Model \n",
        "from tensorflow.keras.layers import concatenate, Input, Dense, Dropout, BatchNormalization, Flatten \n",
        "from tensorflow.keras import utils\n",
        "from tensorflow.keras.optimizers import Adam,Adadelta,SGD,Adagrad,RMSprop \n",
        "from tensorflow.keras.preprocessing.text import Tokenizer, text_to_word_sequence \n",
        "from tensorflow.keras.preprocessing.sequence import pad_sequences \n",
        "from tensorflow.keras.callbacks import LambdaCallback\n",
        "\n",
        "from sklearn.preprocessing import StandardScaler \n",
        "from sklearn.model_selection import train_test_split \n",
        "from sklearn.metrics import mean_squared_error, mean_absolute_error \n",
        "\n",
        "import random\n",
        "import math \n",
        "import os \n",
        "import re \n",
        "import matplotlib.pyplot as plt \n",
        "%matplotlib inline\n",
        "\n",
        "from IPython.display import clear_output\n"
      ],
      "execution_count": 128,
      "outputs": []
    },
    {
      "cell_type": "code",
      "metadata": {
        "id": "3Ywrz1ojUx1-",
        "colab": {
          "base_uri": "https://localhost:8080/",
          "height": 0
        },
        "outputId": "bc02ab8d-d25a-4e35-ae94-944fdbe1ff7f"
      },
      "source": [
        "from google.colab import drive # Подключаем диск\n",
        "drive.mount('/content/drive')"
      ],
      "execution_count": 129,
      "outputs": [
        {
          "output_type": "stream",
          "text": [
            "Drive already mounted at /content/drive; to attempt to forcibly remount, call drive.mount(\"/content/drive\", force_remount=True).\n"
          ],
          "name": "stdout"
        }
      ]
    },
    {
      "cell_type": "code",
      "metadata": {
        "colab": {
          "base_uri": "https://localhost:8080/",
          "height": 0
        },
        "id": "fObD4X44rO8q",
        "outputId": "4ecdab46-acf5-42b3-a6df-b482f22cd122"
      },
      "source": [
        "!ls \"/content/drive/MyDrive\"    # читаю директории"
      ],
      "execution_count": 173,
      "outputs": [
        {
          "output_type": "stream",
          "text": [
            " 1_2.jpg\t       city_temperature.csv   train.csv\n",
            " 14text.txt\t      'Colab Notebooks'       train_vector_1.csv\n",
            " 2_2.jpg\t       Diseases\t\t      train_vector_1.gsheet\n",
            " 3_2.jpg\t       file_csv.csv\t      unknown\n",
            " 3_3.jpg\t       hh_fixed.csv\t      wine_base.csv\n",
            " 4_2.jpg\t       iris.csv\t\t      zakupki_hack.csv\n",
            " 4.jpg\t\t       lkk_meters.csv\t      Автомобили.zip\n",
            " 7_2_kolorpaint.jpeg  'Matplotlib&Seaborn'    Болезни.zip\n",
            " 7_kolorpaint.jpeg     moscow.csv\t     'Задача 2_6.png'\n",
            " 7kolorpaint.png       Pandas1_ultra-pro     'Тексты писателей.zip'\n",
            " AIFramework\t       Pandas2\n",
            " cars_new.csv\t       sonar.csv\n"
          ],
          "name": "stdout"
        }
      ]
    },
    {
      "cell_type": "code",
      "metadata": {
        "id": "106DlPFbeKv9",
        "colab": {
          "base_uri": "https://localhost:8080/",
          "height": 313
        },
        "outputId": "36f5ca9d-c202-4f43-9d8f-d4828708187c"
      },
      "source": [
        "df = pd.read_csv(\"/content/drive/My Drive/moscow.csv\", sep=\";\")   # читаю файл\n",
        "df.head()"
      ],
      "execution_count": 174,
      "outputs": [
        {
          "output_type": "execute_result",
          "data": {
            "text/html": [
              "<div>\n",
              "<style scoped>\n",
              "    .dataframe tbody tr th:only-of-type {\n",
              "        vertical-align: middle;\n",
              "    }\n",
              "\n",
              "    .dataframe tbody tr th {\n",
              "        vertical-align: top;\n",
              "    }\n",
              "\n",
              "    .dataframe thead th {\n",
              "        text-align: right;\n",
              "    }\n",
              "</style>\n",
              "<table border=\"1\" class=\"dataframe\">\n",
              "  <thead>\n",
              "    <tr style=\"text-align: right;\">\n",
              "      <th></th>\n",
              "      <th>Комнат</th>\n",
              "      <th>Метро / ЖД станции</th>\n",
              "      <th>От станции</th>\n",
              "      <th>Дом</th>\n",
              "      <th>Балкон</th>\n",
              "      <th>Санузел</th>\n",
              "      <th>Площадь</th>\n",
              "      <th>Цена, руб.</th>\n",
              "      <th>ГРМ</th>\n",
              "      <th>Бонус агенту</th>\n",
              "      <th>Дата</th>\n",
              "      <th>Кол-во дней в экспозиции</th>\n",
              "      <th>Источник</th>\n",
              "      <th>Примечание</th>\n",
              "    </tr>\n",
              "  </thead>\n",
              "  <tbody>\n",
              "    <tr>\n",
              "      <th>0</th>\n",
              "      <td>1</td>\n",
              "      <td>Шелепиха м.</td>\n",
              "      <td>12п</td>\n",
              "      <td>35/37 М</td>\n",
              "      <td>NaN</td>\n",
              "      <td>2</td>\n",
              "      <td>64.1/23/20</td>\n",
              "      <td>19500000.0</td>\n",
              "      <td>NaN</td>\n",
              "      <td>NaN</td>\n",
              "      <td>25.07.2019</td>\n",
              "      <td>1.0</td>\n",
              "      <td>Привлекательные</td>\n",
              "      <td>Собственность оформлена! Ключи на руках! Опера...</td>\n",
              "    </tr>\n",
              "    <tr>\n",
              "      <th>1</th>\n",
              "      <td>Для заметок:</td>\n",
              "      <td>NaN</td>\n",
              "      <td>NaN</td>\n",
              "      <td>NaN</td>\n",
              "      <td>NaN</td>\n",
              "      <td>NaN</td>\n",
              "      <td>NaN</td>\n",
              "      <td>NaN</td>\n",
              "      <td>NaN</td>\n",
              "      <td>NaN</td>\n",
              "      <td>NaN</td>\n",
              "      <td>NaN</td>\n",
              "      <td>NaN</td>\n",
              "      <td>NaN</td>\n",
              "    </tr>\n",
              "    <tr>\n",
              "      <th>2</th>\n",
              "      <td>1</td>\n",
              "      <td>Пятницкое шоссе м.</td>\n",
              "      <td>30т</td>\n",
              "      <td>11/14 П</td>\n",
              "      <td>Л</td>\n",
              "      <td>Р</td>\n",
              "      <td>38.4/17/9</td>\n",
              "      <td>4800000.0</td>\n",
              "      <td>NaN</td>\n",
              "      <td>NaN</td>\n",
              "      <td>25.07.2019</td>\n",
              "      <td>2.0</td>\n",
              "      <td>Привлекательные</td>\n",
              "      <td>Зеленоград к.1820 однокомнатная квартира общ.3...</td>\n",
              "    </tr>\n",
              "    <tr>\n",
              "      <th>3</th>\n",
              "      <td>Для заметок:</td>\n",
              "      <td>NaN</td>\n",
              "      <td>NaN</td>\n",
              "      <td>NaN</td>\n",
              "      <td>NaN</td>\n",
              "      <td>NaN</td>\n",
              "      <td>NaN</td>\n",
              "      <td>NaN</td>\n",
              "      <td>NaN</td>\n",
              "      <td>NaN</td>\n",
              "      <td>NaN</td>\n",
              "      <td>NaN</td>\n",
              "      <td>NaN</td>\n",
              "      <td>NaN</td>\n",
              "    </tr>\n",
              "    <tr>\n",
              "      <th>4</th>\n",
              "      <td>1</td>\n",
              "      <td>Планерная м.</td>\n",
              "      <td>5т</td>\n",
              "      <td>11/22 П</td>\n",
              "      <td>Б</td>\n",
              "      <td>С</td>\n",
              "      <td>38.2/19.9/9.9</td>\n",
              "      <td>7990000.0</td>\n",
              "      <td>NaN</td>\n",
              "      <td>NaN</td>\n",
              "      <td>25.07.2019</td>\n",
              "      <td>4.0</td>\n",
              "      <td>Привлекательные</td>\n",
              "      <td>Уютная, светлая квартира, застекленный балкон ...</td>\n",
              "    </tr>\n",
              "  </tbody>\n",
              "</table>\n",
              "</div>"
            ],
            "text/plain": [
              "         Комнат  ...                                         Примечание\n",
              "0             1  ...  Собственность оформлена! Ключи на руках! Опера...\n",
              "1  Для заметок:  ...                                                NaN\n",
              "2             1  ...  Зеленоград к.1820 однокомнатная квартира общ.3...\n",
              "3  Для заметок:  ...                                                NaN\n",
              "4             1  ...  Уютная, светлая квартира, застекленный балкон ...\n",
              "\n",
              "[5 rows x 14 columns]"
            ]
          },
          "metadata": {
            "tags": []
          },
          "execution_count": 174
        }
      ]
    },
    {
      "cell_type": "code",
      "metadata": {
        "id": "GV510wy8ePuS",
        "colab": {
          "base_uri": "https://localhost:8080/",
          "height": 330
        },
        "outputId": "9588eae9-682c-496e-ad30-16535f304665"
      },
      "source": [
        "df = df.iloc[::2,:]       # избавляюсь от лишних строк\n",
        "data = df.values   \n",
        "df.head()  "
      ],
      "execution_count": 175,
      "outputs": [
        {
          "output_type": "execute_result",
          "data": {
            "text/html": [
              "<div>\n",
              "<style scoped>\n",
              "    .dataframe tbody tr th:only-of-type {\n",
              "        vertical-align: middle;\n",
              "    }\n",
              "\n",
              "    .dataframe tbody tr th {\n",
              "        vertical-align: top;\n",
              "    }\n",
              "\n",
              "    .dataframe thead th {\n",
              "        text-align: right;\n",
              "    }\n",
              "</style>\n",
              "<table border=\"1\" class=\"dataframe\">\n",
              "  <thead>\n",
              "    <tr style=\"text-align: right;\">\n",
              "      <th></th>\n",
              "      <th>Комнат</th>\n",
              "      <th>Метро / ЖД станции</th>\n",
              "      <th>От станции</th>\n",
              "      <th>Дом</th>\n",
              "      <th>Балкон</th>\n",
              "      <th>Санузел</th>\n",
              "      <th>Площадь</th>\n",
              "      <th>Цена, руб.</th>\n",
              "      <th>ГРМ</th>\n",
              "      <th>Бонус агенту</th>\n",
              "      <th>Дата</th>\n",
              "      <th>Кол-во дней в экспозиции</th>\n",
              "      <th>Источник</th>\n",
              "      <th>Примечание</th>\n",
              "    </tr>\n",
              "  </thead>\n",
              "  <tbody>\n",
              "    <tr>\n",
              "      <th>0</th>\n",
              "      <td>1</td>\n",
              "      <td>Шелепиха м.</td>\n",
              "      <td>12п</td>\n",
              "      <td>35/37 М</td>\n",
              "      <td>NaN</td>\n",
              "      <td>2</td>\n",
              "      <td>64.1/23/20</td>\n",
              "      <td>19500000.0</td>\n",
              "      <td>NaN</td>\n",
              "      <td>NaN</td>\n",
              "      <td>25.07.2019</td>\n",
              "      <td>1.0</td>\n",
              "      <td>Привлекательные</td>\n",
              "      <td>Собственность оформлена! Ключи на руках! Опера...</td>\n",
              "    </tr>\n",
              "    <tr>\n",
              "      <th>2</th>\n",
              "      <td>1</td>\n",
              "      <td>Пятницкое шоссе м.</td>\n",
              "      <td>30т</td>\n",
              "      <td>11/14 П</td>\n",
              "      <td>Л</td>\n",
              "      <td>Р</td>\n",
              "      <td>38.4/17/9</td>\n",
              "      <td>4800000.0</td>\n",
              "      <td>NaN</td>\n",
              "      <td>NaN</td>\n",
              "      <td>25.07.2019</td>\n",
              "      <td>2.0</td>\n",
              "      <td>Привлекательные</td>\n",
              "      <td>Зеленоград к.1820 однокомнатная квартира общ.3...</td>\n",
              "    </tr>\n",
              "    <tr>\n",
              "      <th>4</th>\n",
              "      <td>1</td>\n",
              "      <td>Планерная м.</td>\n",
              "      <td>5т</td>\n",
              "      <td>11/22 П</td>\n",
              "      <td>Б</td>\n",
              "      <td>С</td>\n",
              "      <td>38.2/19.9/9.9</td>\n",
              "      <td>7990000.0</td>\n",
              "      <td>NaN</td>\n",
              "      <td>NaN</td>\n",
              "      <td>25.07.2019</td>\n",
              "      <td>4.0</td>\n",
              "      <td>Привлекательные</td>\n",
              "      <td>Уютная, светлая квартира, застекленный балкон ...</td>\n",
              "    </tr>\n",
              "    <tr>\n",
              "      <th>6</th>\n",
              "      <td>1</td>\n",
              "      <td>Шаболовская м.</td>\n",
              "      <td>12п</td>\n",
              "      <td>8/12 ?</td>\n",
              "      <td>Б</td>\n",
              "      <td>Р</td>\n",
              "      <td>38/15/7</td>\n",
              "      <td>11200000.0</td>\n",
              "      <td>NaN</td>\n",
              "      <td>NaN</td>\n",
              "      <td>25.07.2019</td>\n",
              "      <td>7.0</td>\n",
              "      <td>Привлекательные</td>\n",
              "      <td>Предлагаю 1- комн квартиру, в шаговой доступно...</td>\n",
              "    </tr>\n",
              "    <tr>\n",
              "      <th>8</th>\n",
              "      <td>1</td>\n",
              "      <td>Бабушкинская м.</td>\n",
              "      <td>15п</td>\n",
              "      <td>4/14 П</td>\n",
              "      <td>NaN</td>\n",
              "      <td>С</td>\n",
              "      <td>34/17/8</td>\n",
              "      <td>6250000.0</td>\n",
              "      <td>NaN</td>\n",
              "      <td>NaN</td>\n",
              "      <td>25.07.2019</td>\n",
              "      <td>11.0</td>\n",
              "      <td>Привлекательные</td>\n",
              "      <td>Продается хорошая 1 комнатная квартира. 1 взро...</td>\n",
              "    </tr>\n",
              "  </tbody>\n",
              "</table>\n",
              "</div>"
            ],
            "text/plain": [
              "  Комнат  ...                                         Примечание\n",
              "0      1  ...  Собственность оформлена! Ключи на руках! Опера...\n",
              "2      1  ...  Зеленоград к.1820 однокомнатная квартира общ.3...\n",
              "4      1  ...  Уютная, светлая квартира, застекленный балкон ...\n",
              "6      1  ...  Предлагаю 1- комн квартиру, в шаговой доступно...\n",
              "8      1  ...  Продается хорошая 1 комнатная квартира. 1 взро...\n",
              "\n",
              "[5 rows x 14 columns]"
            ]
          },
          "metadata": {
            "tags": []
          },
          "execution_count": 175
        }
      ]
    },
    {
      "cell_type": "code",
      "metadata": {
        "colab": {
          "base_uri": "https://localhost:8080/",
          "height": 0
        },
        "id": "YfZu_POCrdRX",
        "outputId": "258d6b16-0ea6-4766-ffc7-c60409a74062"
      },
      "source": [
        "print(\"названия столбов: \\n\", df.columns)"
      ],
      "execution_count": 176,
      "outputs": [
        {
          "output_type": "stream",
          "text": [
            "названия столбов: \n",
            " Index(['Комнат', 'Метро / ЖД станции', 'От станции', 'Дом', 'Балкон',\n",
            "       'Санузел', 'Площадь', 'Цена, руб.', 'ГРМ', 'Бонус агенту', 'Дата',\n",
            "       'Кол-во дней в экспозиции', 'Источник', 'Примечание'],\n",
            "      dtype='object')\n"
          ],
          "name": "stdout"
        }
      ]
    },
    {
      "cell_type": "code",
      "metadata": {
        "colab": {
          "base_uri": "https://localhost:8080/",
          "height": 0
        },
        "id": "YCC2RbY4l4J-",
        "outputId": "9c469826-359d-4ed7-d2f2-f6dd8dc56b69"
      },
      "source": [
        "allMetroNames = list(df[\"Метро / ЖД станции\"].unique())\n",
        "allMetroNames"
      ],
      "execution_count": 177,
      "outputs": [
        {
          "output_type": "execute_result",
          "data": {
            "text/plain": [
              "['Шелепиха м.',\n",
              " 'Пятницкое шоссе м.',\n",
              " 'Планерная м.',\n",
              " 'Шаболовская м.',\n",
              " 'Бабушкинская м.',\n",
              " 'Улица Дмитриевского м.',\n",
              " 'Бульвар Рокоссовского м.',\n",
              " 'Марьина Роща м.',\n",
              " 'Марьино м.',\n",
              " 'Печатники м.',\n",
              " 'Красногвардейская м.',\n",
              " 'Площадь Ильича м.',\n",
              " 'Славянский бульвар м.',\n",
              " 'Раменки м.',\n",
              " 'Ботанический сад м.',\n",
              " 'Маяковская м.',\n",
              " 'Хорошево м. (МЦК)',\n",
              " 'Проспект Вернадского м.',\n",
              " 'Серпуховская м.',\n",
              " 'Улица Академика Янгеля м.',\n",
              " 'Крылатское м.',\n",
              " 'Первомайская м.',\n",
              " 'Измайловская м.',\n",
              " 'Мичуринский проспект м.',\n",
              " 'Бульвар Дмитрия Донского м.',\n",
              " 'Коптево м. (МЦК)',\n",
              " 'Ростокино м. (МЦК)',\n",
              " 'Саларьево м.',\n",
              " 'Октябрьское поле м.',\n",
              " 'Фрунзенская м.',\n",
              " 'Спортивная м.',\n",
              " 'Царицыно м.',\n",
              " 'Арбатская м.',\n",
              " 'Юго-Западная м.',\n",
              " 'Белокаменная м. (МЦК)',\n",
              " 'Молодежная м.',\n",
              " 'Медведково м.',\n",
              " 'Кунцевская м.',\n",
              " 'Авиамоторная м.',\n",
              " 'Тимирязевская м.',\n",
              " 'Столбово м.',\n",
              " 'Селигерская м.',\n",
              " 'Коньково м.',\n",
              " 'Бунинская аллея м.',\n",
              " 'Теплый стан м.',\n",
              " 'Ломоносовский проспект м.',\n",
              " 'Люблино м.',\n",
              " 'Электрозаводская м.',\n",
              " 'Перово м.',\n",
              " 'Бауманская м.',\n",
              " 'Автозаводская м.',\n",
              " 'Прокшино м.',\n",
              " 'Севастопольская м.',\n",
              " 'Новые Черемушки м.',\n",
              " 'Сходненская м.',\n",
              " 'Братиславская м.',\n",
              " 'Аннино м.',\n",
              " 'Ховрино м.',\n",
              " 'Преображенская площадь м.',\n",
              " 'Новокосино м.',\n",
              " 'Новопеределкино м.',\n",
              " 'Спартак м.',\n",
              " 'Беломорская м.',\n",
              " 'Тропарево м.',\n",
              " 'Академическая м.',\n",
              " 'Строгино м.',\n",
              " 'Выхино м.',\n",
              " 'Тульская м.',\n",
              " 'Говорово м.',\n",
              " 'Текстильщики м.',\n",
              " 'ЗИЛ м. (МЦК)',\n",
              " 'Домодедовская м.',\n",
              " 'Коломенская м.',\n",
              " 'Борисово м.',\n",
              " 'Волжская м.',\n",
              " 'Улица Скобелевская м.',\n",
              " 'Улица 1905 года м.',\n",
              " 'Андроновка м. (МЦК)',\n",
              " 'Нижегородская м. (МЦК)',\n",
              " 'Рассказовка м.',\n",
              " 'Отрадное м.',\n",
              " 'Окружная м.',\n",
              " 'Рязанский проспект м.',\n",
              " 'Свиблово м.',\n",
              " 'Солнцево м.',\n",
              " 'Сокол м.',\n",
              " 'Крымская м. (МЦК)',\n",
              " 'Выставочная м.',\n",
              " 'Румянцево м.',\n",
              " 'Ясенево м.',\n",
              " 'Смоленская м.',\n",
              " 'Новохохловская м. (МЦК)',\n",
              " 'Боровское шоссе м.',\n",
              " 'Шипиловская м.',\n",
              " 'Аэропорт м.',\n",
              " 'Щелковская м.',\n",
              " 'ВДНХ м.',\n",
              " 'Южная м.',\n",
              " 'Профсоюзная м.',\n",
              " 'Волгоградский проспект м.',\n",
              " 'Лесопарковая м.',\n",
              " 'Кропоткинская м.',\n",
              " 'Окская улица м.',\n",
              " 'Пролетарская м.',\n",
              " 'Стахановская м.',\n",
              " 'Озерная м.',\n",
              " 'Ольховая м.',\n",
              " 'Филатов луг м.',\n",
              " 'Новогиреево м.',\n",
              " 'Петровско-Разумовская м.',\n",
              " 'Некрасовка м.',\n",
              " 'Калужская м.',\n",
              " 'Площадь Гагарина м. (МЦК)',\n",
              " 'Лухмановская м.',\n",
              " 'Белорусская м.',\n",
              " 'Кантемировская м.',\n",
              " 'Бульвар Рокоссовского м. (МЦК)',\n",
              " 'Улица Горчакова м.',\n",
              " 'Красносельская м.',\n",
              " 'Бибирево м.',\n",
              " 'Фили м.',\n",
              " 'Владыкино м.',\n",
              " 'Алексеевская м.',\n",
              " 'Волоколамская м.',\n",
              " 'Новослободская м.',\n",
              " 'Угрешская м. (МЦК)',\n",
              " 'Курская м.',\n",
              " 'Лихоборы м. (МЦК)',\n",
              " 'Кузьминки м.',\n",
              " 'ЦСКА м.',\n",
              " 'Лермонтовский проспект м.',\n",
              " 'Алтуфьево м.',\n",
              " 'Динамо м.',\n",
              " 'Краснопресненская м.',\n",
              " 'Дмитровская м.',\n",
              " 'Соколиная Гора м. (МЦК)',\n",
              " 'Шоссе Энтузиастов м.',\n",
              " 'Семеновская м.',\n",
              " 'Чистые пруды м.',\n",
              " 'Красные ворота м.',\n",
              " 'Нахимовский проспект м.',\n",
              " 'Орехово м.',\n",
              " 'Технопарк м.',\n",
              " 'Бутырская м.',\n",
              " 'Студенческая м.',\n",
              " 'Щукинская м.',\n",
              " 'Жулебино м.',\n",
              " 'Чкаловская м.',\n",
              " 'Фонвизинская м.',\n",
              " 'Новоясеневская м.',\n",
              " 'Улица Старокачаловская м.',\n",
              " 'Речной вокзал м.',\n",
              " 'Митино м.',\n",
              " 'Юго-Восточная м.',\n",
              " 'Сокольники м.',\n",
              " 'Петровский парк м.',\n",
              " 'Пражская м.',\n",
              " 'Университет м.',\n",
              " 'Панфиловская м. (МЦК)',\n",
              " 'Автозаводская м. (МЦК)',\n",
              " 'Войковская м.',\n",
              " 'Беляево м.',\n",
              " 'Киевская м.',\n",
              " 'Черкизовская м.',\n",
              " 'Стрешнево м. (МЦК)',\n",
              " 'Тушинская м.',\n",
              " 'Тверская м.',\n",
              " 'Варшавская м.',\n",
              " 'Таганская м.',\n",
              " 'Китай-Город м.',\n",
              " 'Римская м.',\n",
              " 'Балтийская м. (МЦК)',\n",
              " 'Чертановская м.',\n",
              " 'Каховская м.',\n",
              " 'Бульвар Адмирала Ушакова м.',\n",
              " 'Полежаевская м.',\n",
              " 'Беговая м.',\n",
              " 'Дубровка м. (МЦК)',\n",
              " 'Парк культуры м.',\n",
              " 'Новокузнецкая м.',\n",
              " 'Парк Победы м.',\n",
              " 'Воробьевы Горы м.',\n",
              " 'Водный стадион м.',\n",
              " 'Победа станция',\n",
              " 'Достоевская м.',\n",
              " 'Кожуховская м.',\n",
              " 'Савеловская м.',\n",
              " 'Марксистская м.',\n",
              " 'Окружная м. (МЦК)',\n",
              " 'Алма-Атинская м.',\n",
              " nan,\n",
              " 'Зорге м. (МЦК)',\n",
              " 'Менделеевская м.',\n",
              " 'Хорошевское м.',\n",
              " 'Нагорная м.',\n",
              " 'Крекшино станция',\n",
              " 'Крестьянская Застава м.',\n",
              " 'Комсомольская м.',\n",
              " 'Партизанская м.',\n",
              " 'Локомотив м. (МЦК)',\n",
              " 'Октябрьская м.',\n",
              " 'Савеловская метро',\n",
              " 'Дубровка м.',\n",
              " 'Измайлово м. (МЦК)',\n",
              " 'Мичуринец станция',\n",
              " 'Верхние Лихоборы м.',\n",
              " 'Каширская м.',\n",
              " 'Пушкинская м.',\n",
              " 'Филевский парк м.',\n",
              " 'Павелецкая м.',\n",
              " 'Кутузовская м.',\n",
              " 'Минская м.',\n",
              " 'Баррикадная м.',\n",
              " 'Библиотека им.Ленина м.',\n",
              " 'Зябликово м.',\n",
              " 'Аэропорт Внуково станция',\n",
              " 'Пионерская м.',\n",
              " 'Котельники м.',\n",
              " 'Деловой центр м.',\n",
              " 'Рассудово станция',\n",
              " 'Ленинский проспект м.',\n",
              " 'Рижская м.',\n",
              " 'Шелепиха м. (МЦК)',\n",
              " 'Сухаревская м.',\n",
              " 'Сретенский бульвар м.',\n",
              " 'Цветной бульвар м.',\n",
              " 'Трубная м.',\n",
              " 'Нагатинская м.',\n",
              " 'Третьяковская м.',\n",
              " 'Дачная станция',\n",
              " 'Проспект Мира м.',\n",
              " 'Охотный ряд м.',\n",
              " 'Боровицкая м.',\n",
              " 'Нижегородская улица м.',\n",
              " 'Международная м.',\n",
              " 'Весенняя станция',\n",
              " 'Багратионовская м.',\n",
              " 'Шоссе Энтузиастов м. (МЦК)',\n",
              " 'Полянка м.',\n",
              " 'Добрынинская м.',\n",
              " 'Лужники м. (МЦК)',\n",
              " 'Ботанический сад м. (МЦК)',\n",
              " 'Тургеневская м.',\n",
              " 'Щербинка станция',\n",
              " 'Бекасово-1 станция',\n",
              " 'Верхние Котлы м. (МЦК)',\n",
              " 'Апрелевка станция',\n",
              " 'Толстопальцево станция',\n",
              " 'Аэропорт (старая) станция',\n",
              " 'Силикатная станция',\n",
              " 'Лубянка м.',\n",
              " 'Кокошкино станция',\n",
              " 'Гривно станция',\n",
              " 'Косино м.',\n",
              " 'Подольск станция',\n",
              " 'Мякинино м.',\n",
              " 'Львовская станция',\n",
              " 'Внуково станция',\n",
              " 'Александровский Сад м.',\n",
              " 'Театральная м.',\n",
              " 'Кутузовская м. (МЦК)',\n",
              " 'Коммунарка м.',\n",
              " 'Битцевский парк м.',\n",
              " 'Колхозная станция',\n",
              " 'Чеховская м.',\n",
              " 'Алабушево станция',\n",
              " 'Площадь Революции м.',\n",
              " 'Кузнецкий мост м.']"
            ]
          },
          "metadata": {
            "tags": []
          },
          "execution_count": 177
        }
      ]
    },
    {
      "cell_type": "code",
      "metadata": {
        "id": "9amC98nGsAvt"
      },
      "source": [
        "# Задание №1 - Загрузить xTrain на числовых данных"
      ],
      "execution_count": null,
      "outputs": []
    },
    {
      "cell_type": "code",
      "metadata": {
        "id": "XRJFML_NtdPr"
      },
      "source": [
        "def getRoomsCount(d, maxRoomCount): # функция количества комнат\n",
        "    roomsCountStr = d[0]            # d[0] строкa с числом комнат\"Комнат\"\n",
        "\n",
        "    roomsCount = 0\n",
        "    try:\n",
        "        roomsCount = int(roomsCountStr)       # строка в число\n",
        "        if roomsCount > maxRoomCount: \n",
        "          roomsCount = maxRoomCount           # Если число комнат больше максимального, то присваиваем максимальное\n",
        "    except:                                   # Если не получается превратить строку в число\n",
        "        if roomsCountStr == roomsCountStr:    # Проверяем строку на nan (сравнение с самим собой)\n",
        "          if (\"Ст\" in roomsCountStr):         # Еcть строка = \"Ст\", значит это Студия\n",
        "            roomsCount = maxRoomCount + 1\n",
        "\n",
        "    return roomsCount\n",
        "\n",
        "def getRoomsCountCategory(d, maxRoomCount):                        # функция число комнат в категорию\n",
        "    roomsCount = getRoomsCount(d, maxRoomCount)                    # число комнат\n",
        "    roomsCount = utils.to_categorical(roomsCount, maxRoomCount+2)  # в категорию\n",
        "    #maxRoomCount+2 потому что 0 зарезервирован на неопознаное число комнат, а maxRoomCount+1 на \"Студию\"\n",
        "    return roomsCount"
      ],
      "execution_count": 178,
      "outputs": []
    },
    {
      "cell_type": "code",
      "metadata": {
        "id": "kHtULREXrpwQ"
      },
      "source": [
        "def getMetro(d, allMetroNames):            # функция индекса станции метро\n",
        "    metroStr = d[1]                        # d[1] получаю строку метро\n",
        "    metro = 0\n",
        "    \n",
        "    if metroStr in allMetroNames:  \n",
        "      metro = allMetroNames.index(metroStr)+1   # присваиваю индекс\n",
        "\n",
        "      #+1 так как 0 зарезервирован на неопознанное метро   \n",
        "    return metro"
      ],
      "execution_count": 179,
      "outputs": []
    },
    {
      "cell_type": "code",
      "metadata": {
        "id": "r3iRdbqCtdWS"
      },
      "source": [
        "def getMetroDistance(d):        # функция растояние до метро\n",
        "    metroDistanceStr = d[2]     # d[2] получаю строку с данными расстояния  до станции метро\"От станции\"\n",
        "    \n",
        "    metroDistance = 0\n",
        "    metroDistanceType = 0       # тип расстояния - пешком или на транспорте\n",
        "    \n",
        "    #ЕСли строка не равна nan  \n",
        "    if metroDistanceStr == metroDistanceStr:\n",
        "      if len(metroDistanceStr) > 0:\n",
        "        #Определяем тип расстояния\n",
        "        if metroDistanceStr[-1] == \"п\":\n",
        "            metroDistanceType = 1 #Пешком\n",
        "        elif metroDistanceStr[-1] == \"т\":\n",
        "            metroDistanceType = 2 #На транспорте\n",
        "\n",
        "        #Выбрасываем последний символ, чтобы осталось только число\n",
        "        metroDistanceStr = metroDistanceStr[:-1]\n",
        "        try:\n",
        "          #Разделяем дистанции на категории\n",
        "          metroDistance = int(metroDistanceStr)\n",
        "          if metroDistance < 3:\n",
        "              metroDistance = 1\n",
        "          elif metroDistance < 6:\n",
        "              metroDistance = 2\n",
        "          elif metroDistance < 10:\n",
        "              metroDistance = 3\n",
        "          elif metroDistance < 15:\n",
        "              metroDistance = 4\n",
        "          elif metroDistance < 20:\n",
        "              metroDistance = 5\n",
        "          else:\n",
        "              metroDistance = 6\n",
        "        except: #Если в строке не число, то категория 0\n",
        "            metroDistance = 0\n",
        "    \n",
        "    #Число классов дистанции\n",
        "    metroDistanceClasses = 7\n",
        "    \n",
        "    # 7 категорий дистанции по расстоянию\n",
        "    # 3 типа дистанции - неопознанный, пешком и транспортом\n",
        "    # создадим вектор длины 3*7 = 21\n",
        "    # будем преобразовывать индекс расстояния 0-6 в 0-20\n",
        "    # для типа \"Пешком\" - ничего не меняем\n",
        "    if metroDistanceType == 2:\n",
        "        metroDistance += metroDistanceClasses   # Для типа \"Транспортом\" добавляем 7\n",
        "    if metroDistanceType == 0:\n",
        "        metroDistance += 2*metroDistanceClasses # Для неопознанного типа добавляем 14\n",
        "      \n",
        "    #Превращаем в категории\n",
        "    metroDistance = utils.to_categorical(metroDistance, 3*metroDistanceClasses)\n",
        "    return metroDistance"
      ],
      "execution_count": 180,
      "outputs": []
    },
    {
      "cell_type": "code",
      "metadata": {
        "id": "ym5aadBotdic"
      },
      "source": [
        "#Получаем 4 данных\n",
        "#- этаж квартиры\n",
        "#- этажность дома\n",
        "#- индикатор, что последний этаж\n",
        "#- тип дома\n",
        "def getHouseTypeAndFloor(d):     # функция типа дома и этаж квартиры\n",
        "    try:\n",
        "      houseStr = d[3]            # d[3] получаю строку типа дома и этажей\"Дом\"\n",
        "    except:\n",
        "      houseStr = \"\"\n",
        "    \n",
        "    houseType = 0    # Тип дома\n",
        "    floor = 0        # Этаж квартиры\n",
        "    floors = 0       # Этажность дома\n",
        "    isLastFloor = 0  # Индикатор последнего этажа\n",
        "    \n",
        "    #Проверяем строку на nan\n",
        "    if houseStr == houseStr:\n",
        "      if len(houseStr) > 1:\n",
        "      \n",
        "        try:\n",
        "          slashIndex = houseStr.index(\"/\") #Ищем разделитель /\n",
        "        except:\n",
        "          print(houseStr)\n",
        "\n",
        "        try:\n",
        "          spaceIndex = houseStr.index(\" \") #Ищем разделитель \" \"\n",
        "        except:\n",
        "          print(houseStr)\n",
        "\n",
        "        #Вытаскиваем строки\n",
        "        floorStr = houseStr[:slashIndex]               # Строка этажа\n",
        "        floorsStr = houseStr[slashIndex+1:spaceIndex]  # Строка этажнгости дома\n",
        "        houseTypeStr = houseStr[spaceIndex+1:]         # Строка типа дома\n",
        "\n",
        "        #Выбираем категорию этажа\n",
        "        try:\n",
        "          floor = int(floorStr)    #Превращаем строку в число\n",
        "          floorSave = floor\n",
        "          if floorSave < 5:\n",
        "            floor = 2 \n",
        "          if florSave < 10:\n",
        "            floor = 3\n",
        "          if floorSave < 20:\n",
        "            floor = 4\n",
        "          if floorSave >= 20:\n",
        "            floor = 5\n",
        "          if floorSave == 1:     #Первый этаж выделяем в отдельную категорию\n",
        "            floor = 1 \n",
        "\n",
        "          if floor == floors:    #Если этаж последний, включаем индикатор последнего этажа\n",
        "            isLastFloor = 1 \n",
        "        except:\n",
        "          floor = 0                #Если строка не парсится в число, то категория этажа = 0 (отдельная)\n",
        "\n",
        "        #Выбираем категорию этажности дома\n",
        "        try:\n",
        "          floors = int(floorsStr)  #Превращаем строку в число\n",
        "          floorsSave = floors\n",
        "          if floorsSave < 5:\n",
        "            floors = 1\n",
        "          if floorsSave < 10:\n",
        "            floors = 2\n",
        "          if floorsSave < 20:\n",
        "            floors = 3\n",
        "          if floorsSave >= 20:\n",
        "            floors = 4\n",
        "        except:\n",
        "          floors = 0               #Если строка не парсится в число, то категория этажности = 0 (отдельная)\n",
        "\n",
        "        #Определяем категорию типа дома\n",
        "        if len(houseTypeStr) > 0:\n",
        "          if \"М\" in houseTypeStr: \n",
        "            houseType = 1\n",
        "          if \"К\" in houseTypeStr: \n",
        "            houseType = 2\n",
        "          if \"П\" in houseTypeStr: \n",
        "            houseType = 3\n",
        "          if \"Б\" in houseTypeStr: \n",
        "            houseType = 4\n",
        "          if \"?\" in houseTypeStr: \n",
        "            houseType = 5\n",
        "          if \"-\" in houseTypeStr: \n",
        "            houseType = 6\n",
        "      \n",
        "      #Превращаем все категории в one hot encoding\n",
        "      floor = utils.to_categorical(floor, 6)\n",
        "      floors = utils.to_categorical(floors, 5)\n",
        "      houseType = utils.to_categorical(houseType, 7)\n",
        "      \n",
        "      \n",
        "    return floor, floors, isLastFloor, houseType"
      ],
      "execution_count": 181,
      "outputs": []
    },
    {
      "cell_type": "code",
      "metadata": {
        "id": "7soGg6TfvQoh"
      },
      "source": [
        "def getArea(d):       # функция площади квартиры\n",
        "    areaStr = d[6]    # d[6] получаю строку площади\"Площадь\"\n",
        "    \n",
        "    if (\"/\" in areaStr):\n",
        "        slashIndex = areaStr.index(\"/\")         # нахожу разделитель /\n",
        "        try:\n",
        "            area = int(areaStr[:slashIndex])  # беру число до разделителя и преобразуем в число\n",
        "        except:\n",
        "            area = 0                            # если не получается, возвращю 0\n",
        "    else:\n",
        "        area = 0                                # или если нет разделителя, возвращю 0\n",
        "      \n",
        "    return area"
      ],
      "execution_count": 182,
      "outputs": []
    },
    {
      "cell_type": "code",
      "metadata": {
        "id": "JnBdTlaqvQwX"
      },
      "source": [
        "def getCost(d):     # функция цены\n",
        "    costStr = d[7]  # d[7]загружаю строку с ценой квартиры\"Цена,руб\"\n",
        "    \n",
        "    try:\n",
        "        cost = int(costStr)  #Пробуем превратить в число\n",
        "    except:\n",
        "        cost = 0               #Если не получается, возвращаем 0\n",
        "    \n",
        "    return cost\n"
      ],
      "execution_count": 183,
      "outputs": []
    },
    {
      "cell_type": "code",
      "metadata": {
        "id": "Qp0N8MfevoPP"
      },
      "source": [
        "# Задание №2. Загрузить xTrainС из \"Примечаний\" (тексты)"
      ],
      "execution_count": null,
      "outputs": []
    },
    {
      "cell_type": "code",
      "metadata": {
        "id": "idTyWa08tdp4"
      },
      "source": [
        "def getComment(d):       # функция обработки примечаний\n",
        "    commentStr = d[-1]   # d[13] данные из последней колонки \"Примечания\"\n",
        "    \n",
        "    return commentStr"
      ],
      "execution_count": 184,
      "outputs": []
    },
    {
      "cell_type": "code",
      "metadata": {
        "id": "gcwScsxntdv_"
      },
      "source": [
        "def getAllParameters(d, allMetroNames):    # функция объединения всех параметров без цены  и примечаний\n",
        "    \n",
        "    roomsCountType = getRoomsCountCategory(d, 30)\n",
        "    metro = getMetro(d, allMetroNames)\n",
        "    metroDistance = getMetroDistance(d)\n",
        "    floor, floors, isLastFloor, houseType = getHouseTypeAndFloor(d)\n",
        "    area = getArea(d)\n",
        "\n",
        "  \n",
        "    out = list(roomsCountType)\n",
        "    out.append(metro)\n",
        "    out.extend(metroDistance)\n",
        "    out.extend(floor)\n",
        "    out.extend(floors)\n",
        "    out.append(isLastFloor)\n",
        "    out.extend(houseType)\n",
        "    out.append(area)\n",
        "    \n",
        "    return out"
      ],
      "execution_count": 185,
      "outputs": []
    },
    {
      "cell_type": "code",
      "metadata": {
        "id": "so7SRLentd2G"
      },
      "source": [
        "def getXTrain(data):    # функция обучающей выборки - xTrain\n",
        "  \n",
        "    #Получаем строку во всеми вариантами метро\n",
        "    allMertroNames = list(df[\"Метро / ЖД станции\"].unique())\n",
        "    \n",
        "    #Возвращаем все строки в data1 в векторы параметров и записываем в xTrain\n",
        "    xTrain = [getAllParameters(d, allMertroNames) for d in data]\n",
        "    xTrain = np.array(xTrain)\n",
        "    \n",
        "    return xTrain "
      ],
      "execution_count": 186,
      "outputs": []
    },
    {
      "cell_type": "code",
      "metadata": {
        "id": "XlQ103t6td8S"
      },
      "source": [
        "def getYTrain(data):     # функция ответов обучающей выборки - yTrain\n",
        "  \n",
        "    #Загружаем лист всех цен квартир по всем строкам data1\n",
        "    costList = [getCost(d) for d in data] \n",
        "    yTrain = np.array(costList)\n",
        "    \n",
        "    return yTrain"
      ],
      "execution_count": 187,
      "outputs": []
    },
    {
      "cell_type": "code",
      "metadata": {
        "colab": {
          "base_uri": "https://localhost:8080/",
          "height": 0
        },
        "id": "JzGncU7gteCV",
        "outputId": "d4083fb3-df78-4270-bae7-6cf3f9e34127"
      },
      "source": [
        "oneRoomMask = [getRoomsCount(d, 30) == 1 for d in data]    # маска однокомнатных квартир\n",
        "data1 = data[oneRoomMask]                                  # data1 однокомнатные квартиры\n",
        "print(\"всего записей:\", data.shape)\n",
        "print(\"из них 1о комнатных:\", data1.shape)"
      ],
      "execution_count": 188,
      "outputs": [
        {
          "output_type": "stream",
          "text": [
            "всего записей: (126268, 14)\n",
            "из них 1о комнатных: (62504, 14)\n"
          ],
          "name": "stdout"
        }
      ]
    },
    {
      "cell_type": "code",
      "metadata": {
        "colab": {
          "base_uri": "https://localhost:8080/",
          "height": 0
        },
        "id": "y1oTtKw64_xh",
        "outputId": "f68219a2-aa36-43f5-d09e-569ae3ad81f2"
      },
      "source": [
        "xTrain = getXTrain(data1)     # выборки\n",
        "yTrain = getYTrain(data1)\n",
        "print(xTrain.shape)"
      ],
      "execution_count": 189,
      "outputs": [
        {
          "output_type": "stream",
          "text": [
            "(62504, 74)\n"
          ],
          "name": "stdout"
        }
      ]
    },
    {
      "cell_type": "code",
      "metadata": {
        "id": "lV6MhDdV4_6G"
      },
      "source": [
        "def text2Words(text):\n",
        "\n",
        "  text = text.replace(\".\", \"\")  # удаляем лишние символы\n",
        "  text = text.replace(\"—\", \"\")\n",
        "  text = text.replace(\",\", \"\")\n",
        "  text = text.replace(\"!\", \"\")\n",
        "  text = text.replace(\"?\", \"\")\n",
        "  text = text.replace(\"…\", \"\")\n",
        "  text = text.lower()           #Переводим в нижний регистр\n",
        "  \n",
        "  \n",
        "  words = []                    #Тут будут все слова\n",
        "  currWord = \"\"                 #Тут будет накапливаться текущее слово, между двумя пробелами\n",
        "  \n",
        "  for symbol in text:\n",
        "    \n",
        "    if (symbol != \"\\ufeff\"):    #Игнорируем системынй символ в начале строки\n",
        "      if (symbol != \" \"):       #Если символ не пробел\n",
        "        currWord += symbol      #То добавляем вимвол в текущее слово\n",
        "      else:                     #Если символ пробел\n",
        "        if (currWord != \"\"): \n",
        "          words.append(currWord) #Добавляем тккущее слово в список слов\n",
        "          currWord = \"\"          #И обнуляем текущее слово\n",
        "\n",
        "  #Добавляем финальное слово, если оно не пустое\n",
        "\n",
        "  if (currWord != \"\"):\n",
        "        words.append(currWord)\n",
        "  \n",
        "  return words\n",
        "\n",
        "def createVocabulary(allWords):   # функция создания  словаря - все слова, упорядоченные по частоте появления\n",
        "  \n",
        " \n",
        "  wCount = dict.fromkeys(allWords, 0)\n",
        "\n",
        "  for word in allWords:\n",
        "    wCount[word] += 1     #И увеличиаем количество появлений текущего слова на 1\n",
        "\n",
        "  \n",
        "  wordsList = list(wCount.items())\n",
        "  #И сортируем по частоте появ\n",
        "  wordsList.sort(key = lambda i:i[1], reverse=1)  # сортируем по частоте появления\n",
        "  #key = lambda i:i[1] - говорит, что сортировать надо по частоте появления\n",
        "  #В i[0] у нас слово, в i[1] - частота появления\n",
        "  #reverse=1 говорить сортироваться по убыванию\n",
        "\n",
        "  sortedWords = []                               # словарь всех отсортированных слов\n",
        "\n",
        "  for word in wordsList:\n",
        "    sortedWords.append(word[0])                  # вносим слово в лист отсортированных слов\n",
        "\n",
        "  wordIndexes = dict.fromkeys(allWords, 0)       # это словарь слово - индекс\n",
        "\n",
        "  for word in wordIndexes.keys():\n",
        "    wordIndexes[word] = sortedWords.index(word)+1   #Ставим индекс = индекс слова в отсортированном листе слов + 1\n",
        "                                                    #+1 потому, что индекс 0 резервируем под неопознанные слова\n",
        "\n",
        "  return wordIndexes\n",
        "\n",
        "\n",
        "def words2Indexes(words, vocabulary, maxWordsCount): # функция реобразования листа слов в лист индексов\n",
        "  wordsIndexes = []\n",
        "  \n",
        "  \n",
        "  for word in words:\n",
        "    \n",
        "    wordIndex = 0                                  #Тут будет индекс слова, изначально 0 - слово неопознано\n",
        "    wordInVocabulary = word in vocabulary          #Проверяем, есть ли слово в словаре\n",
        "    \n",
        "    if (wordInVocabulary):\n",
        "      index = vocabulary[word]                     #Индекс = индексу слова в словаре\n",
        "      if (index < maxWordsCount):                  #Если индекс ниже maxWordsCount - черты отсечения слов\n",
        "        wordIndex = index                          #То записываем индекс\n",
        "        \n",
        "    wordsIndexes.append(wordIndex)\n",
        "    \n",
        "  return wordsIndexes\n",
        "\n",
        "def changeXTo01(trainVector, wordsCount): # функция преобразование одного короткого вектора в вектор из 0 и 1(bag of words)\n",
        "\n",
        "  out = np.zeros(wordsCount)              # вектор из нолей\n",
        "  \n",
        "\n",
        "  for x in trainVector:\n",
        "    out[x] = 1                           #В позицию нужного индекса ставим 1\n",
        "    \n",
        "  return out\n",
        "\n",
        "\n",
        "def changeSetTo01(trainSet, wordsCount):   # функция преобразование выборки (обучающей или проверочной) к виду 0 и 1(bag of words)\n",
        "  out = []\n",
        "  \n",
        "  \n",
        "  for x in trainSet:\n",
        "    out.append(changeXTo01(x, wordsCount))  # Добавляем в итоговый набор текущий вектор, преобразованный в bag of words\n",
        "    \n",
        "  return np.array(out)\n",
        "\n",
        "\n",
        "def getXTrainComments(data):    # функция обучающей выборки из примечаний к квартирам(в виде слов)\n",
        "    xTrainComments = []         #Тут будет обучающся выборка\n",
        "    allTextComments = \"\"        #Тут будуте все тексты вместе для словаря\n",
        "    \n",
        "    for d in data:\n",
        "      currText = getComment(d)  #Вытаскиваем примечание к квартире\n",
        "      try: \n",
        "        if (currText == currText):          #Проверяем на nan\n",
        "          allTextComments += currText + \" \" #Добавляем текст в общий текст для словаря\n",
        "      except:\n",
        "        currText = \"Нет комментария\"        #Если не получается, то делаем стандартный текст \"Нет комментария\"\n",
        "      xTrainComments.append(currText)       #Добавляем примечание новой строкой в обучающую выборку\n",
        "    \n",
        "    xTrainComments = np.array(xTrainComments)\n",
        "    \n",
        "    return (xTrainComments, allTextComments)\n",
        "\n",
        "\n",
        "def changeSetToIndexes(xTrainComments, vocabulary, maxWordsCount):  # функция обучающей выборки из примечаний к квартирам(в виде индексов)\n",
        "    xTrainCommentsIndexes = []                                      # Тут будет итоговый xTrain примечаний в виде индексов\n",
        "    \n",
        "    for text in xTrainComments:\n",
        "        currWords = text2Words(text)                                              #Разбиваем текст на слова\n",
        "        currIndexes = words2Indexes(currWords, vocabulary, maxWordsCount)         #Превращаем в лист индексов\n",
        "        currIndexes = np.array(currIndexes)\n",
        "        xTrainCommentsIndexes.append(currIndexes)                                 #Добавляем в xTrain\n",
        "    \n",
        "    xTrainCommentsIndexes = np.array(xTrainCommentsIndexes)\n",
        "    xTrainCommentsIndexes = changeSetTo01(xTrainCommentsIndexes, maxWordsCount)   #Превращаем в формат bag of words\n",
        "    return xTrainCommentsIndexes\n",
        "\n",
        "\n",
        "def changeSetToIndexesCrop(xTrainComments, vocabulary, maxWordsCount, cropLen): # функция обучающей выборки из примечаний к квартирам(в виде индексов с приведением к стандартной длине всех векторов - cropLen)\n",
        "    xTrainCommentsIndexes = []                                                   #Тут будет итоговый xTrain примечаний в виде индексов\n",
        "  \n",
        "  #Идём по всем текстам\n",
        "    for text in xTrainComments:\n",
        "        currWords = text2Words(text)                                                #Разбиваем текст на слова\n",
        "        currIndexes = words2Indexes(currWords, vocabulary, maxWordsCount)           #Превращаем в лист индексов\n",
        "        currIndexes = np.array(currIndexes)\n",
        "        xTrainCommentsIndexes.append(currIndexes)                                   #Добавляем в xTrain\n",
        "  \n",
        "    xTrainCommentsIndexes = np.array(xTrainCommentsIndexes)\n",
        "    xTrainCommentsIndexes = pad_sequences(xTrainCommentsIndexes, maxlen=cropLen)  #Приводим все вектора к стандартной длине\n",
        "    return xTrainCommentsIndexes"
      ],
      "execution_count": 190,
      "outputs": []
    },
    {
      "cell_type": "code",
      "metadata": {
        "id": "YEG2zqck5ABU"
      },
      "source": [
        "xTrainC, allTextComments = getXTrainComments(data1)          # обучающая выборка и весь текст для словаря\n",
        "allWords = text2Words(allTextComments)                       # весь текст в слова\n",
        "allWords = allWords[::20]                                    # работаю только с 20% слов (т.к.много)"
      ],
      "execution_count": 191,
      "outputs": []
    },
    {
      "cell_type": "code",
      "metadata": {
        "id": "bYDVHy5VxAhT"
      },
      "source": [
        "# Задание №3 - Создать словарь (работаю с 20% всех слов)"
      ],
      "execution_count": null,
      "outputs": []
    },
    {
      "cell_type": "code",
      "metadata": {
        "id": "V9XymjsyxAzH"
      },
      "source": [
        "vocabulary = createVocabulary(allWords)                     "
      ],
      "execution_count": 192,
      "outputs": []
    },
    {
      "cell_type": "code",
      "metadata": {
        "id": "5zjdoqOZwsEC"
      },
      "source": [
        "# Задание №4 -  Превратить xTrainC в формат bag of words (2000 самых популярных слов)"
      ],
      "execution_count": null,
      "outputs": []
    },
    {
      "cell_type": "code",
      "metadata": {
        "colab": {
          "base_uri": "https://localhost:8080/",
          "height": 0
        },
        "id": "PfbSF58twsYg",
        "outputId": "956c4170-01bd-4afa-b0c5-491b0c25a216"
      },
      "source": [
        "xTrainC01 = changeSetToIndexes(xTrainC, vocabulary, 2000)    # xTrainС01 это Bag of Words на 2000 слов"
      ],
      "execution_count": 193,
      "outputs": [
        {
          "output_type": "stream",
          "text": [
            "/usr/local/lib/python3.6/dist-packages/ipykernel_launcher.py:128: VisibleDeprecationWarning: Creating an ndarray from ragged nested sequences (which is a list-or-tuple of lists-or-tuples-or ndarrays with different lengths or shapes) is deprecated. If you meant to do this, you must specify 'dtype=object' when creating the ndarray\n"
          ],
          "name": "stderr"
        }
      ]
    },
    {
      "cell_type": "code",
      "metadata": {
        "colab": {
          "base_uri": "https://localhost:8080/",
          "height": 0
        },
        "id": "k2-aqu3x5AIO",
        "outputId": "f6777c21-33d9-45b7-a6c0-9bcb66ae8fa8"
      },
      "source": [
        "print(\"обучающая выборка:\", xTrain.shape)\n",
        "print(\"обучающая выборка по Bag of Words:\", xTrainC01.shape)\n",
        "print(yTrain.shape)"
      ],
      "execution_count": 195,
      "outputs": [
        {
          "output_type": "stream",
          "text": [
            "обучающая выборка: (62504, 74)\n",
            "обучающая выборка по Bag of Words: (62504, 2000)\n",
            "(62504,)\n"
          ],
          "name": "stdout"
        }
      ]
    },
    {
      "cell_type": "code",
      "metadata": {
        "colab": {
          "base_uri": "https://localhost:8080/",
          "height": 0
        },
        "id": "qNSuaFNa8TgU",
        "outputId": "67136461-e580-4543-e101-6640d4e0ee96"
      },
      "source": [
        "xTrainC01[1]"
      ],
      "execution_count": 196,
      "outputs": [
        {
          "output_type": "execute_result",
          "data": {
            "text/plain": [
              "array([1., 1., 0., ..., 0., 0., 0.])"
            ]
          },
          "metadata": {
            "tags": []
          },
          "execution_count": 196
        }
      ]
    },
    {
      "cell_type": "code",
      "metadata": {
        "colab": {
          "base_uri": "https://localhost:8080/",
          "height": 52
        },
        "id": "Ht4-WX-aobnG",
        "outputId": "d89cc592-f45e-41f1-8f12-5502dd74c1ae"
      },
      "source": [
        "xTrainC[1]"
      ],
      "execution_count": 197,
      "outputs": [
        {
          "output_type": "execute_result",
          "data": {
            "application/vnd.google.colaboratory.intrinsic+json": {
              "type": "string"
            },
            "text/plain": [
              "'Зеленоград к.1820 однокомнатная квартира общ.38.4/17/9  ( Общая с учетом лоджии 41 кв.м.) Дом расположен рядом со станцией Крюково. 11 эт. 14 эт. дома.  Большая лоджия.  Сан. узел раздельный. Свободная продажа. ПОКАЗ В ЛЮБОЕ ВРЕМЯ КЛЮЧИ НА РУКАХ.'"
            ]
          },
          "metadata": {
            "tags": []
          },
          "execution_count": 197
        }
      ]
    },
    {
      "cell_type": "code",
      "metadata": {
        "id": "bjhsAa9I1YxL"
      },
      "source": [
        "# Задание №5 -  Сделать нормирование данных"
      ],
      "execution_count": null,
      "outputs": []
    },
    {
      "cell_type": "code",
      "metadata": {
        "colab": {
          "base_uri": "https://localhost:8080/",
          "height": 0
        },
        "id": "rsZ7pc_N6BYm",
        "outputId": "2edfa173-d8a9-4cbe-9c80-28bacdd16236"
      },
      "source": [
        "xScaler = StandardScaler()                     # нормировщик нормального распределения\n",
        "xScaler.fit(xTrain[:,-1].reshape(-1, 1))       # обучаю на площадях квартир (последня колонка в xTrain)\n",
        "xTrainScaled = xTrain.copy()\n",
        "xTrainScaled[:,-1] = xScaler.transform(xTrain[:,-1].reshape(-1, 1)).flatten()    # нормирую нормировщиком\n",
        "\n",
        "print(\"размер:\", xTrainScaled.shape)\n",
        "print(\"данные до нормирования площади: \\n\", xTrain[5])\n",
        "print(\"данные после нормирования площади: \\n\", xTrainScaled[5])"
      ],
      "execution_count": 200,
      "outputs": [
        {
          "output_type": "stream",
          "text": [
            "размер: (62504, 74)\n",
            "данные до нормирования площади: \n",
            " [ 0.  1.  0.  0.  0.  0.  0.  0.  0.  0.  0.  0.  0.  0.  0.  0.  0.  0.\n",
            "  0.  0.  0.  0.  0.  0.  0.  0.  0.  0.  0.  0.  0.  0.  1.  0.  0.  0.\n",
            "  0.  0.  1.  0.  0.  0.  0.  0.  0.  0.  0.  0.  0.  0.  0.  0.  0.  0.\n",
            "  1.  0.  0.  0.  0.  0.  0.  0.  0.  0.  1.  0.  0.  0.  1.  0.  0.  0.\n",
            "  0. 44.]\n",
            "данные после нормирования площади: \n",
            " [0.         1.         0.         0.         0.         0.\n",
            " 0.         0.         0.         0.         0.         0.\n",
            " 0.         0.         0.         0.         0.         0.\n",
            " 0.         0.         0.         0.         0.         0.\n",
            " 0.         0.         0.         0.         0.         0.\n",
            " 0.         0.         1.         0.         0.         0.\n",
            " 0.         0.         1.         0.         0.         0.\n",
            " 0.         0.         0.         0.         0.         0.\n",
            " 0.         0.         0.         0.         0.         0.\n",
            " 1.         0.         0.         0.         0.         0.\n",
            " 0.         0.         0.         0.         1.         0.\n",
            " 0.         0.         1.         0.         0.         0.\n",
            " 0.         1.33891959]\n"
          ],
          "name": "stdout"
        }
      ]
    },
    {
      "cell_type": "code",
      "metadata": {
        "colab": {
          "base_uri": "https://localhost:8080/",
          "height": 0
        },
        "id": "hTfCc4Rg6rWg",
        "outputId": "8ad38e61-0627-4196-ff2c-5c4d54ef2660"
      },
      "source": [
        "yScaler = StandardScaler()                                # нормировщик нормального распределения\n",
        "yScaler.fit(yTrain.reshape(-1, 1))                        # обучаю на ценах квартир\n",
        "yTrainScaled = yScaler.transform(yTrain.reshape(-1, 1))   # нормироую цену(выход)\n",
        "\n",
        "print(\"размер:\", yTrainScaled.shape)\n",
        "print(\"цена до нормирования:\", yTrain[2])\n",
        "print(\"цена после нормирования:\", yTrainScaled[2])\n",
        "print(\"цена до нормирования:\", yTrain[12])\n",
        "print(\"цена после нормирования:\", yTrainScaled[12])"
      ],
      "execution_count": 201,
      "outputs": [
        {
          "output_type": "stream",
          "text": [
            "размер: (62504, 1)\n",
            "цена до нормирования: 7990000\n",
            "цена после нормирования: [-0.05886963]\n",
            "цена до нормирования: 8079750\n",
            "цена после нормирования: [-0.05490067]\n"
          ],
          "name": "stdout"
        }
      ]
    },
    {
      "cell_type": "code",
      "metadata": {
        "colab": {
          "base_uri": "https://localhost:8080/",
          "height": 0
        },
        "id": "HPoygxqj6rgU",
        "outputId": "7ff144d9-df28-489e-dd34-b38cba615895"
      },
      "source": [
        "print(\"мин и макс значения до нормирования:\",min(yTrain), max(yTrain))\n",
        "print(\"мин и макс значения после нормирования:\",min(yTrainScaled), max(yTrainScaled))"
      ],
      "execution_count": 202,
      "outputs": [
        {
          "output_type": "stream",
          "text": [
            "мин и макс значения до нормирования: 1500000 3000000015\n",
            "мин и макс значения после нормирования: [-0.3458729] [132.25494456]\n"
          ],
          "name": "stdout"
        }
      ]
    },
    {
      "cell_type": "code",
      "metadata": {
        "id": "NcNyYHaL13HA"
      },
      "source": [
        "# Задание №6 - Написать нейронную сеть"
      ],
      "execution_count": null,
      "outputs": []
    },
    {
      "cell_type": "code",
      "metadata": {
        "id": "0fFCdw0S7F4q"
      },
      "source": [
        "splitVal = 0.2                                                   # 20% выделяю для проверочной выборки\n",
        "valMask = np.random.sample(xTrainScaled.shape[0]) < splitVal     # маска True-False для создания проверочной выборки"
      ],
      "execution_count": 203,
      "outputs": []
    },
    {
      "cell_type": "code",
      "metadata": {
        "id": "-LOYeE5h7GC3"
      },
      "source": [
        "def on_epoch_end(epoch, logs):   # функция callback\n",
        "    pred = model.predict([xTrainScaled[valMask], xTrainC01[valMask]])                          # предсказание сети выход сети на проверочно выборке\n",
        "    predUnscaled = yScaler.inverse_transform(pred).flatten()                                   # преобразую предсказание к изначальным величинам цен квартир \n",
        "    yTrainUnscaled = yScaler.inverse_transform(yTrainScaled[valMask]).flatten()                # преобразую изначальные величины цен квартир yTrain\n",
        "    delta = predUnscaled - yTrainUnscaled                                                      # разность предсказания и реальных цен\n",
        "    absDelta = abs(delta)                                                                      # модуль отклонения\n",
        "    print(\"Эпоха №:\", epoch, \"модуль ошибки:\", round(sum(absDelta) / (1e+6 * len(absDelta)),3))    # усреднёная ошибка в миллионах рублей\n",
        "\n",
        "pltMae = LambdaCallback(on_epoch_end=on_epoch_end)"
      ],
      "execution_count": 205,
      "outputs": []
    },
    {
      "cell_type": "code",
      "metadata": {
        "id": "1HPklGVi6Q_F"
      },
      "source": [
        "input1 = Input((xTrainScaled.shape[1],))\n",
        "input2 = Input((xTrainC01.shape[1],))\n",
        "\n",
        "x1 = Dense(10, activation=\"relu\")(input1) \n",
        "x1 = Dense(100, activation=\"relu\")(input1)\n",
        "x1 = Dropout(0.3)(input1)  \n",
        "x2 = Dense(250, activation=\"relu\")(input2)\n",
        "x2 = Dense(500, activation=\"relu\")(input2)\n",
        "x2 = Dropout(0.3)(input2)\n",
        "\n",
        "x = concatenate([x1, x2])\n",
        "\n",
        "x = Dense(100, activation=\"relu\")(x)\n",
        "x = Dense(10, activation=\"relu\")(x)\n",
        "x = Dense(1, activation=\"linear\")(x)\n",
        "\n",
        "model = Model((input1, input2), x)\n",
        "\n",
        "model.compile(optimizer=Adam(lr=1e-3), loss=\"mse\")"
      ],
      "execution_count": 207,
      "outputs": []
    },
    {
      "cell_type": "code",
      "metadata": {
        "colab": {
          "base_uri": "https://localhost:8080/",
          "height": 0
        },
        "id": "WTTTmBvD7QBJ",
        "outputId": "99975da9-cce8-4d47-876f-37c6e8bb0c29"
      },
      "source": [
        "print(model.summary())"
      ],
      "execution_count": 208,
      "outputs": [
        {
          "output_type": "stream",
          "text": [
            "Model: \"model_4\"\n",
            "__________________________________________________________________________________________________\n",
            "Layer (type)                    Output Shape         Param #     Connected to                     \n",
            "==================================================================================================\n",
            "input_11 (InputLayer)           [(None, 74)]         0                                            \n",
            "__________________________________________________________________________________________________\n",
            "input_12 (InputLayer)           [(None, 2000)]       0                                            \n",
            "__________________________________________________________________________________________________\n",
            "dropout_2 (Dropout)             (None, 74)           0           input_11[0][0]                   \n",
            "__________________________________________________________________________________________________\n",
            "dropout_3 (Dropout)             (None, 2000)         0           input_12[0][0]                   \n",
            "__________________________________________________________________________________________________\n",
            "concatenate_5 (Concatenate)     (None, 2074)         0           dropout_2[0][0]                  \n",
            "                                                                 dropout_3[0][0]                  \n",
            "__________________________________________________________________________________________________\n",
            "dense_28 (Dense)                (None, 100)          207500      concatenate_5[0][0]              \n",
            "__________________________________________________________________________________________________\n",
            "dense_29 (Dense)                (None, 10)           1010        dense_28[0][0]                   \n",
            "__________________________________________________________________________________________________\n",
            "dense_30 (Dense)                (None, 1)            11          dense_29[0][0]                   \n",
            "==================================================================================================\n",
            "Total params: 208,521\n",
            "Trainable params: 208,521\n",
            "Non-trainable params: 0\n",
            "__________________________________________________________________________________________________\n",
            "None\n"
          ],
          "name": "stdout"
        }
      ]
    },
    {
      "cell_type": "code",
      "metadata": {
        "colab": {
          "base_uri": "https://localhost:8080/",
          "height": 0
        },
        "id": "vsvuh5nQ7QLb",
        "outputId": "829090c9-17f3-45dd-a437-1ea6b49bdb47"
      },
      "source": [
        "history = model.fit([xTrainScaled[~valMask], xTrainC01[~valMask]], yTrainScaled[~valMask], epochs=20, \n",
        "                    validation_data=([xTrainScaled[valMask], xTrainC01[valMask]], yTrainScaled[valMask]), verbose=0, callbacks=[pltMae])\n",
        "\n",
        "print(\"________________________________________________________________\")\n",
        "print(\"Меняю шаг обучения на 1e-4\")\n",
        "model.compile(optimizer=Adam(lr=1e-4), loss=\"mse\")\n",
        "\n",
        "history = model.fit([xTrainScaled[~valMask], xTrainC01[~valMask]], yTrainScaled[~valMask], epochs=20, \n",
        "                    validation_data=([xTrainScaled[valMask], xTrainC01[valMask]], yTrainScaled[valMask]), verbose=0,callbacks=[pltMae])\n",
        "\n",
        "print(\"_________________________________________________________________\")\n",
        "print(\"Меняю шаг обучения на 1e-5\")\n",
        "model.compile(optimizer=Adam(lr=1e-5), loss=\"mse\")\n",
        "history = model.fit([xTrainScaled[~valMask], xTrainC01[~valMask]], yTrainScaled[~valMask], epochs=20, \n",
        "                    validation_data=([xTrainScaled[valMask], xTrainC01[valMask]], yTrainScaled[valMask]), verbose=0,callbacks=[pltMae])"
      ],
      "execution_count": 209,
      "outputs": [
        {
          "output_type": "stream",
          "text": [
            "Эпоха №: 0 модуль ошибки: 2.978\n",
            "Эпоха №: 1 модуль ошибки: 2.437\n",
            "Эпоха №: 2 модуль ошибки: 2.065\n",
            "Эпоха №: 3 модуль ошибки: 2.41\n",
            "Эпоха №: 4 модуль ошибки: 2.341\n",
            "Эпоха №: 5 модуль ошибки: 2.256\n",
            "Эпоха №: 6 модуль ошибки: 2.242\n",
            "Эпоха №: 7 модуль ошибки: 2.362\n",
            "Эпоха №: 8 модуль ошибки: 2.121\n",
            "Эпоха №: 9 модуль ошибки: 2.024\n",
            "Эпоха №: 10 модуль ошибки: 1.99\n",
            "Эпоха №: 11 модуль ошибки: 2.022\n",
            "Эпоха №: 12 модуль ошибки: 2.06\n",
            "Эпоха №: 13 модуль ошибки: 2.481\n",
            "Эпоха №: 14 модуль ошибки: 1.963\n",
            "Эпоха №: 15 модуль ошибки: 2.57\n",
            "Эпоха №: 16 модуль ошибки: 2.075\n",
            "Эпоха №: 17 модуль ошибки: 2.023\n",
            "Эпоха №: 18 модуль ошибки: 2.368\n",
            "Эпоха №: 19 модуль ошибки: 1.844\n",
            "________________________________________________________________\n",
            "Меняю шаг обучения на 1e-4\n",
            "Эпоха №: 0 модуль ошибки: 1.682\n",
            "Эпоха №: 1 модуль ошибки: 1.687\n",
            "Эпоха №: 2 модуль ошибки: 1.657\n",
            "Эпоха №: 3 модуль ошибки: 1.676\n",
            "Эпоха №: 4 модуль ошибки: 1.665\n",
            "Эпоха №: 5 модуль ошибки: 1.635\n",
            "Эпоха №: 6 модуль ошибки: 1.757\n",
            "Эпоха №: 7 модуль ошибки: 1.646\n",
            "Эпоха №: 8 модуль ошибки: 1.649\n",
            "Эпоха №: 9 модуль ошибки: 1.672\n",
            "Эпоха №: 10 модуль ошибки: 1.64\n",
            "Эпоха №: 11 модуль ошибки: 1.63\n",
            "Эпоха №: 12 модуль ошибки: 1.69\n",
            "Эпоха №: 13 модуль ошибки: 1.62\n",
            "Эпоха №: 14 модуль ошибки: 1.612\n",
            "Эпоха №: 15 модуль ошибки: 1.713\n",
            "Эпоха №: 16 модуль ошибки: 1.614\n",
            "Эпоха №: 17 модуль ошибки: 1.686\n",
            "Эпоха №: 18 модуль ошибки: 1.578\n",
            "Эпоха №: 19 модуль ошибки: 1.65\n",
            "_________________________________________________________________\n",
            "Меняю шаг обучения на 1e-5\n",
            "Эпоха №: 0 модуль ошибки: 1.625\n",
            "Эпоха №: 1 модуль ошибки: 1.614\n",
            "Эпоха №: 2 модуль ошибки: 1.603\n",
            "Эпоха №: 3 модуль ошибки: 1.601\n",
            "Эпоха №: 4 модуль ошибки: 1.621\n",
            "Эпоха №: 5 модуль ошибки: 1.606\n",
            "Эпоха №: 6 модуль ошибки: 1.604\n",
            "Эпоха №: 7 модуль ошибки: 1.612\n",
            "Эпоха №: 8 модуль ошибки: 1.595\n",
            "Эпоха №: 9 модуль ошибки: 1.611\n",
            "Эпоха №: 10 модуль ошибки: 1.601\n",
            "Эпоха №: 11 модуль ошибки: 1.596\n",
            "Эпоха №: 12 модуль ошибки: 1.584\n",
            "Эпоха №: 13 модуль ошибки: 1.621\n",
            "Эпоха №: 14 модуль ошибки: 1.599\n",
            "Эпоха №: 15 модуль ошибки: 1.594\n",
            "Эпоха №: 16 модуль ошибки: 1.577\n",
            "Эпоха №: 17 модуль ошибки: 1.615\n",
            "Эпоха №: 18 модуль ошибки: 1.594\n",
            "Эпоха №: 19 модуль ошибки: 1.58\n"
          ],
          "name": "stdout"
        }
      ]
    },
    {
      "cell_type": "code",
      "metadata": {
        "colab": {
          "base_uri": "https://localhost:8080/",
          "height": 0
        },
        "id": "xvLXDyQt7QT8",
        "outputId": "fa80ad69-c3e9-49d5-d1f5-5395225f9b15"
      },
      "source": [
        "pred = model.predict([xTrainScaled[valMask], xTrainC01[valMask]])             # предсказание сети на проверочной выборке\n",
        "predUnscaled = yScaler.inverse_transform(pred).flatten()                      # преобразую к изначальным величинам цен квартир\n",
        "yTrainUnscaled = yScaler.inverse_transform(yTrainScaled[valMask]).flatten()   # преобразую yTrain к базовым ценам\n",
        "delta = predUnscaled - yTrainUnscaled                                         # разность предсказания и правильных цен\n",
        "absDelta = abs(delta)                                                         # модуль отклонения\n",
        "print(\"Модуль ошибки:\", round(sum(absDelta) / (1e+6 * len(absDelta)),2), \"млн.руб\")                # усреднённая ошибка"
      ],
      "execution_count": 210,
      "outputs": [
        {
          "output_type": "stream",
          "text": [
            "Модуль ошибки: 1.58 млн.руб\n"
          ],
          "name": "stdout"
        }
      ]
    },
    {
      "cell_type": "code",
      "metadata": {
        "colab": {
          "base_uri": "https://localhost:8080/",
          "height": 279
        },
        "id": "1uiiLxt57QcZ",
        "outputId": "95063d6a-fa0a-4f29-b295-bd7e4d21d7b8"
      },
      "source": [
        "plt.plot(history.history['loss'], \n",
        "         label='Средняя абсолютная ошибка на обучающем наборе')\n",
        "plt.plot(history.history['val_loss'], \n",
        "         label='Средняя абсолютная ошибка на проверочном наборе')\n",
        "plt.xlabel('Эпоха обучения')\n",
        "plt.ylabel('Средняя абсолютная ошибка')\n",
        "plt.legend()\n",
        "plt.show()"
      ],
      "execution_count": 211,
      "outputs": [
        {
          "output_type": "display_data",
          "data": {
            "image/png": "[encoded data removed]",
            "text/plain": [
              "<Figure size 432x288 with 1 Axes>"
            ]
          },
          "metadata": {
            "tags": [],
            "needs_background": "light"
          }
        }
      ]
    }
  ]
}