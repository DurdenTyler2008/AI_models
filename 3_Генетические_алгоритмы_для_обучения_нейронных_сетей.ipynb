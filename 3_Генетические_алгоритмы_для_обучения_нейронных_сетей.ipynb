{
  "nbformat": 4,
  "nbformat_minor": 0,
  "metadata": {
    "colab": {
      "name": "3.Генетические алгоритмы для обучения нейронных сетей",
      "provenance": [],
      "collapsed_sections": [],
      "machine_shape": "hm",
      "include_colab_link": true
    },
    "kernelspec": {
      "name": "python3",
      "display_name": "Python 3"
    },
    "accelerator": "GPU"
  },
  "cells": [
    {
      "cell_type": "markdown",
      "metadata": {
        "id": "view-in-github",
        "colab_type": "text"
      },
      "source": [
        "<a href=\"https://colab.research.google.com/github/DurdenTyler2008/University-of-AI/blob/main/3_%D0%93%D0%B5%D0%BD%D0%B5%D1%82%D0%B8%D1%87%D0%B5%D1%81%D0%BA%D0%B8%D0%B5_%D0%B0%D0%BB%D0%B3%D0%BE%D1%80%D0%B8%D1%82%D0%BC%D1%8B_%D0%B4%D0%BB%D1%8F_%D0%BE%D0%B1%D1%83%D1%87%D0%B5%D0%BD%D0%B8%D1%8F_%D0%BD%D0%B5%D0%B9%D1%80%D0%BE%D0%BD%D0%BD%D1%8B%D1%85_%D1%81%D0%B5%D1%82%D0%B5%D0%B9.ipynb\" target=\"_parent\"><img src=\"https://colab.research.google.com/assets/colab-badge.svg\" alt=\"Open In Colab\"/></a>"
      ]
    },
    {
      "cell_type": "markdown",
      "metadata": {
        "id": "5yYVLIrw4BV4"
      },
      "source": [
        "###Сделайте самостоятельно довольно мощную свёрточную сеть для Cifar10.\n",
        "\n",
        "- Добейтесь, чтобы ГА сделал точность на проверочной заметно выше, чем у вашей сети.\n",
        "\n",
        "- Для скорости можно использовать для обучения первые 1000 картинок и для проверки следующие 200 картинок\n"
      ]
    },
    {
      "cell_type": "markdown",
      "metadata": {
        "id": "yTUCQWbziZ_w"
      },
      "source": [
        "###Загрузка библиотек:"
      ]
    },
    {
      "cell_type": "code",
      "metadata": {
        "id": "o5cUNcyPiZ_7"
      },
      "source": [
        "import pandas as pd\n",
        "import numpy as np\n",
        "import matplotlib.pyplot as plt\n",
        "from tensorflow.keras import utils                                              # Для to_categorical\n",
        "from keras.optimizers import Adam \n",
        "from keras.models import Sequential, Model                                      # Два варианты моделей\n",
        "from keras.layers import concatenate,Reshape, Input,Conv2DTranspose, Lambda, Dense, Dropout, BatchNormalization, Flatten, Conv1D, Conv2D, LSTM, MaxPooling1D, Activation, GlobalMaxPooling1D, UpSampling1D#Стандартные слои\n",
        "from keras.losses import MAE\n",
        "from google.colab import files                                                  # Загрузка файлов\n",
        "from sklearn.preprocessing import StandardScaler, MinMaxScaler                  # Нормировщики\n",
        "from keras.preprocessing.sequence import TimeseriesGenerator                    # Для генерации выборки временных рядов\n",
        "import keras.backend as K\n",
        "import random as random\n",
        "from PIL import Image                                                           # Импортируем одель Image для обработки изображений\n",
        "import time\n",
        "from tensorflow.keras.utils import plot_model\n",
        "from IPython.display import clear_output, Image\n",
        "from keras.datasets import cifar10\n",
        "from keras.layers import Input, Convolution2D, MaxPooling2D, Dense, Dropout, Flatten\n",
        "from keras.utils import np_utils\n",
        "from keras.models import Model\n",
        "from keras.constraints import maxnorm\n",
        "# Статический вывод графики (графики отображаются в той ячейке, в которой используется plt.show())\n",
        "%matplotlib inline"
      ],
      "execution_count": 13,
      "outputs": []
    },
    {
      "cell_type": "code",
      "metadata": {
        "id": "EAIiI8fVhfkT",
        "colab": {
          "base_uri": "https://localhost:8080/"
        },
        "outputId": "19554c0e-3a1c-416d-8e5e-a7fbe7923b26"
      },
      "source": [
        "from google.colab import drive\n",
        "drive.mount('/content/drive')"
      ],
      "execution_count": 14,
      "outputs": [
        {
          "output_type": "stream",
          "text": [
            "Drive already mounted at /content/drive; to attempt to forcibly remount, call drive.mount(\"/content/drive\", force_remount=True).\n"
          ],
          "name": "stdout"
        }
      ]
    },
    {
      "cell_type": "code",
      "metadata": {
        "colab": {
          "base_uri": "https://localhost:8080/"
        },
        "id": "gpNxyDkO-eup",
        "outputId": "e038ddc7-5bda-4a1f-91ee-196885085ab2"
      },
      "source": [
        "cifar10"
      ],
      "execution_count": null,
      "outputs": [
        {
          "output_type": "execute_result",
          "data": {
            "text/plain": [
              "<module 'keras.datasets.cifar10' from '/usr/local/lib/python3.7/dist-packages/keras/datasets/cifar10.py'>"
            ]
          },
          "metadata": {
            "tags": []
          },
          "execution_count": 3
        }
      ]
    },
    {
      "cell_type": "code",
      "metadata": {
        "id": "NrfXz-gL-ezy"
      },
      "source": [
        "(x_train, y_train), (x_test, y_test) = cifar10.load_data()"
      ],
      "execution_count": 15,
      "outputs": []
    },
    {
      "cell_type": "code",
      "metadata": {
        "colab": {
          "base_uri": "https://localhost:8080/"
        },
        "id": "RVDY-Y0j-e3D",
        "outputId": "13202d89-d607-445f-ede3-af4d681a1df6"
      },
      "source": [
        "print(x_train.shape)\n",
        "print(x_test.shape)\n",
        "print(y_train.shape)\n",
        "print(y_test.shape)"
      ],
      "execution_count": null,
      "outputs": [
        {
          "output_type": "stream",
          "text": [
            "(50000, 32, 32, 3)\n",
            "(10000, 32, 32, 3)\n",
            "(50000, 1)\n",
            "(10000, 1)\n"
          ],
          "name": "stdout"
        }
      ]
    },
    {
      "cell_type": "code",
      "metadata": {
        "id": "PHJCTaKz-e5j"
      },
      "source": [
        "x_train_small = x_train[0:1000]\n",
        "x_test_small = x_test[0:200]\n",
        "y_train_small = y_train[0:1000]\n",
        "y_test_small = y_test[0:200]"
      ],
      "execution_count": null,
      "outputs": []
    },
    {
      "cell_type": "code",
      "metadata": {
        "colab": {
          "base_uri": "https://localhost:8080/"
        },
        "id": "9vb9gjid-e7z",
        "outputId": "2b46c025-7664-4e43-ce3e-b523afbac030"
      },
      "source": [
        "print(x_train_small.shape)\n",
        "print(x_test_small.shape)\n",
        "print(y_train_small.shape)\n",
        "print(y_test_small.shape)"
      ],
      "execution_count": null,
      "outputs": [
        {
          "output_type": "stream",
          "text": [
            "(1000, 32, 32, 3)\n",
            "(200, 32, 32, 3)\n",
            "(1000, 1)\n",
            "(200, 1)\n"
          ],
          "name": "stdout"
        }
      ]
    },
    {
      "cell_type": "code",
      "metadata": {
        "id": "rOzBDOa-M9WU"
      },
      "source": [
        "#--------------------------------------------------"
      ],
      "execution_count": null,
      "outputs": []
    },
    {
      "cell_type": "code",
      "metadata": {
        "id": "7QiNQHm6S27x"
      },
      "source": [
        "(X_train, y_train), (X_test, y_test) = cifar10.load_data()"
      ],
      "execution_count": 16,
      "outputs": []
    },
    {
      "cell_type": "code",
      "metadata": {
        "id": "R55wMks2S2_P"
      },
      "source": [
        "X_train = X_train.astype('float32') \n",
        "X_test = X_test.astype('float32') \n",
        "X_train = X_train / 255.0 \n",
        "X_test = X_test / 255.0"
      ],
      "execution_count": 17,
      "outputs": []
    },
    {
      "cell_type": "code",
      "metadata": {
        "id": "emJkoMA3S-5i"
      },
      "source": [
        "y_train = np_utils.to_categorical(y_train) \n",
        "y_test = np_utils.to_categorical(y_test) \n",
        "num_classes = y_test.shape[1]"
      ],
      "execution_count": 18,
      "outputs": []
    },
    {
      "cell_type": "code",
      "metadata": {
        "id": "c1f5KaUvS-8Q"
      },
      "source": [
        "model = Sequential()\n",
        "\n",
        "model.add(Conv2D(32, (3, 3), input_shape=(32,32,3), activation='relu', padding='same')) \n",
        "model.add(Dropout(0.2)) \n",
        "model.add(Conv2D(32, (3, 3), activation='relu', padding='same')) \n",
        "model.add(MaxPooling2D(pool_size=(2, 2))) \n",
        "model.add(Conv2D(64, (3, 3), activation='relu', padding='same')) \n",
        "model.add(Dropout(0.2)) \n",
        "model.add(Conv2D(64, (3, 3), activation='relu', padding='same')) \n",
        "model.add(MaxPooling2D(pool_size=(2, 2))) \n",
        "model.add(Conv2D(128, (3, 3), activation='relu', padding='same')) \n",
        "model.add(Dropout(0.2)) \n",
        "model.add(Conv2D(128, (3, 3), activation='relu', padding='same')) \n",
        "model.add(MaxPooling2D(pool_size=(2, 2))) \n",
        "model.add(Flatten()) \n",
        "model.add(Dropout(0.2)) \n",
        "model.add(Dense(1024, activation='relu')) \n",
        "model.add(Dropout(0.2)) \n",
        "model.add(Dense(512, activation='relu'))\n",
        "model.add(Dropout(0.2)) \n",
        "model.add(Dense(num_classes, activation='softmax'))"
      ],
      "execution_count": null,
      "outputs": []
    },
    {
      "cell_type": "code",
      "metadata": {
        "colab": {
          "base_uri": "https://localhost:8080/"
        },
        "id": "HKx2fVhLS3C8",
        "outputId": "cb78c6aa-1155-473b-8487-d3dd7cc028fa"
      },
      "source": [
        "print(model.summary())"
      ],
      "execution_count": null,
      "outputs": [
        {
          "output_type": "stream",
          "text": [
            "Model: \"sequential_7\"\n",
            "_________________________________________________________________\n",
            "Layer (type)                 Output Shape              Param #   \n",
            "=================================================================\n",
            "conv2d_91 (Conv2D)           (None, 32, 32, 32)        896       \n",
            "_________________________________________________________________\n",
            "dropout_57 (Dropout)         (None, 32, 32, 32)        0         \n",
            "_________________________________________________________________\n",
            "conv2d_92 (Conv2D)           (None, 32, 32, 32)        9248      \n",
            "_________________________________________________________________\n",
            "max_pooling2d_38 (MaxPooling (None, 16, 16, 32)        0         \n",
            "_________________________________________________________________\n",
            "conv2d_93 (Conv2D)           (None, 16, 16, 64)        18496     \n",
            "_________________________________________________________________\n",
            "dropout_58 (Dropout)         (None, 16, 16, 64)        0         \n",
            "_________________________________________________________________\n",
            "conv2d_94 (Conv2D)           (None, 16, 16, 64)        36928     \n",
            "_________________________________________________________________\n",
            "max_pooling2d_39 (MaxPooling (None, 8, 8, 64)          0         \n",
            "_________________________________________________________________\n",
            "conv2d_95 (Conv2D)           (None, 8, 8, 128)         73856     \n",
            "_________________________________________________________________\n",
            "dropout_59 (Dropout)         (None, 8, 8, 128)         0         \n",
            "_________________________________________________________________\n",
            "conv2d_96 (Conv2D)           (None, 8, 8, 128)         147584    \n",
            "_________________________________________________________________\n",
            "max_pooling2d_40 (MaxPooling (None, 4, 4, 128)         0         \n",
            "_________________________________________________________________\n",
            "flatten_13 (Flatten)         (None, 2048)              0         \n",
            "_________________________________________________________________\n",
            "dropout_60 (Dropout)         (None, 2048)              0         \n",
            "_________________________________________________________________\n",
            "dense_18 (Dense)             (None, 1024)              2098176   \n",
            "_________________________________________________________________\n",
            "dropout_61 (Dropout)         (None, 1024)              0         \n",
            "_________________________________________________________________\n",
            "dense_19 (Dense)             (None, 512)               524800    \n",
            "_________________________________________________________________\n",
            "dropout_62 (Dropout)         (None, 512)               0         \n",
            "_________________________________________________________________\n",
            "dense_20 (Dense)             (None, 10)                5130      \n",
            "=================================================================\n",
            "Total params: 2,915,114\n",
            "Trainable params: 2,915,114\n",
            "Non-trainable params: 0\n",
            "_________________________________________________________________\n",
            "None\n"
          ],
          "name": "stdout"
        }
      ]
    },
    {
      "cell_type": "code",
      "metadata": {
        "colab": {
          "base_uri": "https://localhost:8080/",
          "height": 1000
        },
        "id": "RxiERSZ9TDO-",
        "outputId": "787eb4dd-94b8-4fec-dab6-4de2460834fa"
      },
      "source": [
        "plot_model(model)"
      ],
      "execution_count": null,
      "outputs": [
        {
          "output_type": "execute_result",
          "data": {
            "image/png": "[encoded data removed]",
            "text/plain": [
              "<IPython.core.display.Image object>"
            ]
          },
          "metadata": {
            "tags": []
          },
          "execution_count": 67
        }
      ]
    },
    {
      "cell_type": "code",
      "metadata": {
        "id": "uE2d0qw7TDRi"
      },
      "source": [
        "model.compile(loss='categorical_crossentropy', optimizer=\"Adam\", metrics=['accuracy'])"
      ],
      "execution_count": null,
      "outputs": []
    },
    {
      "cell_type": "code",
      "metadata": {
        "colab": {
          "base_uri": "https://localhost:8080/"
        },
        "id": "ua_E1zrbURZE",
        "outputId": "58c98ffe-d7b6-4dfd-eaeb-4618d416b8f5"
      },
      "source": [
        "model.fit(X_train, y_train, validation_data=(X_test, y_test), epochs=30, batch_size=32, verbose=0) \n",
        "\n",
        "scores = model.evaluate(X_test, y_test, verbose=0) \n",
        "print(\"Accuracy: %.2f%%\" % (scores[1]*100))"
      ],
      "execution_count": null,
      "outputs": [
        {
          "output_type": "stream",
          "text": [
            "Accuracy: 77.19%\n"
          ],
          "name": "stdout"
        }
      ]
    },
    {
      "cell_type": "code",
      "metadata": {
        "id": "wx4OylcjURb1"
      },
      "source": [
        ""
      ],
      "execution_count": null,
      "outputs": []
    },
    {
      "cell_type": "code",
      "metadata": {
        "id": "lfHjp0NxURgY"
      },
      "source": [
        ""
      ],
      "execution_count": null,
      "outputs": []
    },
    {
      "cell_type": "code",
      "metadata": {
        "id": "ZfvNXGENS3GG"
      },
      "source": [
        "#-----------------------------------------------------"
      ],
      "execution_count": null,
      "outputs": []
    },
    {
      "cell_type": "markdown",
      "metadata": {
        "id": "dux_mDBFad-k"
      },
      "source": [
        "##**Подбор линейной архитектуры**\n",
        "*Входной слой*\n",
        "\n",
        "0 - делаем ли нормализацию\n",
        "\n",
        "1 - размер первого свёрточного слоя\n",
        "\n",
        "2 - ядро первого свёрточного слоя\n",
        "\n",
        "3 - функция активации первого слоя\n",
        "\n",
        "4 - делаем ли MaxPooling0\n",
        "\n",
        "5 - размер MaxPooling0\n",
        "\n",
        "*Определяем кол-во сверточных слоев*\n",
        "\n",
        "6 - Делаем ли сверточные слои\n",
        "\n",
        "7 - размер сверточного слоя\n",
        "\n",
        "8 - ядро сверточного слоя\n",
        "\n",
        "9 - делаем ли MaxPooling\n",
        "\n",
        "10 - размер MaxPooling\n",
        "\n",
        "11- делаем ли Dropout\n",
        "\n",
        "12 - размер Dropout\n",
        "\n",
        "13 - функция активации для сверточных слоев\n",
        "\n",
        "14 - функция активации предпоследнего слоя\n",
        "\n",
        "15 - функция активации выходного слоя\n",
        "\n",
        "*Предпоследний скрытый слой*\n",
        "\n",
        "16 - делаем ли финальную нормализацию\n",
        "\n",
        "17 - размер предпоследнего полносвязного слоя"
      ]
    },
    {
      "cell_type": "code",
      "metadata": {
        "id": "QOKtYFriKzYY"
      },
      "source": [
        "def createConvNet(net):\n",
        "\n",
        "    model = Sequential()             # Создаем моель Sequential\n",
        "    \n",
        "    makeFirstNormalization = net[0]  # Делаем ли нормализацию в начале\n",
        "    firstConvSize = 2 ** net[1]      # Размер первого свёрточного слоя\n",
        "    firstConvKernel = net[2]         # Ядро первого свёрточного слоя\n",
        "    activation0 = net[3]             # Функция активации входного слоя\n",
        "    makeMaxPooling0 = net[4]         # Делаем ли maxpooling для нулевого слоя\n",
        "    maxPoolingSize0 = net[5]         # Размер MaxPooling\n",
        "\n",
        "    makeNumberConv = net[6]          # определяем кол-во сверточных слоев\n",
        "    ConvSize = 2 ** net[7]           # Размер №-го свёрточного слоя\n",
        "    ConvKernel = net[8]              # Ядро №-го свёрточного слоя\n",
        "    makeMaxPooling = net[9]          # Делаем ли MaxPooling\n",
        "    maxPoolingSize = net[10]         # Размер MaxPooling\n",
        "    makeDropout = net[11]            # Делаем ли Dropout\n",
        "    makeDropoutSize = net[12]        # Размер Dropout\n",
        "    activation1 = net[13]            # Функция активации для сверточных слоев\n",
        "\n",
        "    activation2 = net[14]            # Функция активации для предпоследнего слоя\n",
        "    activation3 = net[15]            # Функция активации для выходного слоя\n",
        "\n",
        "    makeSecondNormalization = net[16] # Делаем ли финальную нормализацию\n",
        "    denseSize = 2 ** net[17]          # Размер полносвязного слоя\n",
        "\n",
        "    activation_list = ['linear','relu','elu','tanh','softmax','sigmoid','hard_sigmoid'] \n",
        "    dropout_list = [0.1, 0.2, 0.3, 0.4]\n",
        "\n",
        "    if makeFirstNormalization:        # Если делаем нормализацию в начале\n",
        "      # Добавляем слой BatchNormalization\n",
        "      model.add(BatchNormalization(input_shape=(32, 32, 3))) \n",
        "      # Добавляем Conv1D-слой с firstConvSize нейронами и ядром (firstConvKernel)\n",
        "      model.add(Conv2D(ConvSize, (firstConvKernel, firstConvKernel), activation=activation_list[activation0], padding='same')) \n",
        "\n",
        "    else:\n",
        "      # Добавляем Conv1D-слой с firstConvSize нейронами и ядром (firstConvKernel)\n",
        "      model.add(Conv2D(ConvSize, (firstConvKernel, firstConvKernel), activation=activation_list[activation0], padding='same')) \n",
        "\n",
        "    if makeMaxPooling0:                 # Если делаем maxpooling\n",
        "      model.add(MaxPooling2D(maxPoolingSize0, maxPoolingSize0))\n",
        "\n",
        "    if makeNumberConv:                  # Если делаем еще сверточные слои\n",
        "        i = 1\n",
        "        while i <= makeNumberConv:        \n",
        "            # Добавляем сверточные слои в количестве i\n",
        "            model.add(Conv2D(ConvSize, (firstConvKernel, firstConvKernel), activation=activation_list[activation1], padding='same'))\n",
        "            #i += 1\n",
        "            if makeMaxPooling:          # Если делаем MaxPooling\n",
        "                # Добавляем слой MaxPooling с размером maxPoolingSize\n",
        "                model.add(MaxPooling2D(pool_size=(maxPoolingSize, maxPoolingSize)))\n",
        "                #model.add(MaxPooling2D(pool_size=(2)))\n",
        "                if makeDropout:         # Если делаем Dropout\n",
        "                    # Добавляем слой Dropout с размером makeDropoutSiz\n",
        "                    model.add(Dropout(dropout_list[makeDropoutSize]))\n",
        "            i += 1\n",
        "\n",
        "    if makeSecondNormalization:     # Если делаем финальную нормализацию\n",
        "        model.add(BatchNormalization()) # Добавляем слой BatchNormalization\n",
        "    \n",
        "    model.add(Flatten())              # Добавляем слой Flatten\n",
        "\n",
        "    model.add(Dense(denseSize, activation=activation_list[activation2])) # Добавляем слой Dense с denseSize нейронами\n",
        "    model.add(Dense(10, activation=activation_list[activation3]))         # Добавляем Dense-слой с softmax-активацией и 10 нейронами\n",
        "    \n",
        "    return model  "
      ],
      "execution_count": 27,
      "outputs": []
    },
    {
      "cell_type": "code",
      "metadata": {
        "id": "P0fqdkD3Kzby"
      },
      "source": [
        "def evaluateNet(net, ep, verb):               # Функция вычисления результата работы сети\n",
        "    val = 0\n",
        "    time.time()\n",
        "    model = createConvNet(net)                # Создаем модель createConvNet\n",
        "\n",
        "    # Компилируем модель\n",
        "    model.compile(loss='categorical_crossentropy', optimizer=\"Adam\", metrics=['accuracy'])\n",
        "\n",
        "    model.fit(X_train[0:800], y_train[0:800], validation_data=(X_test[0:150], y_test[0:150]), epochs=10, batch_size=32, verbose=0) \n",
        "\n",
        "    scores = model.evaluate(X_test, y_test, verbose=0) \n",
        "    print(\"Accuracy: %.2f%%\" % (scores[1]*100))\n",
        "      \n",
        "    #val = history.history[\"val_loss\"][-1]    # Возвращаем точность на проверочной выборке с последней эпохи\n",
        "    \n",
        "    return val, model                        # Возвращаем точность\n",
        "\n",
        "\n",
        "def createRandomNet():              # Функция создания списка случайных параметров\n",
        "    net = []\n",
        "    net.append(random.randint(0,1)) #0.Делаем или нет нормализацию\n",
        "    net.append(random.randint(3,6)) #1.Первый свёрточный слой от 8 до 64 нейронов\n",
        "    net.append(random.randint(3,7)) #2.Ядро первого свёрточного слоя от 3 до 7\n",
        "    net.append(random.randint(0,6)) #3. Функция активации первого слоя\n",
        "    net.append(random.randint(0,1)) #4.Делаем ли MaxPooling\n",
        "    net.append(random.randint(2,3)) #5.Размер MaxPooling\n",
        "    net.append(random.randint(1,4)) #6.определяем кол-во сверточных слоев\n",
        "    net.append(random.randint(3,10)) #7.Cвёрточный слой от 8 до 1024 нейронов\n",
        "    net.append(random.randint(3,7)) #8. Ядро второго свёрточного слоя от 3 до 7\n",
        "    net.append(random.randint(0,1)) #9. Делаем ли MaxPooling\n",
        "    net.append(random.randint(2,3)) #10.Размер MaxPooling\n",
        "    net.append(random.randint(0,1)) #11. Делаем ли Dropout\n",
        "    net.append(random.randint(0,3)) #12.Размер Dropout\n",
        "    net.append(random.randint(0,6)) #13.Функция активации для сверточных слоев\n",
        "    net.append(random.randint(0,6)) #14.Функция активации для предпоследнего слоя\n",
        "    net.append(random.randint(0,6)) #15.Функция активации для выходного слоя\n",
        "    net.append(random.randint(0,1)) #16.Делаем ли финальную нормализацию\n",
        "    net.append(random.randint(3,6)) #17. Размер полносвязного слоя\n",
        "\n",
        "    return net"
      ],
      "execution_count": 30,
      "outputs": []
    },
    {
      "cell_type": "code",
      "metadata": {
        "id": "rIyYQc3EKze1",
        "colab": {
          "base_uri": "https://localhost:8080/"
        },
        "outputId": "f4d541ea-36f9-4141-952a-21b259589c19"
      },
      "source": [
        "n = 20              # Общее число ботов\n",
        "nsurv = 10          # Количество выживших (столько лучших переходит в новую популяцию)\n",
        "nnew = n - nsurv    # Количество новых (столько новых ботов создается)\n",
        "l = 18              # Размер бота\n",
        "epohs = 5          # количество эпох\n",
        "\n",
        "mut = 0.09          # коэфициент мутаций\n",
        "\n",
        "popul = []          # Массив популяции\n",
        "val = []            # Одномерный массив значений этих ботов\n",
        "\n",
        "#Создаём случайных ботов\n",
        "for i in range(n):\n",
        "  popul.append(createRandomNet())\n",
        "  \n",
        "for it in range(epohs):                 # Пробегаем по всем эпохам\n",
        "  val = []                              # Обнуляем значения бота\n",
        "  curr_time = time.time()\n",
        "  for i in range(n):                    # Пробегаем в цикле по всем ботам \n",
        "    bot = popul[i]                      # Берем очередного бота\n",
        "    f, model_sum = evaluateNet(bot, 3, 0) # Вычисляем точность текущего бота\n",
        "    val.append(f)                       # Добавляем полученное значение в список val\n",
        "  \n",
        "  sval = sorted(val, reverse=0)         # Сортируем val\n",
        "  # Выводим 5 лучших ботов\n",
        "  print(it, time.time() - curr_time, \" \", sval[0:5],popul[:5]) \n",
        "  \n",
        "  newpopul = []                         # Создаем пустой список под новую популяцию\n",
        "  for i in range(nsurv):                # Пробегаем по всем выжившим ботам\n",
        "    index = val.index(sval[i])          # Получаем индекс очередного бота из списка лучших в списке val\n",
        "    newpopul.append(popul[index])       # Добавляем в новую популяцию бота из popul с индексом index\n",
        "    \n",
        "  for i in range(nnew):                 # Проходимся в цикле nnew-раз  \n",
        "    indexp1 = random.randint(0,nsurv-1) # Случайный индекс первого родителя в диапазоне от 0 до nsurv - 1\n",
        "    indexp2 = random.randint(0,nsurv-1) # Случайный индекс первого родителя в диапазоне от 0 до nsurv - 1\n",
        "    botp1 = newpopul[indexp1]           # Получаем первого бота-родителя по indexp1\n",
        "    botp2 = newpopul[indexp2]           # Получаем второго бота-родителя по indexp2    \n",
        "    newbot = []                         # Создаем пустой список под значения нового бота    \n",
        "    net4Mut = createRandomNet()         # Создаем случайную сеть для мутаций\n",
        "    for j in range(l):                  # Пробегаем по всей длине размерности (784)      \n",
        "      x = 0      \n",
        "      pindex = random.random()          # Получаем случайное число в диапазоне от 0 до 1\n",
        "\n",
        "      # Если pindex меньше 0.5, то берем значения от первого бота, иначе от второго\n",
        "      if pindex < 0.5:\n",
        "        x = botp1[j]\n",
        "      else:\n",
        "        x = botp2[j]\n",
        "      \n",
        "      # С вероятностью mut устанавливаем значение бота из net4Mut\n",
        "      if (random.random() < mut):\n",
        "        x = net4Mut[j]\n",
        "        \n",
        "      newbot.append(x)                  # Добавляем очередное значение в нового бота      \n",
        "    newpopul.append(newbot)             # Добавляем бота в новую популяцию      \n",
        "  popul = newpopul                      # Записываем в popul новую посчитанную популяцию"
      ],
      "execution_count": null,
      "outputs": [
        {
          "output_type": "stream",
          "text": [
            "Accuracy: 10.00%\n"
          ],
          "name": "stdout"
        }
      ]
    },
    {
      "cell_type": "code",
      "metadata": {
        "id": "zi1I6FYhYejo"
      },
      "source": [
        ""
      ],
      "execution_count": null,
      "outputs": []
    },
    {
      "cell_type": "code",
      "metadata": {
        "id": "dRAeF9gEYeoB"
      },
      "source": [
        ""
      ],
      "execution_count": null,
      "outputs": []
    },
    {
      "cell_type": "code",
      "metadata": {
        "id": "VP9vwUOCXrBi"
      },
      "source": [
        ""
      ],
      "execution_count": null,
      "outputs": []
    },
    {
      "cell_type": "code",
      "metadata": {
        "id": "OXL2eN23XrGd"
      },
      "source": [
        "#------------------------------------------------------------------------------------------"
      ],
      "execution_count": null,
      "outputs": []
    }
  ]
}